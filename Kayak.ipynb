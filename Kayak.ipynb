{
 "cells": [
  {
   "cell_type": "code",
   "execution_count": 2,
   "metadata": {},
   "outputs": [],
   "source": [
    "import pandas as pd\n",
    "import requests\n",
    "import json\n",
    "import plotly.express as px\n",
    "\n",
    "import warnings\n",
    "warnings.simplefilter(action='ignore', category=FutureWarning)"
   ]
  },
  {
   "cell_type": "code",
   "execution_count": 3,
   "metadata": {},
   "outputs": [],
   "source": [
    "# !python3 ./Scrap_best-cities.py"
   ]
  },
  {
   "cell_type": "code",
   "execution_count": 4,
   "metadata": {},
   "outputs": [],
   "source": [
    "f = open(\"Best_cities.json\")\n",
    "cities = json.load(f)\n",
    "f.close()\n",
    "\n",
    "destinations = []\n",
    "\n",
    "for i in cities:\n",
    "    destinations.append(i['city'])"
   ]
  },
  {
   "cell_type": "code",
   "execution_count": 5,
   "metadata": {},
   "outputs": [],
   "source": [
    "coordenates = {}\n",
    "for i, val in enumerate(destinations):\n",
    "    coordenates[val] = {}"
   ]
  },
  {
   "cell_type": "code",
   "execution_count": 6,
   "metadata": {},
   "outputs": [],
   "source": [
    "for i in range(len(destinations)):\n",
    "    payload = {'city': f'{destinations[i]}','format': 'json','limit' : 1}\n",
    "    r = requests.get('https://nominatim.openstreetmap.org/search', params=payload)\n",
    "    lat = r.json()[0]['lat']\n",
    "    lon = r.json()[0]['lon']\n",
    "    coordenates[f'{destinations[i]}'] = [float(lat),float(lon)]"
   ]
  },
  {
   "cell_type": "code",
   "execution_count": 7,
   "metadata": {},
   "outputs": [],
   "source": [
    "coord = pd.DataFrame(coordenates).transpose()\n",
    "coord.columns = ['latitude','longitude']\n",
    "coord = coord.rename_axis('destination').reset_index()"
   ]
  },
  {
   "cell_type": "code",
   "execution_count": 8,
   "metadata": {},
   "outputs": [
    {
     "data": {
      "text/html": [
       "<div>\n",
       "<style scoped>\n",
       "    .dataframe tbody tr th:only-of-type {\n",
       "        vertical-align: middle;\n",
       "    }\n",
       "\n",
       "    .dataframe tbody tr th {\n",
       "        vertical-align: top;\n",
       "    }\n",
       "\n",
       "    .dataframe thead th {\n",
       "        text-align: right;\n",
       "    }\n",
       "</style>\n",
       "<table border=\"1\" class=\"dataframe\">\n",
       "  <thead>\n",
       "    <tr style=\"text-align: right;\">\n",
       "      <th></th>\n",
       "      <th>destination</th>\n",
       "      <th>latitude</th>\n",
       "      <th>longitude</th>\n",
       "    </tr>\n",
       "  </thead>\n",
       "  <tbody>\n",
       "    <tr>\n",
       "      <th>0</th>\n",
       "      <td>Mont Saint Michel</td>\n",
       "      <td>48.635954</td>\n",
       "      <td>-1.511460</td>\n",
       "    </tr>\n",
       "    <tr>\n",
       "      <th>1</th>\n",
       "      <td>St Malo</td>\n",
       "      <td>49.314695</td>\n",
       "      <td>-96.953823</td>\n",
       "    </tr>\n",
       "    <tr>\n",
       "      <th>2</th>\n",
       "      <td>Bayeux</td>\n",
       "      <td>49.276462</td>\n",
       "      <td>-0.702474</td>\n",
       "    </tr>\n",
       "    <tr>\n",
       "      <th>3</th>\n",
       "      <td>Le Havre</td>\n",
       "      <td>49.493898</td>\n",
       "      <td>0.107973</td>\n",
       "    </tr>\n",
       "    <tr>\n",
       "      <th>4</th>\n",
       "      <td>Rouen</td>\n",
       "      <td>49.440459</td>\n",
       "      <td>1.093966</td>\n",
       "    </tr>\n",
       "  </tbody>\n",
       "</table>\n",
       "</div>"
      ],
      "text/plain": [
       "         destination   latitude  longitude\n",
       "0  Mont Saint Michel  48.635954  -1.511460\n",
       "1            St Malo  49.314695 -96.953823\n",
       "2             Bayeux  49.276462  -0.702474\n",
       "3           Le Havre  49.493898   0.107973\n",
       "4              Rouen  49.440459   1.093966"
      ]
     },
     "execution_count": 8,
     "metadata": {},
     "output_type": "execute_result"
    }
   ],
   "source": [
    "coord.head()"
   ]
  },
  {
   "cell_type": "code",
   "execution_count": 9,
   "metadata": {},
   "outputs": [],
   "source": [
    "destination_weather = {}\n",
    "for dest, lat, lon in zip(coord['destination'],coord['latitude'],coord['longitude']):\n",
    "    data = requests.get(f'https://api.openweathermap.org/data/2.5/forecast?lat={lat}&lon={lon}&appid=ddba69ada430d874329049dbdca185fc&units=metric').json()\n",
    "\n",
    "    weather = {}\n",
    "    for i in range(len(data['list'])):\n",
    "        \n",
    "        date = data['list'][i]['dt_txt'] # date and time ISO, UTC\n",
    "        temp = data['list'][i]['main']['temp'] # celcius\n",
    "        cloud = data['list'][i]['clouds']['all'] #cloudiness %\n",
    "        rain = data['list'][i]['pop']  # prob precipitation\n",
    "        wind = data['list'][i]['wind']['speed'] # m/s\n",
    "\n",
    "        weather[date] = {'temp' : temp,\n",
    "                    'cloud' : cloud,\n",
    "                    'rain' : rain*100,\n",
    "                    'wind' : wind }\n",
    "\n",
    "    weather_df = pd.DataFrame(weather).T.rename_axis('date').reset_index()\n",
    "    weather_df['date'] = weather_df['date'].str[:-9]\n",
    "    weather_df = weather_df.groupby('date').mean().reset_index()\n",
    "\n",
    "    destination_weather[dest] =  weather_df"
   ]
  },
  {
   "cell_type": "code",
   "execution_count": 10,
   "metadata": {},
   "outputs": [
    {
     "data": {
      "text/html": [
       "<div>\n",
       "<style scoped>\n",
       "    .dataframe tbody tr th:only-of-type {\n",
       "        vertical-align: middle;\n",
       "    }\n",
       "\n",
       "    .dataframe tbody tr th {\n",
       "        vertical-align: top;\n",
       "    }\n",
       "\n",
       "    .dataframe thead th {\n",
       "        text-align: right;\n",
       "    }\n",
       "</style>\n",
       "<table border=\"1\" class=\"dataframe\">\n",
       "  <thead>\n",
       "    <tr style=\"text-align: right;\">\n",
       "      <th></th>\n",
       "      <th>date</th>\n",
       "      <th>temp</th>\n",
       "      <th>cloud</th>\n",
       "      <th>rain</th>\n",
       "      <th>wind</th>\n",
       "    </tr>\n",
       "  </thead>\n",
       "  <tbody>\n",
       "    <tr>\n",
       "      <th>0</th>\n",
       "      <td>2023-10-04</td>\n",
       "      <td>22.93200</td>\n",
       "      <td>44.000</td>\n",
       "      <td>0.0</td>\n",
       "      <td>5.126000</td>\n",
       "    </tr>\n",
       "    <tr>\n",
       "      <th>1</th>\n",
       "      <td>2023-10-05</td>\n",
       "      <td>22.17250</td>\n",
       "      <td>52.625</td>\n",
       "      <td>0.0</td>\n",
       "      <td>3.038750</td>\n",
       "    </tr>\n",
       "    <tr>\n",
       "      <th>2</th>\n",
       "      <td>2023-10-06</td>\n",
       "      <td>21.55750</td>\n",
       "      <td>59.625</td>\n",
       "      <td>0.0</td>\n",
       "      <td>1.700000</td>\n",
       "    </tr>\n",
       "    <tr>\n",
       "      <th>3</th>\n",
       "      <td>2023-10-07</td>\n",
       "      <td>22.08000</td>\n",
       "      <td>45.125</td>\n",
       "      <td>0.0</td>\n",
       "      <td>1.151250</td>\n",
       "    </tr>\n",
       "    <tr>\n",
       "      <th>4</th>\n",
       "      <td>2023-10-08</td>\n",
       "      <td>22.29875</td>\n",
       "      <td>21.125</td>\n",
       "      <td>0.0</td>\n",
       "      <td>2.411250</td>\n",
       "    </tr>\n",
       "    <tr>\n",
       "      <th>5</th>\n",
       "      <td>2023-10-09</td>\n",
       "      <td>20.83000</td>\n",
       "      <td>28.000</td>\n",
       "      <td>0.0</td>\n",
       "      <td>2.273333</td>\n",
       "    </tr>\n",
       "  </tbody>\n",
       "</table>\n",
       "</div>"
      ],
      "text/plain": [
       "         date      temp   cloud  rain      wind\n",
       "0  2023-10-04  22.93200  44.000   0.0  5.126000\n",
       "1  2023-10-05  22.17250  52.625   0.0  3.038750\n",
       "2  2023-10-06  21.55750  59.625   0.0  1.700000\n",
       "3  2023-10-07  22.08000  45.125   0.0  1.151250\n",
       "4  2023-10-08  22.29875  21.125   0.0  2.411250\n",
       "5  2023-10-09  20.83000  28.000   0.0  2.273333"
      ]
     },
     "execution_count": 10,
     "metadata": {},
     "output_type": "execute_result"
    }
   ],
   "source": [
    "destination_weather['Marseille']"
   ]
  },
  {
   "cell_type": "code",
   "execution_count": 11,
   "metadata": {},
   "outputs": [],
   "source": [
    "best_weather = {}\n",
    "for key, value in destination_weather.items():\n",
    "    best_weather[key] = value.mean()\n",
    "\n",
    "best_weather_df = pd.DataFrame(best_weather).T\n",
    "best_weather_df['weather_score'] = best_weather_df.apply(lambda x: -100/(x.temp - (x.cloud + x.rain + x.wind)), axis=1) ## temp and rain are multiplied by 2 and 3 respectively to have them weigh more in score calculation\n",
    "best_weather_df = best_weather_df.rename_axis(\"destination\").reset_index()"
   ]
  },
  {
   "cell_type": "code",
   "execution_count": 12,
   "metadata": {},
   "outputs": [],
   "source": [
    "best_weather_df = best_weather_df.merge(coord,on='destination')\n",
    "best_weather_df.to_csv(\"destination_weather.csv\")\n",
    "best_weather_df = best_weather_df.sort_values(by='weather_score',ascending=False)\n",
    "best_weather_df[['temp', 'rain', 'wind', 'cloud']] = best_weather_df[['temp', 'rain', 'wind', 'cloud']].apply(lambda x : round(x,2))"
   ]
  },
  {
   "cell_type": "markdown",
   "metadata": {},
   "source": [
    "### Top 5 cities in terms of weather are :"
   ]
  },
  {
   "cell_type": "code",
   "execution_count": 13,
   "metadata": {},
   "outputs": [
    {
     "data": {
      "text/html": [
       "<div>\n",
       "<style scoped>\n",
       "    .dataframe tbody tr th:only-of-type {\n",
       "        vertical-align: middle;\n",
       "    }\n",
       "\n",
       "    .dataframe tbody tr th {\n",
       "        vertical-align: top;\n",
       "    }\n",
       "\n",
       "    .dataframe thead th {\n",
       "        text-align: right;\n",
       "    }\n",
       "</style>\n",
       "<table border=\"1\" class=\"dataframe\">\n",
       "  <thead>\n",
       "    <tr style=\"text-align: right;\">\n",
       "      <th></th>\n",
       "      <th>destination</th>\n",
       "      <th>temp</th>\n",
       "      <th>cloud</th>\n",
       "      <th>rain</th>\n",
       "      <th>wind</th>\n",
       "      <th>weather_score</th>\n",
       "      <th>latitude</th>\n",
       "      <th>longitude</th>\n",
       "    </tr>\n",
       "  </thead>\n",
       "  <tbody>\n",
       "    <tr>\n",
       "      <th>27</th>\n",
       "      <td>Collioure</td>\n",
       "      <td>20.94</td>\n",
       "      <td>39.49</td>\n",
       "      <td>0.00</td>\n",
       "      <td>1.93</td>\n",
       "      <td>4.882005</td>\n",
       "      <td>42.525050</td>\n",
       "      <td>3.083155</td>\n",
       "    </tr>\n",
       "    <tr>\n",
       "      <th>19</th>\n",
       "      <td>Cassis</td>\n",
       "      <td>21.83</td>\n",
       "      <td>41.30</td>\n",
       "      <td>0.00</td>\n",
       "      <td>2.40</td>\n",
       "      <td>4.571257</td>\n",
       "      <td>43.214036</td>\n",
       "      <td>5.539632</td>\n",
       "    </tr>\n",
       "    <tr>\n",
       "      <th>25</th>\n",
       "      <td>Aigues Mortes</td>\n",
       "      <td>20.29</td>\n",
       "      <td>39.90</td>\n",
       "      <td>0.00</td>\n",
       "      <td>2.62</td>\n",
       "      <td>4.497175</td>\n",
       "      <td>43.566152</td>\n",
       "      <td>4.191540</td>\n",
       "    </tr>\n",
       "    <tr>\n",
       "      <th>20</th>\n",
       "      <td>Marseille</td>\n",
       "      <td>21.98</td>\n",
       "      <td>41.75</td>\n",
       "      <td>0.00</td>\n",
       "      <td>2.62</td>\n",
       "      <td>4.466618</td>\n",
       "      <td>43.296174</td>\n",
       "      <td>5.369953</td>\n",
       "    </tr>\n",
       "    <tr>\n",
       "      <th>34</th>\n",
       "      <td>La Rochelle</td>\n",
       "      <td>18.56</td>\n",
       "      <td>37.70</td>\n",
       "      <td>0.00</td>\n",
       "      <td>3.44</td>\n",
       "      <td>4.427505</td>\n",
       "      <td>46.159113</td>\n",
       "      <td>-1.152043</td>\n",
       "    </tr>\n",
       "    <tr>\n",
       "      <th>18</th>\n",
       "      <td>Bormes les Mimosas</td>\n",
       "      <td>20.50</td>\n",
       "      <td>41.32</td>\n",
       "      <td>0.00</td>\n",
       "      <td>2.08</td>\n",
       "      <td>4.365843</td>\n",
       "      <td>43.150697</td>\n",
       "      <td>6.341928</td>\n",
       "    </tr>\n",
       "    <tr>\n",
       "      <th>24</th>\n",
       "      <td>Nímes</td>\n",
       "      <td>19.49</td>\n",
       "      <td>39.98</td>\n",
       "      <td>0.00</td>\n",
       "      <td>2.83</td>\n",
       "      <td>4.289095</td>\n",
       "      <td>43.837425</td>\n",
       "      <td>4.360069</td>\n",
       "    </tr>\n",
       "    <tr>\n",
       "      <th>21</th>\n",
       "      <td>Aix en Provence</td>\n",
       "      <td>21.15</td>\n",
       "      <td>44.35</td>\n",
       "      <td>0.00</td>\n",
       "      <td>1.65</td>\n",
       "      <td>4.022994</td>\n",
       "      <td>43.529842</td>\n",
       "      <td>5.447474</td>\n",
       "    </tr>\n",
       "    <tr>\n",
       "      <th>28</th>\n",
       "      <td>Carcassonne</td>\n",
       "      <td>20.28</td>\n",
       "      <td>42.84</td>\n",
       "      <td>0.00</td>\n",
       "      <td>2.50</td>\n",
       "      <td>3.991241</td>\n",
       "      <td>43.213036</td>\n",
       "      <td>2.349107</td>\n",
       "    </tr>\n",
       "    <tr>\n",
       "      <th>26</th>\n",
       "      <td>Saintes Maries de la mer</td>\n",
       "      <td>20.31</td>\n",
       "      <td>41.85</td>\n",
       "      <td>0.00</td>\n",
       "      <td>3.79</td>\n",
       "      <td>3.947587</td>\n",
       "      <td>43.451592</td>\n",
       "      <td>4.427720</td>\n",
       "    </tr>\n",
       "    <tr>\n",
       "      <th>22</th>\n",
       "      <td>Avignon</td>\n",
       "      <td>19.18</td>\n",
       "      <td>41.93</td>\n",
       "      <td>0.00</td>\n",
       "      <td>3.32</td>\n",
       "      <td>3.834676</td>\n",
       "      <td>43.949249</td>\n",
       "      <td>4.805901</td>\n",
       "    </tr>\n",
       "    <tr>\n",
       "      <th>23</th>\n",
       "      <td>Uzès</td>\n",
       "      <td>18.42</td>\n",
       "      <td>42.40</td>\n",
       "      <td>0.00</td>\n",
       "      <td>3.16</td>\n",
       "      <td>3.684316</td>\n",
       "      <td>44.012128</td>\n",
       "      <td>4.419672</td>\n",
       "    </tr>\n",
       "    <tr>\n",
       "      <th>31</th>\n",
       "      <td>Montauban</td>\n",
       "      <td>18.81</td>\n",
       "      <td>46.03</td>\n",
       "      <td>0.00</td>\n",
       "      <td>1.88</td>\n",
       "      <td>3.435600</td>\n",
       "      <td>44.017584</td>\n",
       "      <td>1.354999</td>\n",
       "    </tr>\n",
       "    <tr>\n",
       "      <th>30</th>\n",
       "      <td>Toulouse</td>\n",
       "      <td>19.93</td>\n",
       "      <td>47.49</td>\n",
       "      <td>0.00</td>\n",
       "      <td>2.19</td>\n",
       "      <td>3.361574</td>\n",
       "      <td>43.604462</td>\n",
       "      <td>1.444247</td>\n",
       "    </tr>\n",
       "    <tr>\n",
       "      <th>17</th>\n",
       "      <td>Verdon Gorge</td>\n",
       "      <td>16.61</td>\n",
       "      <td>45.60</td>\n",
       "      <td>0.00</td>\n",
       "      <td>1.64</td>\n",
       "      <td>3.264781</td>\n",
       "      <td>43.749656</td>\n",
       "      <td>6.328562</td>\n",
       "    </tr>\n",
       "    <tr>\n",
       "      <th>14</th>\n",
       "      <td>Annecy</td>\n",
       "      <td>15.30</td>\n",
       "      <td>45.38</td>\n",
       "      <td>0.00</td>\n",
       "      <td>1.25</td>\n",
       "      <td>3.192551</td>\n",
       "      <td>45.899235</td>\n",
       "      <td>6.128885</td>\n",
       "    </tr>\n",
       "    <tr>\n",
       "      <th>32</th>\n",
       "      <td>Biarritz</td>\n",
       "      <td>20.38</td>\n",
       "      <td>51.68</td>\n",
       "      <td>0.00</td>\n",
       "      <td>2.29</td>\n",
       "      <td>2.975924</td>\n",
       "      <td>43.483252</td>\n",
       "      <td>-1.559278</td>\n",
       "    </tr>\n",
       "    <tr>\n",
       "      <th>33</th>\n",
       "      <td>Bayonne</td>\n",
       "      <td>20.32</td>\n",
       "      <td>54.53</td>\n",
       "      <td>0.00</td>\n",
       "      <td>2.13</td>\n",
       "      <td>2.752505</td>\n",
       "      <td>43.494514</td>\n",
       "      <td>-1.473666</td>\n",
       "    </tr>\n",
       "    <tr>\n",
       "      <th>16</th>\n",
       "      <td>Lyon</td>\n",
       "      <td>17.19</td>\n",
       "      <td>52.68</td>\n",
       "      <td>0.00</td>\n",
       "      <td>1.41</td>\n",
       "      <td>2.710314</td>\n",
       "      <td>45.757814</td>\n",
       "      <td>4.832011</td>\n",
       "    </tr>\n",
       "    <tr>\n",
       "      <th>15</th>\n",
       "      <td>Grenoble</td>\n",
       "      <td>17.70</td>\n",
       "      <td>54.19</td>\n",
       "      <td>0.00</td>\n",
       "      <td>1.34</td>\n",
       "      <td>2.643692</td>\n",
       "      <td>45.187560</td>\n",
       "      <td>5.735782</td>\n",
       "    </tr>\n",
       "    <tr>\n",
       "      <th>13</th>\n",
       "      <td>Dijon</td>\n",
       "      <td>15.57</td>\n",
       "      <td>54.55</td>\n",
       "      <td>0.00</td>\n",
       "      <td>2.28</td>\n",
       "      <td>2.424005</td>\n",
       "      <td>47.321581</td>\n",
       "      <td>5.041470</td>\n",
       "    </tr>\n",
       "    <tr>\n",
       "      <th>5</th>\n",
       "      <td>Paris</td>\n",
       "      <td>18.00</td>\n",
       "      <td>59.67</td>\n",
       "      <td>0.00</td>\n",
       "      <td>1.29</td>\n",
       "      <td>2.328267</td>\n",
       "      <td>48.853495</td>\n",
       "      <td>2.348391</td>\n",
       "    </tr>\n",
       "    <tr>\n",
       "      <th>12</th>\n",
       "      <td>Besancon</td>\n",
       "      <td>14.58</td>\n",
       "      <td>59.98</td>\n",
       "      <td>0.00</td>\n",
       "      <td>1.72</td>\n",
       "      <td>2.122489</td>\n",
       "      <td>47.238022</td>\n",
       "      <td>6.024362</td>\n",
       "    </tr>\n",
       "    <tr>\n",
       "      <th>11</th>\n",
       "      <td>Eguisheim</td>\n",
       "      <td>15.53</td>\n",
       "      <td>61.75</td>\n",
       "      <td>0.00</td>\n",
       "      <td>1.37</td>\n",
       "      <td>2.101288</td>\n",
       "      <td>48.044797</td>\n",
       "      <td>7.307962</td>\n",
       "    </tr>\n",
       "    <tr>\n",
       "      <th>10</th>\n",
       "      <td>Colmar</td>\n",
       "      <td>15.34</td>\n",
       "      <td>61.83</td>\n",
       "      <td>0.00</td>\n",
       "      <td>1.33</td>\n",
       "      <td>2.090893</td>\n",
       "      <td>48.077752</td>\n",
       "      <td>7.357964</td>\n",
       "    </tr>\n",
       "    <tr>\n",
       "      <th>0</th>\n",
       "      <td>Mont Saint Michel</td>\n",
       "      <td>15.63</td>\n",
       "      <td>62.95</td>\n",
       "      <td>0.00</td>\n",
       "      <td>2.12</td>\n",
       "      <td>2.022554</td>\n",
       "      <td>48.635954</td>\n",
       "      <td>-1.511460</td>\n",
       "    </tr>\n",
       "    <tr>\n",
       "      <th>4</th>\n",
       "      <td>Rouen</td>\n",
       "      <td>15.35</td>\n",
       "      <td>64.68</td>\n",
       "      <td>0.00</td>\n",
       "      <td>1.98</td>\n",
       "      <td>1.948715</td>\n",
       "      <td>49.440459</td>\n",
       "      <td>1.093966</td>\n",
       "    </tr>\n",
       "    <tr>\n",
       "      <th>9</th>\n",
       "      <td>Chateau du Haut Koenigsbourg</td>\n",
       "      <td>12.43</td>\n",
       "      <td>63.78</td>\n",
       "      <td>0.00</td>\n",
       "      <td>1.10</td>\n",
       "      <td>1.906929</td>\n",
       "      <td>48.249523</td>\n",
       "      <td>7.345492</td>\n",
       "    </tr>\n",
       "    <tr>\n",
       "      <th>8</th>\n",
       "      <td>Strasbourg</td>\n",
       "      <td>15.17</td>\n",
       "      <td>66.67</td>\n",
       "      <td>0.00</td>\n",
       "      <td>1.47</td>\n",
       "      <td>1.887767</td>\n",
       "      <td>48.584614</td>\n",
       "      <td>7.750713</td>\n",
       "    </tr>\n",
       "    <tr>\n",
       "      <th>2</th>\n",
       "      <td>Bayeux</td>\n",
       "      <td>15.30</td>\n",
       "      <td>69.36</td>\n",
       "      <td>0.00</td>\n",
       "      <td>2.47</td>\n",
       "      <td>1.769167</td>\n",
       "      <td>49.276462</td>\n",
       "      <td>-0.702474</td>\n",
       "    </tr>\n",
       "    <tr>\n",
       "      <th>3</th>\n",
       "      <td>Le Havre</td>\n",
       "      <td>16.58</td>\n",
       "      <td>72.58</td>\n",
       "      <td>0.00</td>\n",
       "      <td>2.80</td>\n",
       "      <td>1.700428</td>\n",
       "      <td>49.493898</td>\n",
       "      <td>0.107973</td>\n",
       "    </tr>\n",
       "    <tr>\n",
       "      <th>6</th>\n",
       "      <td>Amiens</td>\n",
       "      <td>15.27</td>\n",
       "      <td>75.22</td>\n",
       "      <td>0.48</td>\n",
       "      <td>2.78</td>\n",
       "      <td>1.582069</td>\n",
       "      <td>49.894171</td>\n",
       "      <td>2.295695</td>\n",
       "    </tr>\n",
       "    <tr>\n",
       "      <th>7</th>\n",
       "      <td>Lille</td>\n",
       "      <td>15.37</td>\n",
       "      <td>74.94</td>\n",
       "      <td>1.50</td>\n",
       "      <td>3.44</td>\n",
       "      <td>1.550025</td>\n",
       "      <td>50.636565</td>\n",
       "      <td>3.063528</td>\n",
       "    </tr>\n",
       "    <tr>\n",
       "      <th>29</th>\n",
       "      <td>Ariege</td>\n",
       "      <td>8.86</td>\n",
       "      <td>84.79</td>\n",
       "      <td>0.31</td>\n",
       "      <td>3.99</td>\n",
       "      <td>1.246466</td>\n",
       "      <td>51.181112</td>\n",
       "      <td>-55.984474</td>\n",
       "    </tr>\n",
       "    <tr>\n",
       "      <th>1</th>\n",
       "      <td>St Malo</td>\n",
       "      <td>9.44</td>\n",
       "      <td>70.59</td>\n",
       "      <td>34.11</td>\n",
       "      <td>4.21</td>\n",
       "      <td>1.005406</td>\n",
       "      <td>49.314695</td>\n",
       "      <td>-96.953823</td>\n",
       "    </tr>\n",
       "  </tbody>\n",
       "</table>\n",
       "</div>"
      ],
      "text/plain": [
       "                     destination   temp  cloud   rain  wind  weather_score  \\\n",
       "27                     Collioure  20.94  39.49   0.00  1.93       4.882005   \n",
       "19                        Cassis  21.83  41.30   0.00  2.40       4.571257   \n",
       "25                 Aigues Mortes  20.29  39.90   0.00  2.62       4.497175   \n",
       "20                     Marseille  21.98  41.75   0.00  2.62       4.466618   \n",
       "34                   La Rochelle  18.56  37.70   0.00  3.44       4.427505   \n",
       "18            Bormes les Mimosas  20.50  41.32   0.00  2.08       4.365843   \n",
       "24                         Nímes  19.49  39.98   0.00  2.83       4.289095   \n",
       "21               Aix en Provence  21.15  44.35   0.00  1.65       4.022994   \n",
       "28                   Carcassonne  20.28  42.84   0.00  2.50       3.991241   \n",
       "26      Saintes Maries de la mer  20.31  41.85   0.00  3.79       3.947587   \n",
       "22                       Avignon  19.18  41.93   0.00  3.32       3.834676   \n",
       "23                          Uzès  18.42  42.40   0.00  3.16       3.684316   \n",
       "31                     Montauban  18.81  46.03   0.00  1.88       3.435600   \n",
       "30                      Toulouse  19.93  47.49   0.00  2.19       3.361574   \n",
       "17                  Verdon Gorge  16.61  45.60   0.00  1.64       3.264781   \n",
       "14                        Annecy  15.30  45.38   0.00  1.25       3.192551   \n",
       "32                      Biarritz  20.38  51.68   0.00  2.29       2.975924   \n",
       "33                       Bayonne  20.32  54.53   0.00  2.13       2.752505   \n",
       "16                          Lyon  17.19  52.68   0.00  1.41       2.710314   \n",
       "15                      Grenoble  17.70  54.19   0.00  1.34       2.643692   \n",
       "13                         Dijon  15.57  54.55   0.00  2.28       2.424005   \n",
       "5                          Paris  18.00  59.67   0.00  1.29       2.328267   \n",
       "12                      Besancon  14.58  59.98   0.00  1.72       2.122489   \n",
       "11                     Eguisheim  15.53  61.75   0.00  1.37       2.101288   \n",
       "10                        Colmar  15.34  61.83   0.00  1.33       2.090893   \n",
       "0              Mont Saint Michel  15.63  62.95   0.00  2.12       2.022554   \n",
       "4                          Rouen  15.35  64.68   0.00  1.98       1.948715   \n",
       "9   Chateau du Haut Koenigsbourg  12.43  63.78   0.00  1.10       1.906929   \n",
       "8                     Strasbourg  15.17  66.67   0.00  1.47       1.887767   \n",
       "2                         Bayeux  15.30  69.36   0.00  2.47       1.769167   \n",
       "3                       Le Havre  16.58  72.58   0.00  2.80       1.700428   \n",
       "6                         Amiens  15.27  75.22   0.48  2.78       1.582069   \n",
       "7                          Lille  15.37  74.94   1.50  3.44       1.550025   \n",
       "29                        Ariege   8.86  84.79   0.31  3.99       1.246466   \n",
       "1                        St Malo   9.44  70.59  34.11  4.21       1.005406   \n",
       "\n",
       "     latitude  longitude  \n",
       "27  42.525050   3.083155  \n",
       "19  43.214036   5.539632  \n",
       "25  43.566152   4.191540  \n",
       "20  43.296174   5.369953  \n",
       "34  46.159113  -1.152043  \n",
       "18  43.150697   6.341928  \n",
       "24  43.837425   4.360069  \n",
       "21  43.529842   5.447474  \n",
       "28  43.213036   2.349107  \n",
       "26  43.451592   4.427720  \n",
       "22  43.949249   4.805901  \n",
       "23  44.012128   4.419672  \n",
       "31  44.017584   1.354999  \n",
       "30  43.604462   1.444247  \n",
       "17  43.749656   6.328562  \n",
       "14  45.899235   6.128885  \n",
       "32  43.483252  -1.559278  \n",
       "33  43.494514  -1.473666  \n",
       "16  45.757814   4.832011  \n",
       "15  45.187560   5.735782  \n",
       "13  47.321581   5.041470  \n",
       "5   48.853495   2.348391  \n",
       "12  47.238022   6.024362  \n",
       "11  48.044797   7.307962  \n",
       "10  48.077752   7.357964  \n",
       "0   48.635954  -1.511460  \n",
       "4   49.440459   1.093966  \n",
       "9   48.249523   7.345492  \n",
       "8   48.584614   7.750713  \n",
       "2   49.276462  -0.702474  \n",
       "3   49.493898   0.107973  \n",
       "6   49.894171   2.295695  \n",
       "7   50.636565   3.063528  \n",
       "29  51.181112 -55.984474  \n",
       "1   49.314695 -96.953823  "
      ]
     },
     "execution_count": 13,
     "metadata": {},
     "output_type": "execute_result"
    }
   ],
   "source": [
    "best_weather_df"
   ]
  },
  {
   "cell_type": "markdown",
   "metadata": {},
   "source": [
    "### Booking scraping"
   ]
  },
  {
   "cell_type": "code",
   "execution_count": 14,
   "metadata": {},
   "outputs": [],
   "source": [
    "url_list = []\n",
    "for i in destinations:\n",
    "    i = i.replace(\" \",\"+\")\n",
    "    url_list.append(f\"https://www.booking.com/searchresults.fr.html?ss={i}\")"
   ]
  },
  {
   "cell_type": "code",
   "execution_count": 15,
   "metadata": {},
   "outputs": [],
   "source": [
    "# !python3 ./Scrap_booking.py"
   ]
  },
  {
   "cell_type": "code",
   "execution_count": 106,
   "metadata": {},
   "outputs": [],
   "source": [
    "f = open(\"Hotels.json\")\n",
    "data = json.load(f)\n",
    "f.close()\n",
    "\n",
    "hotels = pd.DataFrame(data)\n",
    "hotels[['latitude', 'longitude']] = hotels['coord'].str.split(',', expand = True).astype(float)\n",
    "hotels = hotels.drop('coord', axis=1)\n",
    "hotels = hotels[['city', 'name', 'score', 'latitude', 'longitude', 'desc', 'url']]\n",
    "hotels.columns = ['destination', 'hotel_name', 'hotel_score', 'latitude', 'longitude', 'description', 'url']\n",
    "hotels['hotel_score'] = hotels['hotel_score'].str.replace(\",\",\".\").astype(float)\n",
    "hotels = hotels.dropna(subset=['hotel_name'])\n",
    "hotels['destination'] = hotels['destination'].apply(lambda x: x[:-1]).str.replace(\"-\",\" \")\n",
    "\n"
   ]
  },
  {
   "cell_type": "code",
   "execution_count": 107,
   "metadata": {},
   "outputs": [
    {
     "data": {
      "text/html": [
       "<div>\n",
       "<style scoped>\n",
       "    .dataframe tbody tr th:only-of-type {\n",
       "        vertical-align: middle;\n",
       "    }\n",
       "\n",
       "    .dataframe tbody tr th {\n",
       "        vertical-align: top;\n",
       "    }\n",
       "\n",
       "    .dataframe thead th {\n",
       "        text-align: right;\n",
       "    }\n",
       "</style>\n",
       "<table border=\"1\" class=\"dataframe\">\n",
       "  <thead>\n",
       "    <tr style=\"text-align: right;\">\n",
       "      <th></th>\n",
       "      <th>destination</th>\n",
       "      <th>hotel_name</th>\n",
       "      <th>hotel_score</th>\n",
       "      <th>latitude</th>\n",
       "      <th>longitude</th>\n",
       "      <th>description</th>\n",
       "      <th>url</th>\n",
       "    </tr>\n",
       "  </thead>\n",
       "  <tbody>\n",
       "    <tr>\n",
       "      <th>0</th>\n",
       "      <td>Le Mont Saint Michel</td>\n",
       "      <td>Gîte proche du Mont Saint-Michel accès à pieds</td>\n",
       "      <td>9.0</td>\n",
       "      <td>48.598390</td>\n",
       "      <td>-1.503451</td>\n",
       "      <td>Gîte proche du Mont Saint-Michel accès à pieds...</td>\n",
       "      <td>https://www.booking.com/hotel/fr/gite-proche-d...</td>\n",
       "    </tr>\n",
       "    <tr>\n",
       "      <th>1</th>\n",
       "      <td>Saint Malo</td>\n",
       "      <td>Brit Hotel Le Surcouf</td>\n",
       "      <td>7.7</td>\n",
       "      <td>48.657735</td>\n",
       "      <td>-1.994373</td>\n",
       "      <td>Situé dans le paisible quartier de Courtoisvil...</td>\n",
       "      <td>https://www.booking.com/hotel/fr/le-surcouf.fr...</td>\n",
       "    </tr>\n",
       "    <tr>\n",
       "      <th>2</th>\n",
       "      <td>Bayeux</td>\n",
       "      <td>Hôtel Le Bayeux</td>\n",
       "      <td>7.8</td>\n",
       "      <td>49.274159</td>\n",
       "      <td>-0.704506</td>\n",
       "      <td>Situé dans le centre historique de Bayeux, en ...</td>\n",
       "      <td>https://www.booking.com/hotel/fr/le-bayeux.fr....</td>\n",
       "    </tr>\n",
       "    <tr>\n",
       "      <th>3</th>\n",
       "      <td>Le Havre</td>\n",
       "      <td>Student Factory Le Havre Les Docks</td>\n",
       "      <td>8.8</td>\n",
       "      <td>49.488044</td>\n",
       "      <td>0.133123</td>\n",
       "      <td>Doté d'un salon commun, le Student Factory Le ...</td>\n",
       "      <td>https://www.booking.com/hotel/fr/student-facto...</td>\n",
       "    </tr>\n",
       "    <tr>\n",
       "      <th>4</th>\n",
       "      <td>Rouen</td>\n",
       "      <td>studi'home</td>\n",
       "      <td>8.1</td>\n",
       "      <td>49.443658</td>\n",
       "      <td>1.090557</td>\n",
       "      <td>Situé à moins de 600 mètres du centre de Rouen...</td>\n",
       "      <td>https://www.booking.com/hotel/fr/studi-39-home...</td>\n",
       "    </tr>\n",
       "  </tbody>\n",
       "</table>\n",
       "</div>"
      ],
      "text/plain": [
       "            destination                                      hotel_name  \\\n",
       "0  Le Mont Saint Michel  Gîte proche du Mont Saint-Michel accès à pieds   \n",
       "1            Saint Malo                           Brit Hotel Le Surcouf   \n",
       "2                Bayeux                                 Hôtel Le Bayeux   \n",
       "3              Le Havre              Student Factory Le Havre Les Docks   \n",
       "4                 Rouen                                      studi'home   \n",
       "\n",
       "   hotel_score   latitude  longitude  \\\n",
       "0          9.0  48.598390  -1.503451   \n",
       "1          7.7  48.657735  -1.994373   \n",
       "2          7.8  49.274159  -0.704506   \n",
       "3          8.8  49.488044   0.133123   \n",
       "4          8.1  49.443658   1.090557   \n",
       "\n",
       "                                         description  \\\n",
       "0  Gîte proche du Mont Saint-Michel accès à pieds...   \n",
       "1  Situé dans le paisible quartier de Courtoisvil...   \n",
       "2  Situé dans le centre historique de Bayeux, en ...   \n",
       "3  Doté d'un salon commun, le Student Factory Le ...   \n",
       "4  Situé à moins de 600 mètres du centre de Rouen...   \n",
       "\n",
       "                                                 url  \n",
       "0  https://www.booking.com/hotel/fr/gite-proche-d...  \n",
       "1  https://www.booking.com/hotel/fr/le-surcouf.fr...  \n",
       "2  https://www.booking.com/hotel/fr/le-bayeux.fr....  \n",
       "3  https://www.booking.com/hotel/fr/student-facto...  \n",
       "4  https://www.booking.com/hotel/fr/studi-39-home...  "
      ]
     },
     "execution_count": 107,
     "metadata": {},
     "output_type": "execute_result"
    }
   ],
   "source": [
    "hotels.head()"
   ]
  },
  {
   "cell_type": "code",
   "execution_count": 18,
   "metadata": {},
   "outputs": [],
   "source": [
    "hotels.to_csv(\"hotels_data.csv\")"
   ]
  },
  {
   "cell_type": "markdown",
   "metadata": {},
   "source": [
    "### For S3 deployment take screenshots "
   ]
  },
  {
   "cell_type": "markdown",
   "metadata": {},
   "source": [
    "##### Always delete IAM user to prevent leaks and hacking, never push access keys"
   ]
  },
  {
   "cell_type": "code",
   "execution_count": 19,
   "metadata": {},
   "outputs": [],
   "source": [
    "import boto3\n",
    "session = boto3.Session(aws_access_key_id=\"\",\n",
    "                        aws_secret_access_key=\"\")"
   ]
  },
  {
   "cell_type": "code",
   "execution_count": 20,
   "metadata": {},
   "outputs": [],
   "source": [
    "s3 = session.resource(\"s3\")"
   ]
  },
  {
   "cell_type": "code",
   "execution_count": 21,
   "metadata": {},
   "outputs": [],
   "source": [
    "bucket = s3.Bucket('bucket-for-project-1234')"
   ]
  },
  {
   "cell_type": "code",
   "execution_count": 22,
   "metadata": {},
   "outputs": [
    {
     "ename": "NoCredentialsError",
     "evalue": "Unable to locate credentials",
     "output_type": "error",
     "traceback": [
      "\u001b[0;31m---------------------------------------------------------------------------\u001b[0m",
      "\u001b[0;31mNoCredentialsError\u001b[0m                        Traceback (most recent call last)",
      "\u001b[1;32m/home/nicolasleurs/Documents/Jedha/Formation/Projects/Kayak/Kayak.ipynb Cell 25\u001b[0m line \u001b[0;36m4\n\u001b[1;32m      <a href='vscode-notebook-cell:/home/nicolasleurs/Documents/Jedha/Formation/Projects/Kayak/Kayak.ipynb#X33sZmlsZQ%3D%3D?line=0'>1</a>\u001b[0m best_weather_csv \u001b[39m=\u001b[39m best_weather_df\u001b[39m.\u001b[39mto_csv()\n\u001b[1;32m      <a href='vscode-notebook-cell:/home/nicolasleurs/Documents/Jedha/Formation/Projects/Kayak/Kayak.ipynb#X33sZmlsZQ%3D%3D?line=1'>2</a>\u001b[0m hotels_csv \u001b[39m=\u001b[39m hotels\u001b[39m.\u001b[39mto_csv()\n\u001b[0;32m----> <a href='vscode-notebook-cell:/home/nicolasleurs/Documents/Jedha/Formation/Projects/Kayak/Kayak.ipynb#X33sZmlsZQ%3D%3D?line=3'>4</a>\u001b[0m put_object \u001b[39m=\u001b[39m bucket\u001b[39m.\u001b[39;49mput_object(Key\u001b[39m=\u001b[39;49m\u001b[39m\"\u001b[39;49m\u001b[39mdest_weather.csv\u001b[39;49m\u001b[39m\"\u001b[39;49m, Body\u001b[39m=\u001b[39;49mbest_weather_csv)\n\u001b[1;32m      <a href='vscode-notebook-cell:/home/nicolasleurs/Documents/Jedha/Formation/Projects/Kayak/Kayak.ipynb#X33sZmlsZQ%3D%3D?line=4'>5</a>\u001b[0m put_object \u001b[39m=\u001b[39m bucket\u001b[39m.\u001b[39mput_object(Key\u001b[39m=\u001b[39m\u001b[39m\"\u001b[39m\u001b[39mdest_hotels.csv\u001b[39m\u001b[39m\"\u001b[39m, Body\u001b[39m=\u001b[39mhotels_csv)\n",
      "File \u001b[0;32m~/.local/lib/python3.10/site-packages/boto3/resources/factory.py:580\u001b[0m, in \u001b[0;36mResourceFactory._create_action.<locals>.do_action\u001b[0;34m(self, *args, **kwargs)\u001b[0m\n\u001b[1;32m    579\u001b[0m \u001b[39mdef\u001b[39;00m \u001b[39mdo_action\u001b[39m(\u001b[39mself\u001b[39m, \u001b[39m*\u001b[39margs, \u001b[39m*\u001b[39m\u001b[39m*\u001b[39mkwargs):\n\u001b[0;32m--> 580\u001b[0m     response \u001b[39m=\u001b[39m action(\u001b[39mself\u001b[39;49m, \u001b[39m*\u001b[39;49margs, \u001b[39m*\u001b[39;49m\u001b[39m*\u001b[39;49mkwargs)\n\u001b[1;32m    582\u001b[0m     \u001b[39mif\u001b[39;00m \u001b[39mhasattr\u001b[39m(\u001b[39mself\u001b[39m, \u001b[39m'\u001b[39m\u001b[39mload\u001b[39m\u001b[39m'\u001b[39m):\n\u001b[1;32m    583\u001b[0m         \u001b[39m# Clear cached data. It will be reloaded the next\u001b[39;00m\n\u001b[1;32m    584\u001b[0m         \u001b[39m# time that an attribute is accessed.\u001b[39;00m\n\u001b[1;32m    585\u001b[0m         \u001b[39m# TODO: Make this configurable in the future?\u001b[39;00m\n\u001b[1;32m    586\u001b[0m         \u001b[39mself\u001b[39m\u001b[39m.\u001b[39mmeta\u001b[39m.\u001b[39mdata \u001b[39m=\u001b[39m \u001b[39mNone\u001b[39;00m\n",
      "File \u001b[0;32m~/.local/lib/python3.10/site-packages/boto3/resources/action.py:88\u001b[0m, in \u001b[0;36mServiceAction.__call__\u001b[0;34m(self, parent, *args, **kwargs)\u001b[0m\n\u001b[1;32m     79\u001b[0m params\u001b[39m.\u001b[39mupdate(kwargs)\n\u001b[1;32m     81\u001b[0m logger\u001b[39m.\u001b[39mdebug(\n\u001b[1;32m     82\u001b[0m     \u001b[39m'\u001b[39m\u001b[39mCalling \u001b[39m\u001b[39m%s\u001b[39;00m\u001b[39m:\u001b[39m\u001b[39m%s\u001b[39;00m\u001b[39m with \u001b[39m\u001b[39m%r\u001b[39;00m\u001b[39m'\u001b[39m,\n\u001b[1;32m     83\u001b[0m     parent\u001b[39m.\u001b[39mmeta\u001b[39m.\u001b[39mservice_name,\n\u001b[1;32m     84\u001b[0m     operation_name,\n\u001b[1;32m     85\u001b[0m     params,\n\u001b[1;32m     86\u001b[0m )\n\u001b[0;32m---> 88\u001b[0m response \u001b[39m=\u001b[39m \u001b[39mgetattr\u001b[39;49m(parent\u001b[39m.\u001b[39;49mmeta\u001b[39m.\u001b[39;49mclient, operation_name)(\u001b[39m*\u001b[39;49margs, \u001b[39m*\u001b[39;49m\u001b[39m*\u001b[39;49mparams)\n\u001b[1;32m     90\u001b[0m logger\u001b[39m.\u001b[39mdebug(\u001b[39m'\u001b[39m\u001b[39mResponse: \u001b[39m\u001b[39m%r\u001b[39;00m\u001b[39m'\u001b[39m, response)\n\u001b[1;32m     92\u001b[0m \u001b[39mreturn\u001b[39;00m \u001b[39mself\u001b[39m\u001b[39m.\u001b[39m_response_handler(parent, params, response)\n",
      "File \u001b[0;32m~/.local/lib/python3.10/site-packages/botocore/client.py:535\u001b[0m, in \u001b[0;36mClientCreator._create_api_method.<locals>._api_call\u001b[0;34m(self, *args, **kwargs)\u001b[0m\n\u001b[1;32m    531\u001b[0m     \u001b[39mraise\u001b[39;00m \u001b[39mTypeError\u001b[39;00m(\n\u001b[1;32m    532\u001b[0m         \u001b[39mf\u001b[39m\u001b[39m\"\u001b[39m\u001b[39m{\u001b[39;00mpy_operation_name\u001b[39m}\u001b[39;00m\u001b[39m() only accepts keyword arguments.\u001b[39m\u001b[39m\"\u001b[39m\n\u001b[1;32m    533\u001b[0m     )\n\u001b[1;32m    534\u001b[0m \u001b[39m# The \"self\" in this scope is referring to the BaseClient.\u001b[39;00m\n\u001b[0;32m--> 535\u001b[0m \u001b[39mreturn\u001b[39;00m \u001b[39mself\u001b[39;49m\u001b[39m.\u001b[39;49m_make_api_call(operation_name, kwargs)\n",
      "File \u001b[0;32m~/.local/lib/python3.10/site-packages/botocore/client.py:963\u001b[0m, in \u001b[0;36mBaseClient._make_api_call\u001b[0;34m(self, operation_name, api_params)\u001b[0m\n\u001b[1;32m    959\u001b[0m     maybe_compress_request(\n\u001b[1;32m    960\u001b[0m         \u001b[39mself\u001b[39m\u001b[39m.\u001b[39mmeta\u001b[39m.\u001b[39mconfig, request_dict, operation_model\n\u001b[1;32m    961\u001b[0m     )\n\u001b[1;32m    962\u001b[0m     apply_request_checksum(request_dict)\n\u001b[0;32m--> 963\u001b[0m     http, parsed_response \u001b[39m=\u001b[39m \u001b[39mself\u001b[39;49m\u001b[39m.\u001b[39;49m_make_request(\n\u001b[1;32m    964\u001b[0m         operation_model, request_dict, request_context\n\u001b[1;32m    965\u001b[0m     )\n\u001b[1;32m    967\u001b[0m \u001b[39mself\u001b[39m\u001b[39m.\u001b[39mmeta\u001b[39m.\u001b[39mevents\u001b[39m.\u001b[39memit(\n\u001b[1;32m    968\u001b[0m     \u001b[39m'\u001b[39m\u001b[39mafter-call.\u001b[39m\u001b[39m{service_id}\u001b[39;00m\u001b[39m.\u001b[39m\u001b[39m{operation_name}\u001b[39;00m\u001b[39m'\u001b[39m\u001b[39m.\u001b[39mformat(\n\u001b[1;32m    969\u001b[0m         service_id\u001b[39m=\u001b[39mservice_id, operation_name\u001b[39m=\u001b[39moperation_name\n\u001b[0;32m   (...)\u001b[0m\n\u001b[1;32m    974\u001b[0m     context\u001b[39m=\u001b[39mrequest_context,\n\u001b[1;32m    975\u001b[0m )\n\u001b[1;32m    977\u001b[0m \u001b[39mif\u001b[39;00m http\u001b[39m.\u001b[39mstatus_code \u001b[39m>\u001b[39m\u001b[39m=\u001b[39m \u001b[39m300\u001b[39m:\n",
      "File \u001b[0;32m~/.local/lib/python3.10/site-packages/botocore/client.py:986\u001b[0m, in \u001b[0;36mBaseClient._make_request\u001b[0;34m(self, operation_model, request_dict, request_context)\u001b[0m\n\u001b[1;32m    984\u001b[0m \u001b[39mdef\u001b[39;00m \u001b[39m_make_request\u001b[39m(\u001b[39mself\u001b[39m, operation_model, request_dict, request_context):\n\u001b[1;32m    985\u001b[0m     \u001b[39mtry\u001b[39;00m:\n\u001b[0;32m--> 986\u001b[0m         \u001b[39mreturn\u001b[39;00m \u001b[39mself\u001b[39;49m\u001b[39m.\u001b[39;49m_endpoint\u001b[39m.\u001b[39;49mmake_request(operation_model, request_dict)\n\u001b[1;32m    987\u001b[0m     \u001b[39mexcept\u001b[39;00m \u001b[39mException\u001b[39;00m \u001b[39mas\u001b[39;00m e:\n\u001b[1;32m    988\u001b[0m         \u001b[39mself\u001b[39m\u001b[39m.\u001b[39mmeta\u001b[39m.\u001b[39mevents\u001b[39m.\u001b[39memit(\n\u001b[1;32m    989\u001b[0m             \u001b[39m'\u001b[39m\u001b[39mafter-call-error.\u001b[39m\u001b[39m{service_id}\u001b[39;00m\u001b[39m.\u001b[39m\u001b[39m{operation_name}\u001b[39;00m\u001b[39m'\u001b[39m\u001b[39m.\u001b[39mformat(\n\u001b[1;32m    990\u001b[0m                 service_id\u001b[39m=\u001b[39m\u001b[39mself\u001b[39m\u001b[39m.\u001b[39m_service_model\u001b[39m.\u001b[39mservice_id\u001b[39m.\u001b[39mhyphenize(),\n\u001b[0;32m   (...)\u001b[0m\n\u001b[1;32m    994\u001b[0m             context\u001b[39m=\u001b[39mrequest_context,\n\u001b[1;32m    995\u001b[0m         )\n",
      "File \u001b[0;32m~/.local/lib/python3.10/site-packages/botocore/endpoint.py:119\u001b[0m, in \u001b[0;36mEndpoint.make_request\u001b[0;34m(self, operation_model, request_dict)\u001b[0m\n\u001b[1;32m    113\u001b[0m \u001b[39mdef\u001b[39;00m \u001b[39mmake_request\u001b[39m(\u001b[39mself\u001b[39m, operation_model, request_dict):\n\u001b[1;32m    114\u001b[0m     logger\u001b[39m.\u001b[39mdebug(\n\u001b[1;32m    115\u001b[0m         \u001b[39m\"\u001b[39m\u001b[39mMaking request for \u001b[39m\u001b[39m%s\u001b[39;00m\u001b[39m with params: \u001b[39m\u001b[39m%s\u001b[39;00m\u001b[39m\"\u001b[39m,\n\u001b[1;32m    116\u001b[0m         operation_model,\n\u001b[1;32m    117\u001b[0m         request_dict,\n\u001b[1;32m    118\u001b[0m     )\n\u001b[0;32m--> 119\u001b[0m     \u001b[39mreturn\u001b[39;00m \u001b[39mself\u001b[39;49m\u001b[39m.\u001b[39;49m_send_request(request_dict, operation_model)\n",
      "File \u001b[0;32m~/.local/lib/python3.10/site-packages/botocore/endpoint.py:198\u001b[0m, in \u001b[0;36mEndpoint._send_request\u001b[0;34m(self, request_dict, operation_model)\u001b[0m\n\u001b[1;32m    196\u001b[0m context \u001b[39m=\u001b[39m request_dict[\u001b[39m'\u001b[39m\u001b[39mcontext\u001b[39m\u001b[39m'\u001b[39m]\n\u001b[1;32m    197\u001b[0m \u001b[39mself\u001b[39m\u001b[39m.\u001b[39m_update_retries_context(context, attempts)\n\u001b[0;32m--> 198\u001b[0m request \u001b[39m=\u001b[39m \u001b[39mself\u001b[39;49m\u001b[39m.\u001b[39;49mcreate_request(request_dict, operation_model)\n\u001b[1;32m    199\u001b[0m success_response, exception \u001b[39m=\u001b[39m \u001b[39mself\u001b[39m\u001b[39m.\u001b[39m_get_response(\n\u001b[1;32m    200\u001b[0m     request, operation_model, context\n\u001b[1;32m    201\u001b[0m )\n\u001b[1;32m    202\u001b[0m \u001b[39mwhile\u001b[39;00m \u001b[39mself\u001b[39m\u001b[39m.\u001b[39m_needs_retry(\n\u001b[1;32m    203\u001b[0m     attempts,\n\u001b[1;32m    204\u001b[0m     operation_model,\n\u001b[0;32m   (...)\u001b[0m\n\u001b[1;32m    207\u001b[0m     exception,\n\u001b[1;32m    208\u001b[0m ):\n",
      "File \u001b[0;32m~/.local/lib/python3.10/site-packages/botocore/endpoint.py:134\u001b[0m, in \u001b[0;36mEndpoint.create_request\u001b[0;34m(self, params, operation_model)\u001b[0m\n\u001b[1;32m    130\u001b[0m     service_id \u001b[39m=\u001b[39m operation_model\u001b[39m.\u001b[39mservice_model\u001b[39m.\u001b[39mservice_id\u001b[39m.\u001b[39mhyphenize()\n\u001b[1;32m    131\u001b[0m     event_name \u001b[39m=\u001b[39m \u001b[39m'\u001b[39m\u001b[39mrequest-created.\u001b[39m\u001b[39m{service_id}\u001b[39;00m\u001b[39m.\u001b[39m\u001b[39m{op_name}\u001b[39;00m\u001b[39m'\u001b[39m\u001b[39m.\u001b[39mformat(\n\u001b[1;32m    132\u001b[0m         service_id\u001b[39m=\u001b[39mservice_id, op_name\u001b[39m=\u001b[39moperation_model\u001b[39m.\u001b[39mname\n\u001b[1;32m    133\u001b[0m     )\n\u001b[0;32m--> 134\u001b[0m     \u001b[39mself\u001b[39;49m\u001b[39m.\u001b[39;49m_event_emitter\u001b[39m.\u001b[39;49memit(\n\u001b[1;32m    135\u001b[0m         event_name,\n\u001b[1;32m    136\u001b[0m         request\u001b[39m=\u001b[39;49mrequest,\n\u001b[1;32m    137\u001b[0m         operation_name\u001b[39m=\u001b[39;49moperation_model\u001b[39m.\u001b[39;49mname,\n\u001b[1;32m    138\u001b[0m     )\n\u001b[1;32m    139\u001b[0m prepared_request \u001b[39m=\u001b[39m \u001b[39mself\u001b[39m\u001b[39m.\u001b[39mprepare_request(request)\n\u001b[1;32m    140\u001b[0m \u001b[39mreturn\u001b[39;00m prepared_request\n",
      "File \u001b[0;32m~/.local/lib/python3.10/site-packages/botocore/hooks.py:412\u001b[0m, in \u001b[0;36mEventAliaser.emit\u001b[0;34m(self, event_name, **kwargs)\u001b[0m\n\u001b[1;32m    410\u001b[0m \u001b[39mdef\u001b[39;00m \u001b[39memit\u001b[39m(\u001b[39mself\u001b[39m, event_name, \u001b[39m*\u001b[39m\u001b[39m*\u001b[39mkwargs):\n\u001b[1;32m    411\u001b[0m     aliased_event_name \u001b[39m=\u001b[39m \u001b[39mself\u001b[39m\u001b[39m.\u001b[39m_alias_event_name(event_name)\n\u001b[0;32m--> 412\u001b[0m     \u001b[39mreturn\u001b[39;00m \u001b[39mself\u001b[39;49m\u001b[39m.\u001b[39;49m_emitter\u001b[39m.\u001b[39;49memit(aliased_event_name, \u001b[39m*\u001b[39;49m\u001b[39m*\u001b[39;49mkwargs)\n",
      "File \u001b[0;32m~/.local/lib/python3.10/site-packages/botocore/hooks.py:256\u001b[0m, in \u001b[0;36mHierarchicalEmitter.emit\u001b[0;34m(self, event_name, **kwargs)\u001b[0m\n\u001b[1;32m    245\u001b[0m \u001b[39mdef\u001b[39;00m \u001b[39memit\u001b[39m(\u001b[39mself\u001b[39m, event_name, \u001b[39m*\u001b[39m\u001b[39m*\u001b[39mkwargs):\n\u001b[1;32m    246\u001b[0m \u001b[39m    \u001b[39m\u001b[39m\"\"\"\u001b[39;00m\n\u001b[1;32m    247\u001b[0m \u001b[39m    Emit an event by name with arguments passed as keyword args.\u001b[39;00m\n\u001b[1;32m    248\u001b[0m \n\u001b[0;32m   (...)\u001b[0m\n\u001b[1;32m    254\u001b[0m \u001b[39m             handlers.\u001b[39;00m\n\u001b[1;32m    255\u001b[0m \u001b[39m    \"\"\"\u001b[39;00m\n\u001b[0;32m--> 256\u001b[0m     \u001b[39mreturn\u001b[39;00m \u001b[39mself\u001b[39;49m\u001b[39m.\u001b[39;49m_emit(event_name, kwargs)\n",
      "File \u001b[0;32m~/.local/lib/python3.10/site-packages/botocore/hooks.py:239\u001b[0m, in \u001b[0;36mHierarchicalEmitter._emit\u001b[0;34m(self, event_name, kwargs, stop_on_response)\u001b[0m\n\u001b[1;32m    237\u001b[0m \u001b[39mfor\u001b[39;00m handler \u001b[39min\u001b[39;00m handlers_to_call:\n\u001b[1;32m    238\u001b[0m     logger\u001b[39m.\u001b[39mdebug(\u001b[39m'\u001b[39m\u001b[39mEvent \u001b[39m\u001b[39m%s\u001b[39;00m\u001b[39m: calling handler \u001b[39m\u001b[39m%s\u001b[39;00m\u001b[39m'\u001b[39m, event_name, handler)\n\u001b[0;32m--> 239\u001b[0m     response \u001b[39m=\u001b[39m handler(\u001b[39m*\u001b[39;49m\u001b[39m*\u001b[39;49mkwargs)\n\u001b[1;32m    240\u001b[0m     responses\u001b[39m.\u001b[39mappend((handler, response))\n\u001b[1;32m    241\u001b[0m     \u001b[39mif\u001b[39;00m stop_on_response \u001b[39mand\u001b[39;00m response \u001b[39mis\u001b[39;00m \u001b[39mnot\u001b[39;00m \u001b[39mNone\u001b[39;00m:\n",
      "File \u001b[0;32m~/.local/lib/python3.10/site-packages/botocore/signers.py:105\u001b[0m, in \u001b[0;36mRequestSigner.handler\u001b[0;34m(self, operation_name, request, **kwargs)\u001b[0m\n\u001b[1;32m    100\u001b[0m \u001b[39mdef\u001b[39;00m \u001b[39mhandler\u001b[39m(\u001b[39mself\u001b[39m, operation_name\u001b[39m=\u001b[39m\u001b[39mNone\u001b[39;00m, request\u001b[39m=\u001b[39m\u001b[39mNone\u001b[39;00m, \u001b[39m*\u001b[39m\u001b[39m*\u001b[39mkwargs):\n\u001b[1;32m    101\u001b[0m     \u001b[39m# This is typically hooked up to the \"request-created\" event\u001b[39;00m\n\u001b[1;32m    102\u001b[0m     \u001b[39m# from a client's event emitter.  When a new request is created\u001b[39;00m\n\u001b[1;32m    103\u001b[0m     \u001b[39m# this method is invoked to sign the request.\u001b[39;00m\n\u001b[1;32m    104\u001b[0m     \u001b[39m# Don't call this method directly.\u001b[39;00m\n\u001b[0;32m--> 105\u001b[0m     \u001b[39mreturn\u001b[39;00m \u001b[39mself\u001b[39;49m\u001b[39m.\u001b[39;49msign(operation_name, request)\n",
      "File \u001b[0;32m~/.local/lib/python3.10/site-packages/botocore/signers.py:189\u001b[0m, in \u001b[0;36mRequestSigner.sign\u001b[0;34m(self, operation_name, request, region_name, signing_type, expires_in, signing_name)\u001b[0m\n\u001b[1;32m    186\u001b[0m     \u001b[39melse\u001b[39;00m:\n\u001b[1;32m    187\u001b[0m         \u001b[39mraise\u001b[39;00m e\n\u001b[0;32m--> 189\u001b[0m auth\u001b[39m.\u001b[39;49madd_auth(request)\n",
      "File \u001b[0;32m~/.local/lib/python3.10/site-packages/botocore/auth.py:418\u001b[0m, in \u001b[0;36mSigV4Auth.add_auth\u001b[0;34m(self, request)\u001b[0m\n\u001b[1;32m    416\u001b[0m \u001b[39mdef\u001b[39;00m \u001b[39madd_auth\u001b[39m(\u001b[39mself\u001b[39m, request):\n\u001b[1;32m    417\u001b[0m     \u001b[39mif\u001b[39;00m \u001b[39mself\u001b[39m\u001b[39m.\u001b[39mcredentials \u001b[39mis\u001b[39;00m \u001b[39mNone\u001b[39;00m:\n\u001b[0;32m--> 418\u001b[0m         \u001b[39mraise\u001b[39;00m NoCredentialsError()\n\u001b[1;32m    419\u001b[0m     datetime_now \u001b[39m=\u001b[39m datetime\u001b[39m.\u001b[39mdatetime\u001b[39m.\u001b[39mutcnow()\n\u001b[1;32m    420\u001b[0m     request\u001b[39m.\u001b[39mcontext[\u001b[39m'\u001b[39m\u001b[39mtimestamp\u001b[39m\u001b[39m'\u001b[39m] \u001b[39m=\u001b[39m datetime_now\u001b[39m.\u001b[39mstrftime(SIGV4_TIMESTAMP)\n",
      "\u001b[0;31mNoCredentialsError\u001b[0m: Unable to locate credentials"
     ]
    }
   ],
   "source": [
    "best_weather_csv = best_weather_df.to_csv()\n",
    "hotels_csv = hotels.to_csv()\n",
    "\n",
    "put_object = bucket.put_object(Key=\"dest_weather.csv\", Body=best_weather_csv)\n",
    "put_object = bucket.put_object(Key=\"dest_hotels.csv\", Body=hotels_csv)"
   ]
  },
  {
   "cell_type": "code",
   "execution_count": null,
   "metadata": {},
   "outputs": [],
   "source": [
    "## RDS stuff"
   ]
  },
  {
   "cell_type": "code",
   "execution_count": 108,
   "metadata": {},
   "outputs": [
    {
     "data": {
      "application/vnd.plotly.v1+json": {
       "config": {
        "plotlyServerURL": "https://plot.ly"
       },
       "data": [
        {
         "customdata": [
          [
           20.94,
           0,
           39.49,
           1.93,
           4.8820046596022255,
           42.52505,
           3.0831554
          ],
          [
           21.83,
           0,
           41.3,
           2.4,
           4.5712573306777715,
           43.2140359,
           5.5396318
          ],
          [
           20.29,
           0,
           39.9,
           2.62,
           4.497175211820076,
           43.5661521,
           4.19154
          ],
          [
           21.98,
           0,
           41.75,
           2.62,
           4.466617616588025,
           43.2961743,
           5.3699525
          ],
          [
           18.56,
           0,
           37.7,
           3.44,
           4.427505137750754,
           46.1591126,
           -1.1520434
          ],
          [
           20.5,
           0,
           41.32,
           2.08,
           4.365843098875431,
           43.1506968,
           6.3419285
          ],
          [
           19.49,
           0,
           39.98,
           2.83,
           4.289094500666002,
           43.8374249,
           4.3600687
          ],
          [
           21.15,
           0,
           44.35,
           1.65,
           4.022993643670042,
           43.5298424,
           5.4474738
          ],
          [
           20.28,
           0,
           42.84,
           2.5,
           3.9912414423903106,
           43.2130358,
           2.3491069
          ],
          [
           20.31,
           0,
           41.85,
           3.79,
           3.9475870100263215,
           43.4515922,
           4.4277202
          ],
          [
           19.18,
           0,
           41.93,
           3.32,
           3.8346764465118555,
           43.9492493,
           4.8059012
          ],
          [
           18.42,
           0,
           42.4,
           3.16,
           3.6843155616278525,
           44.0121279,
           4.4196718
          ],
          [
           18.81,
           0,
           46.03,
           1.88,
           3.4355996839248295,
           44.0175835,
           1.3549991
          ],
          [
           19.93,
           0,
           47.49,
           2.19,
           3.3615736646848937,
           43.6044622,
           1.4442469
          ],
          [
           16.61,
           0,
           45.6,
           1.64,
           3.2647805001915793,
           43.7496562,
           6.3285616
          ],
          [
           15.3,
           0,
           45.38,
           1.25,
           3.1925507149983368,
           45.8992348,
           6.1288847
          ],
          [
           20.38,
           0,
           51.68,
           2.29,
           2.975923538604549,
           43.4832523,
           -1.5592776
          ],
          [
           20.32,
           0,
           54.53,
           2.13,
           2.752505066329638,
           43.4945144,
           -1.4736657
          ],
          [
           17.19,
           0,
           52.68,
           1.41,
           2.710313760225317,
           45.7578137,
           4.8320114
          ],
          [
           17.7,
           0,
           54.19,
           1.34,
           2.6436920040066627,
           45.1875602,
           5.7357819
          ],
          [
           15.57,
           0,
           54.55,
           2.28,
           2.424004920729989,
           47.3215806,
           5.0414701
          ],
          [
           18,
           0,
           59.67,
           1.29,
           2.328266873709954,
           48.8534951,
           2.3483915
          ],
          [
           14.58,
           0,
           59.98,
           1.72,
           2.1224894560914414,
           47.2380222,
           6.0243622
          ],
          [
           15.53,
           0,
           61.75,
           1.37,
           2.101287914384191,
           48.0447968,
           7.3079618
          ],
          [
           15.34,
           0,
           61.83,
           1.33,
           2.090892854809271,
           48.0777517,
           7.3579641
          ],
          [
           15.63,
           0,
           62.95,
           2.12,
           2.0225537212741185,
           48.6359541,
           -1.511459954959514
          ],
          [
           15.35,
           0,
           64.68,
           1.98,
           1.9487152282892821,
           49.4404591,
           1.0939658
          ],
          [
           12.43,
           0,
           63.78,
           1.1,
           1.9069291448694072,
           48.2495226,
           7.3454923
          ],
          [
           15.17,
           0,
           66.67,
           1.47,
           1.8877670076008841,
           48.584614,
           7.7507127
          ],
          [
           15.3,
           0,
           69.36,
           2.47,
           1.7691673929672154,
           49.2764624,
           -0.7024738
          ],
          [
           16.58,
           0,
           72.58,
           2.8,
           1.7004280355238308,
           49.4938975,
           0.1079732
          ],
          [
           15.27,
           0.48,
           75.22,
           2.78,
           1.5820691794905826,
           49.8941708,
           2.2956951
          ],
          [
           15.37,
           1.5,
           74.94,
           3.44,
           1.5500251233238738,
           50.6365654,
           3.0635282
          ],
          [
           8.86,
           0.31,
           84.79,
           3.99,
           1.2464659660258388,
           51.18111155,
           -55.98447423947262
          ],
          [
           9.44,
           34.11,
           70.59,
           4.21,
           1.005406433456128,
           49.314695,
           -96.9538228
          ]
         ],
         "hovertemplate": "<b>%{hovertext}</b><br><br>temp=%{customdata[0]}<br>rain=%{customdata[1]}<br>cloud=%{customdata[2]}<br>wind=%{customdata[3]}<extra></extra>",
         "hovertext": [
          "Collioure",
          "Cassis",
          "Aigues Mortes",
          "Marseille",
          "La Rochelle",
          "Bormes les Mimosas",
          "Nímes",
          "Aix en Provence",
          "Carcassonne",
          "Saintes Maries de la mer",
          "Avignon",
          "Uzès",
          "Montauban",
          "Toulouse",
          "Verdon Gorge",
          "Annecy",
          "Biarritz",
          "Bayonne",
          "Lyon",
          "Grenoble",
          "Dijon",
          "Paris",
          "Besancon",
          "Eguisheim",
          "Colmar",
          "Mont Saint Michel",
          "Rouen",
          "Chateau du Haut Koenigsbourg",
          "Strasbourg",
          "Bayeux",
          "Le Havre",
          "Amiens",
          "Lille",
          "Ariege",
          "St Malo"
         ],
         "lat": [
          42.52505,
          43.2140359,
          43.5661521,
          43.2961743,
          46.1591126,
          43.1506968,
          43.8374249,
          43.5298424,
          43.2130358,
          43.4515922,
          43.9492493,
          44.0121279,
          44.0175835,
          43.6044622,
          43.7496562,
          45.8992348,
          43.4832523,
          43.4945144,
          45.7578137,
          45.1875602,
          47.3215806,
          48.8534951,
          47.2380222,
          48.0447968,
          48.0777517,
          48.6359541,
          49.4404591,
          48.2495226,
          48.584614,
          49.2764624,
          49.4938975,
          49.8941708,
          50.6365654,
          51.18111155,
          49.314695
         ],
         "legendgroup": "",
         "lon": [
          3.0831554,
          5.5396318,
          4.19154,
          5.3699525,
          -1.1520434,
          6.3419285,
          4.3600687,
          5.4474738,
          2.3491069,
          4.4277202,
          4.8059012,
          4.4196718,
          1.3549991,
          1.4442469,
          6.3285616,
          6.1288847,
          -1.5592776,
          -1.4736657,
          4.8320114,
          5.7357819,
          5.0414701,
          2.3483915,
          6.0243622,
          7.3079618,
          7.3579641,
          -1.511459954959514,
          1.0939658,
          7.3454923,
          7.7507127,
          -0.7024738,
          0.1079732,
          2.2956951,
          3.0635282,
          -55.98447423947262,
          -96.9538228
         ],
         "marker": {
          "color": [
           4.8820046596022255,
           4.5712573306777715,
           4.497175211820076,
           4.466617616588025,
           4.427505137750754,
           4.365843098875431,
           4.289094500666002,
           4.022993643670042,
           3.9912414423903106,
           3.9475870100263215,
           3.8346764465118555,
           3.6843155616278525,
           3.4355996839248295,
           3.3615736646848937,
           3.2647805001915793,
           3.1925507149983368,
           2.975923538604549,
           2.752505066329638,
           2.710313760225317,
           2.6436920040066627,
           2.424004920729989,
           2.328266873709954,
           2.1224894560914414,
           2.101287914384191,
           2.090892854809271,
           2.0225537212741185,
           1.9487152282892821,
           1.9069291448694072,
           1.8877670076008841,
           1.7691673929672154,
           1.7004280355238308,
           1.5820691794905826,
           1.5500251233238738,
           1.2464659660258388,
           1.005406433456128
          ],
          "coloraxis": "coloraxis",
          "size": [
           4.8820046596022255,
           4.5712573306777715,
           4.497175211820076,
           4.466617616588025,
           4.427505137750754,
           4.365843098875431,
           4.289094500666002,
           4.022993643670042,
           3.9912414423903106,
           3.9475870100263215,
           3.8346764465118555,
           3.6843155616278525,
           3.4355996839248295,
           3.3615736646848937,
           3.2647805001915793,
           3.1925507149983368,
           2.975923538604549,
           2.752505066329638,
           2.710313760225317,
           2.6436920040066627,
           2.424004920729989,
           2.328266873709954,
           2.1224894560914414,
           2.101287914384191,
           2.090892854809271,
           2.0225537212741185,
           1.9487152282892821,
           1.9069291448694072,
           1.8877670076008841,
           1.7691673929672154,
           1.7004280355238308,
           1.5820691794905826,
           1.5500251233238738,
           1.2464659660258388,
           1.005406433456128
          ],
          "sizemode": "area",
          "sizeref": 0.012205011649005565
         },
         "mode": "markers",
         "name": "",
         "showlegend": false,
         "subplot": "mapbox",
         "type": "scattermapbox"
        }
       ],
       "layout": {
        "autosize": false,
        "coloraxis": {
         "colorbar": {
          "title": {
           "text": "weather_score"
          }
         },
         "colorscale": [
          [
           0,
           "#0d0887"
          ],
          [
           0.1111111111111111,
           "#46039f"
          ],
          [
           0.2222222222222222,
           "#7201a8"
          ],
          [
           0.3333333333333333,
           "#9c179e"
          ],
          [
           0.4444444444444444,
           "#bd3786"
          ],
          [
           0.5555555555555556,
           "#d8576b"
          ],
          [
           0.6666666666666666,
           "#ed7953"
          ],
          [
           0.7777777777777778,
           "#fb9f3a"
          ],
          [
           0.8888888888888888,
           "#fdca26"
          ],
          [
           1,
           "#f0f921"
          ]
         ]
        },
        "height": 500,
        "legend": {
         "itemsizing": "constant",
         "tracegroupgap": 0
        },
        "mapbox": {
         "center": {
          "lat": 47,
          "lon": 2
         },
         "domain": {
          "x": [
           0,
           1
          ],
          "y": [
           0,
           1
          ]
         },
         "style": "open-street-map",
         "zoom": 4.8
        },
        "margin": {
         "b": 5,
         "l": 5,
         "r": 5,
         "t": 5
        },
        "template": {
         "data": {
          "bar": [
           {
            "error_x": {
             "color": "#2a3f5f"
            },
            "error_y": {
             "color": "#2a3f5f"
            },
            "marker": {
             "line": {
              "color": "#E5ECF6",
              "width": 0.5
             },
             "pattern": {
              "fillmode": "overlay",
              "size": 10,
              "solidity": 0.2
             }
            },
            "type": "bar"
           }
          ],
          "barpolar": [
           {
            "marker": {
             "line": {
              "color": "#E5ECF6",
              "width": 0.5
             },
             "pattern": {
              "fillmode": "overlay",
              "size": 10,
              "solidity": 0.2
             }
            },
            "type": "barpolar"
           }
          ],
          "carpet": [
           {
            "aaxis": {
             "endlinecolor": "#2a3f5f",
             "gridcolor": "white",
             "linecolor": "white",
             "minorgridcolor": "white",
             "startlinecolor": "#2a3f5f"
            },
            "baxis": {
             "endlinecolor": "#2a3f5f",
             "gridcolor": "white",
             "linecolor": "white",
             "minorgridcolor": "white",
             "startlinecolor": "#2a3f5f"
            },
            "type": "carpet"
           }
          ],
          "choropleth": [
           {
            "colorbar": {
             "outlinewidth": 0,
             "ticks": ""
            },
            "type": "choropleth"
           }
          ],
          "contour": [
           {
            "colorbar": {
             "outlinewidth": 0,
             "ticks": ""
            },
            "colorscale": [
             [
              0,
              "#0d0887"
             ],
             [
              0.1111111111111111,
              "#46039f"
             ],
             [
              0.2222222222222222,
              "#7201a8"
             ],
             [
              0.3333333333333333,
              "#9c179e"
             ],
             [
              0.4444444444444444,
              "#bd3786"
             ],
             [
              0.5555555555555556,
              "#d8576b"
             ],
             [
              0.6666666666666666,
              "#ed7953"
             ],
             [
              0.7777777777777778,
              "#fb9f3a"
             ],
             [
              0.8888888888888888,
              "#fdca26"
             ],
             [
              1,
              "#f0f921"
             ]
            ],
            "type": "contour"
           }
          ],
          "contourcarpet": [
           {
            "colorbar": {
             "outlinewidth": 0,
             "ticks": ""
            },
            "type": "contourcarpet"
           }
          ],
          "heatmap": [
           {
            "colorbar": {
             "outlinewidth": 0,
             "ticks": ""
            },
            "colorscale": [
             [
              0,
              "#0d0887"
             ],
             [
              0.1111111111111111,
              "#46039f"
             ],
             [
              0.2222222222222222,
              "#7201a8"
             ],
             [
              0.3333333333333333,
              "#9c179e"
             ],
             [
              0.4444444444444444,
              "#bd3786"
             ],
             [
              0.5555555555555556,
              "#d8576b"
             ],
             [
              0.6666666666666666,
              "#ed7953"
             ],
             [
              0.7777777777777778,
              "#fb9f3a"
             ],
             [
              0.8888888888888888,
              "#fdca26"
             ],
             [
              1,
              "#f0f921"
             ]
            ],
            "type": "heatmap"
           }
          ],
          "heatmapgl": [
           {
            "colorbar": {
             "outlinewidth": 0,
             "ticks": ""
            },
            "colorscale": [
             [
              0,
              "#0d0887"
             ],
             [
              0.1111111111111111,
              "#46039f"
             ],
             [
              0.2222222222222222,
              "#7201a8"
             ],
             [
              0.3333333333333333,
              "#9c179e"
             ],
             [
              0.4444444444444444,
              "#bd3786"
             ],
             [
              0.5555555555555556,
              "#d8576b"
             ],
             [
              0.6666666666666666,
              "#ed7953"
             ],
             [
              0.7777777777777778,
              "#fb9f3a"
             ],
             [
              0.8888888888888888,
              "#fdca26"
             ],
             [
              1,
              "#f0f921"
             ]
            ],
            "type": "heatmapgl"
           }
          ],
          "histogram": [
           {
            "marker": {
             "pattern": {
              "fillmode": "overlay",
              "size": 10,
              "solidity": 0.2
             }
            },
            "type": "histogram"
           }
          ],
          "histogram2d": [
           {
            "colorbar": {
             "outlinewidth": 0,
             "ticks": ""
            },
            "colorscale": [
             [
              0,
              "#0d0887"
             ],
             [
              0.1111111111111111,
              "#46039f"
             ],
             [
              0.2222222222222222,
              "#7201a8"
             ],
             [
              0.3333333333333333,
              "#9c179e"
             ],
             [
              0.4444444444444444,
              "#bd3786"
             ],
             [
              0.5555555555555556,
              "#d8576b"
             ],
             [
              0.6666666666666666,
              "#ed7953"
             ],
             [
              0.7777777777777778,
              "#fb9f3a"
             ],
             [
              0.8888888888888888,
              "#fdca26"
             ],
             [
              1,
              "#f0f921"
             ]
            ],
            "type": "histogram2d"
           }
          ],
          "histogram2dcontour": [
           {
            "colorbar": {
             "outlinewidth": 0,
             "ticks": ""
            },
            "colorscale": [
             [
              0,
              "#0d0887"
             ],
             [
              0.1111111111111111,
              "#46039f"
             ],
             [
              0.2222222222222222,
              "#7201a8"
             ],
             [
              0.3333333333333333,
              "#9c179e"
             ],
             [
              0.4444444444444444,
              "#bd3786"
             ],
             [
              0.5555555555555556,
              "#d8576b"
             ],
             [
              0.6666666666666666,
              "#ed7953"
             ],
             [
              0.7777777777777778,
              "#fb9f3a"
             ],
             [
              0.8888888888888888,
              "#fdca26"
             ],
             [
              1,
              "#f0f921"
             ]
            ],
            "type": "histogram2dcontour"
           }
          ],
          "mesh3d": [
           {
            "colorbar": {
             "outlinewidth": 0,
             "ticks": ""
            },
            "type": "mesh3d"
           }
          ],
          "parcoords": [
           {
            "line": {
             "colorbar": {
              "outlinewidth": 0,
              "ticks": ""
             }
            },
            "type": "parcoords"
           }
          ],
          "pie": [
           {
            "automargin": true,
            "type": "pie"
           }
          ],
          "scatter": [
           {
            "fillpattern": {
             "fillmode": "overlay",
             "size": 10,
             "solidity": 0.2
            },
            "type": "scatter"
           }
          ],
          "scatter3d": [
           {
            "line": {
             "colorbar": {
              "outlinewidth": 0,
              "ticks": ""
             }
            },
            "marker": {
             "colorbar": {
              "outlinewidth": 0,
              "ticks": ""
             }
            },
            "type": "scatter3d"
           }
          ],
          "scattercarpet": [
           {
            "marker": {
             "colorbar": {
              "outlinewidth": 0,
              "ticks": ""
             }
            },
            "type": "scattercarpet"
           }
          ],
          "scattergeo": [
           {
            "marker": {
             "colorbar": {
              "outlinewidth": 0,
              "ticks": ""
             }
            },
            "type": "scattergeo"
           }
          ],
          "scattergl": [
           {
            "marker": {
             "colorbar": {
              "outlinewidth": 0,
              "ticks": ""
             }
            },
            "type": "scattergl"
           }
          ],
          "scattermapbox": [
           {
            "marker": {
             "colorbar": {
              "outlinewidth": 0,
              "ticks": ""
             }
            },
            "type": "scattermapbox"
           }
          ],
          "scatterpolar": [
           {
            "marker": {
             "colorbar": {
              "outlinewidth": 0,
              "ticks": ""
             }
            },
            "type": "scatterpolar"
           }
          ],
          "scatterpolargl": [
           {
            "marker": {
             "colorbar": {
              "outlinewidth": 0,
              "ticks": ""
             }
            },
            "type": "scatterpolargl"
           }
          ],
          "scatterternary": [
           {
            "marker": {
             "colorbar": {
              "outlinewidth": 0,
              "ticks": ""
             }
            },
            "type": "scatterternary"
           }
          ],
          "surface": [
           {
            "colorbar": {
             "outlinewidth": 0,
             "ticks": ""
            },
            "colorscale": [
             [
              0,
              "#0d0887"
             ],
             [
              0.1111111111111111,
              "#46039f"
             ],
             [
              0.2222222222222222,
              "#7201a8"
             ],
             [
              0.3333333333333333,
              "#9c179e"
             ],
             [
              0.4444444444444444,
              "#bd3786"
             ],
             [
              0.5555555555555556,
              "#d8576b"
             ],
             [
              0.6666666666666666,
              "#ed7953"
             ],
             [
              0.7777777777777778,
              "#fb9f3a"
             ],
             [
              0.8888888888888888,
              "#fdca26"
             ],
             [
              1,
              "#f0f921"
             ]
            ],
            "type": "surface"
           }
          ],
          "table": [
           {
            "cells": {
             "fill": {
              "color": "#EBF0F8"
             },
             "line": {
              "color": "white"
             }
            },
            "header": {
             "fill": {
              "color": "#C8D4E3"
             },
             "line": {
              "color": "white"
             }
            },
            "type": "table"
           }
          ]
         },
         "layout": {
          "annotationdefaults": {
           "arrowcolor": "#2a3f5f",
           "arrowhead": 0,
           "arrowwidth": 1
          },
          "autotypenumbers": "strict",
          "coloraxis": {
           "colorbar": {
            "outlinewidth": 0,
            "ticks": ""
           }
          },
          "colorscale": {
           "diverging": [
            [
             0,
             "#8e0152"
            ],
            [
             0.1,
             "#c51b7d"
            ],
            [
             0.2,
             "#de77ae"
            ],
            [
             0.3,
             "#f1b6da"
            ],
            [
             0.4,
             "#fde0ef"
            ],
            [
             0.5,
             "#f7f7f7"
            ],
            [
             0.6,
             "#e6f5d0"
            ],
            [
             0.7,
             "#b8e186"
            ],
            [
             0.8,
             "#7fbc41"
            ],
            [
             0.9,
             "#4d9221"
            ],
            [
             1,
             "#276419"
            ]
           ],
           "sequential": [
            [
             0,
             "#0d0887"
            ],
            [
             0.1111111111111111,
             "#46039f"
            ],
            [
             0.2222222222222222,
             "#7201a8"
            ],
            [
             0.3333333333333333,
             "#9c179e"
            ],
            [
             0.4444444444444444,
             "#bd3786"
            ],
            [
             0.5555555555555556,
             "#d8576b"
            ],
            [
             0.6666666666666666,
             "#ed7953"
            ],
            [
             0.7777777777777778,
             "#fb9f3a"
            ],
            [
             0.8888888888888888,
             "#fdca26"
            ],
            [
             1,
             "#f0f921"
            ]
           ],
           "sequentialminus": [
            [
             0,
             "#0d0887"
            ],
            [
             0.1111111111111111,
             "#46039f"
            ],
            [
             0.2222222222222222,
             "#7201a8"
            ],
            [
             0.3333333333333333,
             "#9c179e"
            ],
            [
             0.4444444444444444,
             "#bd3786"
            ],
            [
             0.5555555555555556,
             "#d8576b"
            ],
            [
             0.6666666666666666,
             "#ed7953"
            ],
            [
             0.7777777777777778,
             "#fb9f3a"
            ],
            [
             0.8888888888888888,
             "#fdca26"
            ],
            [
             1,
             "#f0f921"
            ]
           ]
          },
          "colorway": [
           "#636efa",
           "#EF553B",
           "#00cc96",
           "#ab63fa",
           "#FFA15A",
           "#19d3f3",
           "#FF6692",
           "#B6E880",
           "#FF97FF",
           "#FECB52"
          ],
          "font": {
           "color": "#2a3f5f"
          },
          "geo": {
           "bgcolor": "white",
           "lakecolor": "white",
           "landcolor": "#E5ECF6",
           "showlakes": true,
           "showland": true,
           "subunitcolor": "white"
          },
          "hoverlabel": {
           "align": "left"
          },
          "hovermode": "closest",
          "mapbox": {
           "style": "light"
          },
          "paper_bgcolor": "white",
          "plot_bgcolor": "#E5ECF6",
          "polar": {
           "angularaxis": {
            "gridcolor": "white",
            "linecolor": "white",
            "ticks": ""
           },
           "bgcolor": "#E5ECF6",
           "radialaxis": {
            "gridcolor": "white",
            "linecolor": "white",
            "ticks": ""
           }
          },
          "scene": {
           "xaxis": {
            "backgroundcolor": "#E5ECF6",
            "gridcolor": "white",
            "gridwidth": 2,
            "linecolor": "white",
            "showbackground": true,
            "ticks": "",
            "zerolinecolor": "white"
           },
           "yaxis": {
            "backgroundcolor": "#E5ECF6",
            "gridcolor": "white",
            "gridwidth": 2,
            "linecolor": "white",
            "showbackground": true,
            "ticks": "",
            "zerolinecolor": "white"
           },
           "zaxis": {
            "backgroundcolor": "#E5ECF6",
            "gridcolor": "white",
            "gridwidth": 2,
            "linecolor": "white",
            "showbackground": true,
            "ticks": "",
            "zerolinecolor": "white"
           }
          },
          "shapedefaults": {
           "line": {
            "color": "#2a3f5f"
           }
          },
          "ternary": {
           "aaxis": {
            "gridcolor": "white",
            "linecolor": "white",
            "ticks": ""
           },
           "baxis": {
            "gridcolor": "white",
            "linecolor": "white",
            "ticks": ""
           },
           "bgcolor": "#E5ECF6",
           "caxis": {
            "gridcolor": "white",
            "linecolor": "white",
            "ticks": ""
           }
          },
          "title": {
           "x": 0.05
          },
          "xaxis": {
           "automargin": true,
           "gridcolor": "white",
           "linecolor": "white",
           "ticks": "",
           "title": {
            "standoff": 15
           },
           "zerolinecolor": "white",
           "zerolinewidth": 2
          },
          "yaxis": {
           "automargin": true,
           "gridcolor": "white",
           "linecolor": "white",
           "ticks": "",
           "title": {
            "standoff": 15
           },
           "zerolinecolor": "white",
           "zerolinewidth": 2
          }
         }
        },
        "width": 800
       }
      }
     },
     "metadata": {},
     "output_type": "display_data"
    },
    {
     "name": "stdout",
     "output_type": "stream",
     "text": [
      "The top five best destiantions are ['Collioure', 'Cassis', 'Aigues Mortes', 'Marseille', 'La Rochelle']\n"
     ]
    }
   ],
   "source": [
    "fig = px.scatter_mapbox(best_weather_df, lat=\"latitude\", lon=\"longitude\",mapbox_style=\"open-street-map\", \\\n",
    "                        hover_name=\"destination\",color='weather_score',size='weather_score', \\\n",
    "                        hover_data={'temp': True,'rain': True,'cloud': True, 'wind': True, \\\n",
    "                                    'weather_score': False, 'latitude':False, 'longitude': False})\n",
    "fig.update_layout(mapbox_style='open-street-map',\n",
    "                  mapbox_zoom = 4.8,\n",
    "                  mapbox_center_lat= 47,\n",
    "                  mapbox_center_lon= 2,\n",
    "                  margin={\"r\": 5, \"t\": 5, \"l\": 5, \"b\": 5},\n",
    "                  autosize=False,\n",
    "                  width=800,\n",
    "                  height=500)\n",
    "fig.show()\n",
    "top_five = list(best_weather_df['destination'][:5])\n",
    "print(f\"The top five best destiantions are {top_five}\")\n"
   ]
  },
  {
   "cell_type": "code",
   "execution_count": 109,
   "metadata": {},
   "outputs": [
    {
     "data": {
      "application/vnd.plotly.v1+json": {
       "config": {
        "plotlyServerURL": "https://plot.ly"
       },
       "data": [
        {
         "customdata": [
          [
           "Villa l'Icône",
           7.2,
           43.21788357,
           5.54760143,
           "Doté d'une connexion Wi-Fi gratuite et d'un jardin, l'établissement Villa l'Icône est situé à Cassis, à 2,5 km du cap Canaille.\n\nLes logements disposent d'une télévision par satellite à écran plat. Certains comprennent également un coin salon et/ou une terrasse. Ils comportent aussi une cuisine équipée d'un micro-ondes, d'une machine à café, d'un réfrigérateur et de plaques de cuisson. Chaque hébergement possède en outre une salle de bains privative pourvue d'un sèche-cheveux et d'une baignoire ou d'une douche.\n\nL'aéroport de Marseille-Provence est implanté à 36 km.",
           "https://www.booking.com/hotel/fr/villa-l-39-icone.fr.html?aid=304142&label=gen173nr-1FCAQoggJCDXNlYXJjaF9jYXNzaXNIDVgEaE2IAQGYAQ24AQrIAQXYAQHoAQH4AQOIAgGoAgO4Atfo66gGwAIB0gIkY2E2ZDBmY2EtY2ZmNy00OThhLTk5MjEtNzc1NmM4NTU0NmIx2AIF4AIB&ucfs=1&arphpl=1&group_adults=2&req_adults=2&no_rooms=1&group_children=0&req_children=0&hpos=25&hapos=25&sr_order=popularity&srpvid=0117762b7bc80249&srepoch=1696265304&from=searchresults"
          ],
          [
           "hotelF1 Marseille EST",
           6.2,
           43.294903,
           5.479747,
           "L'hotelF1 Marseille EST est situé à Marseille, à 8 km du stade Vélodrome et à 10 km du palais du Pharo.\n\nLes chambres comprennent une télévision par câble à écran plat. Toutes les chambres donnent accès à une salle de bains commune pourvue d'une douche.\n\nVous pourrez acheter des serviettes microfibre à l'hôtel moyennant des frais supplémentaires de EUR 3 chacune.\n\nL'hotelF1 Marseille EST se trouve à 7 km du palais Longchamp et à 11 km de La Canebière. L'aéroport de Marseille Provence est implanté à 35 km.",
           "https://www.booking.com/hotel/fr/hotelf1-marseille-valentine.fr.html?aid=304142&label=gen173nr-1FCAQoggJCEHNlYXJjaF9tYXJzZWlsbGVIDVgEaE2IAQGYAQ24AQrIAQXYAQHoAQH4AQOIAgGoAgO4At3o66gGwAIB0gIkNGNhNDBiNmYtYzdjMC00MGQzLTg2MzEtZmMzNTc4MDkzYjRl2AIF4AIB&ucfs=1&arphpl=1&group_adults=2&req_adults=2&no_rooms=1&group_children=0&req_children=0&hpos=25&hapos=25&sr_order=popularity&srpvid=e9e0762e9ee20010&srepoch=1696265310&from_sustainable_property_sr=1&from=searchresults"
          ],
          [
           "Mas de la Montille",
           9.1,
           43.58386486,
           4.23920989,
           "Le Mas de la Montille est situé à Aigues-Mortes, à 10 km de la plage de l'Espiguette. Il possède une piscine ouverte en saison et un jardin avec verger. Vous pourrez également vous détendre dans le bain à remous.\n\nToutes les chambres climatisées de la maison d'hôtes offrent une vue sur le jardin et sont décorées dans un style élégant. Certaines disposent d'un mobilier oriental et d'un coin salon.\n\nUn petit-déjeuner composé de produits bio est disponible et peut être servi dans votre chambre. Des repas faits maison, accompagnés d'un verre commandé au bar, peuvent être préparés sur demande.\n\nLe jardin du Mas de la Montille abrite également une aire de jeux pour enfants avec un trampoline. Vous pourrez également aller voir l'âne et la poule.\n\nLe Mas de la Montille se trouve à 15 km du complexe de golf de La Grande Motte ainsi qu'à 20 km de Montpellier et de sa gare.",
           "https://www.booking.com/hotel/fr/mas-de-la-montille.fr.html?aid=304142&label=gen173nr-1FCAQoggJCFHNlYXJjaF9haWd1ZXMgbW9ydGVzSA1YBGhNiAEBmAENuAEKyAEF2AEB6AEB-AEDiAIBqAIDuAL76OuoBsACAdICJGVhMGVjNDJiLWU4M2QtNDY0YS1hMTQ1LTA2MWMyMDIzNmU4YtgCBeACAQ&ucfs=1&arphpl=1&group_adults=2&req_adults=2&no_rooms=1&group_children=0&req_children=0&hpos=25&hapos=25&sr_order=popularity&srpvid=1a21763daa2a0123&srepoch=1696265340&from_sustainable_property_sr=1&from=searchresults"
          ],
          [
           "Hotel Le Bon Port",
           8.3,
           42.52411449,
           3.08936566,
           "Situé à quelques mètres du moulin à vent de La Cortina, l’Hotel Le Bon Port surplombe élégamment la mer et la baie de Collioure, son château royal et le célèbre clocher de Notre Dame des Anges.\n\nLes chambres proposent ainsi un hébergement confortable dans un cadre méditerranéen et moderne.\n\nVous pourrez admirer cette vue splendide depuis les chambres ainsi que le solarium.\n\nToutes les chambres disposent d’une salle de bains privative, d’une télévision, de la climatisation réversible et d’une réception.\nVeuillez noter que malgré ce que suggèrent quelques photos qui ne peuvent être effacées sur Internet, l'hôtel ne possède plus de piscine.",
           "https://www.booking.com/hotel/fr/le-bon-port.fr.html?aid=304142&label=gen173nr-1FCAQoggJCEHNlYXJjaF9jb2xsaW91cmVIDVgEaE2IAQGYAQ24AQrIAQXYAQHoAQH4AQOIAgGoAgO4Aofp66gGwAIB0gIkYzQ2NWQ4OGItYmExZi00ZWU0LTgzZjgtODUwMzAwMTJhMDVh2AIF4AIB&ucfs=1&arphpl=1&group_adults=2&req_adults=2&no_rooms=1&group_children=0&req_children=0&hpos=25&hapos=25&sr_order=popularity&srpvid=18087643f9150014&srepoch=1696265352&from=searchresults"
          ],
          [
           "Studio Canta la Mar - Vue exceptionnelle",
           9.2,
           42.5244311,
           3.09031585,
           "Studio Canta La Mar - Vue exceptionnelle est un établissement en bord de mer situé à Collioure, à 100 mètres de la plage de La Ballette et à 300 mètres du moulin de Collioure. Il offre une vue sur la mer et la ville.\n\nCet appartement climatisé comprend une chambre, un salon, une cuisine entièrement équipée avec un micro-ondes et une bouilloire ainsi qu'une salle de bains pourvue d'une douche et d'un sèche-cheveux.\n\nLors de votre séjour, vous pourrez profiter d'une terrasse.\n\nLe musée de Collioure se trouve à 400 mètres. Enfin, l'aéroport de Perpignan-Rivesaltes, le plus proche, est implanté à 39 km du Studio Canta la Mar - Vue exceptionnelle.",
           "https://www.booking.com/hotel/fr/studio-canta-la-mar-vue-exceptionnelle.fr.html?aid=304142&label=gen173nr-1FCAQoggJCEHNlYXJjaF9jb2xsaW91cmVIDVgEaE2IAQGYAQ24AQrIAQXYAQHoAQH4AQOIAgGoAgO4Aofp66gGwAIB0gIkYzQ2NWQ4OGItYmExZi00ZWU0LTgzZjgtODUwMzAwMTJhMDVh2AIF4AIB&ucfs=1&arphpl=1&group_adults=2&req_adults=2&no_rooms=1&group_children=0&req_children=0&hpos=24&hapos=24&sr_order=popularity&srpvid=18087643f9150014&srepoch=1696265352&from_sustainable_property_sr=1&from=searchresults"
          ],
          [
           "Appartement Collioure, 2 pièces, 2 personnes - FR-1-309-407",
           null,
           42.5240672,
           3.0879529,
           "Set 200 metres from Balette Beach, 200 metres from Boutigue Beach and 300 metres from Port Avall Beach, Appartement Collioure, 2 pièces, 2 personnes - FR-1-309-407 offers accommodation located in Collioure. This apartment is 3.5 km from Casino Collioure and 23 km from Saint-Cyprien Golf Course.\n\nThe apartment has 1 bedroom, a TV, an equipped kitchen with an oven and a microwave, a washing machine, and 1 bathroom with a bath.\n\nCollioure Royal Castle is 700 metres from the apartment, while Stade Gilbert Brutus is 34 km from the property. The nearest airport is Perpignan - Rivesaltes Airport, 42 km from Appartement Collioure, 2 pièces, 2 personnes - FR-1-309-407.",
           "https://www.booking.com/hotel/fr/appartement-collioure-2-pieces-2-personnes-fr-1-309-407.fr.html?aid=304142&label=gen173nr-1FCAQoggJCEHNlYXJjaF9jb2xsaW91cmVIDVgEaE2IAQGYAQ24AQrIAQXYAQHoAQH4AQOIAgGoAgO4Aofp66gGwAIB0gIkYzQ2NWQ4OGItYmExZi00ZWU0LTgzZjgtODUwMzAwMTJhMDVh2AIF4AIB&ucfs=1&arphpl=1&group_adults=2&req_adults=2&no_rooms=1&group_children=0&req_children=0&hpos=23&hapos=23&sr_order=popularity&srpvid=18087643f9150014&srepoch=1696265352&from=searchresults"
          ],
          [
           "Matisse studio in centre near beach w/ balcony, AC",
           null,
           42.5270323,
           3.0845335,
           "Situated in Collioure, 90 metres from Boramar Beach and 200 metres from Nord Beach, Matisse studio in centre near beach w/ balcony, AC features air-conditioned accommodation with a balcony and free WiFi. The property features city views and is 200 metres from Saint Vincent Beach and 70 metres from Collioure Royal Castle.\n\nThe apartment has 1 bedroom, a flat-screen TV with streaming services, an equipped kitchen with an oven and a microwave, a washing machine, and 1 bathroom with a walk-in shower. Towels and bed linen are available in the apartment.\n\nStade Gilbert Brutus is 33 km from the apartment, while Casino Collioure is 2.8 km from the property. The nearest airport is Perpignan - Rivesaltes Airport, 41 km from Matisse studio in centre near beach w/ balcony, AC.",
           "https://www.booking.com/hotel/fr/matisse-studio-in-centre-near-beach-w-balcony-ac.fr.html?aid=304142&label=gen173nr-1FCAQoggJCEHNlYXJjaF9jb2xsaW91cmVIDVgEaE2IAQGYAQ24AQrIAQXYAQHoAQH4AQOIAgGoAgO4Aofp66gGwAIB0gIkYzQ2NWQ4OGItYmExZi00ZWU0LTgzZjgtODUwMzAwMTJhMDVh2AIF4AIB&ucfs=1&arphpl=1&group_adults=2&req_adults=2&no_rooms=1&group_children=0&req_children=0&hpos=22&hapos=22&sr_order=popularity&srpvid=18087643f9150014&srepoch=1696265352&from=searchresults"
          ],
          [
           "Ibanova Appartements",
           8.4,
           42.5231333,
           3.0855761,
           "Situé à Collioure, en Occitanie, avec les plages de Boutigue et de Port Avall Situé à proximité, l'Ibanova Appartements propose des hébergements avec une connexion Wi-Fi et un parking privé gratuits, ainsi que l'accès à un bain à remous.\n\nRevêtus de carrelage, les logements comprennent un coin repas, une télévision à écran plat ainsi qu'une salle de bains privative pourvue d'une douche et d'un sèche-cheveux. Ils comprennent également un four, un micro-ondes, un grille-pain, une machine à café et une bouilloire.\n\nVous pourrez profiter du spa sur place.\n\nVous séjournerez à 400 mètres de la plage de Balette et à 500 mètres du château royal de Collioure. L'aéroport de Perpignan-Rivesaltes, le plus proche, est à 42 km.",
           "https://www.booking.com/hotel/fr/ibanova.fr.html?aid=304142&label=gen173nr-1FCAQoggJCEHNlYXJjaF9jb2xsaW91cmVIDVgEaE2IAQGYAQ24AQrIAQXYAQHoAQH4AQOIAgGoAgO4Aofp66gGwAIB0gIkYzQ2NWQ4OGItYmExZi00ZWU0LTgzZjgtODUwMzAwMTJhMDVh2AIF4AIB&ucfs=1&arphpl=1&group_adults=2&req_adults=2&no_rooms=1&group_children=0&req_children=0&hpos=21&hapos=21&sr_order=popularity&srpvid=18087643f9150014&srepoch=1696265352&from=searchresults"
          ],
          [
           "Le Clos Saint Elme",
           7.8,
           42.52328654,
           3.0813629,
           "Situé à Collioure, à 30 km de Roses, l'établissement Le Clos Saint Elme propose des chambres climatisées et une connexion Wi-Fi gratuite dans l'ensemble de ses locaux. Un parking privé est disponible gratuitement sur place.\n\nCertains logements comprennent un coin salon propice à la détente. Il dispose également d'une télévision à écran plat.\n\nLe petit-déjeuner est inclus dans certaines chambres.\n\nVous pourrez pratiquer de nombreuses activités, telles que le canoë-kayak et la randonnée. Cadaqués se trouve à 31 km du Clos Saint Melme, tandis que Perpignan est à 25 km. L'aéroport le plus proche, celui de Perpignan-Rivesaltes, est situé à 30 km.",
           "https://www.booking.com/hotel/fr/les-lauriers-roses-collioure.fr.html?aid=304142&label=gen173nr-1FCAQoggJCEHNlYXJjaF9jb2xsaW91cmVIDVgEaE2IAQGYAQ24AQrIAQXYAQHoAQH4AQOIAgGoAgO4Aofp66gGwAIB0gIkYzQ2NWQ4OGItYmExZi00ZWU0LTgzZjgtODUwMzAwMTJhMDVh2AIF4AIB&ucfs=1&arphpl=1&group_adults=2&req_adults=2&no_rooms=1&group_children=0&req_children=0&hpos=20&hapos=20&sr_order=popularity&srpvid=18087643f9150014&srepoch=1696265352&from=searchresults"
          ],
          [
           "Hôtel des Templiers",
           8,
           42.52666546,
           3.08394089,
           "Comportant 2 000 œuvres d'art originales de peintres du XXe siècle y ayant séjourné, l'Hôtel des Templiers est situé à 200 mètres du château royal de Collioure. Vous pourrez déguster une cuisine catalane dans son restaurant.\n\nLes chambres offrent une vue sur le château et le port. Elles comprennent une télévision à écran LCD et certaines disposent d'une décoration catalane avec des meubles anciens. Une connexion Wi-Fi est disponible dans chacune d'entre elles.\n\nVous pourrez prendre un verre au bar ou sur la terrasse ombragée. Le petit-déjeuner est servi tous les matins.\n\nLa gare de Collioure est située à seulement 550 mètres et la réserve naturelle du Mas Larrieu est accessible en 20 minutes en voiture. L'hôtel se trouve dans une rue piétonne et un parking public est disponible à 400 mètres.",
           "https://www.booking.com/hotel/fr/ha-tel-des-templiers.fr.html?aid=304142&label=gen173nr-1FCAQoggJCEHNlYXJjaF9jb2xsaW91cmVIDVgEaE2IAQGYAQ24AQrIAQXYAQHoAQH4AQOIAgGoAgO4Aofp66gGwAIB0gIkYzQ2NWQ4OGItYmExZi00ZWU0LTgzZjgtODUwMzAwMTJhMDVh2AIF4AIB&ucfs=1&arphpl=1&group_adults=2&req_adults=2&no_rooms=1&group_children=0&req_children=0&hpos=19&hapos=19&sr_order=popularity&srpvid=18087643f9150014&srepoch=1696265352&from_sustainable_property_sr=1&from=searchresults"
          ],
          [
           "Les Suites de Collioure",
           9.3,
           42.52439,
           3.082726,
           "Situé à 200 mètres de la plage de Port Avall à Collioure, l'établissement Les Suites de Collioure propose des hébergements climatisés avec connexion Wi-Fi gratuite.\n\nLes logements comprennent une télévision à écran plat ainsi qu'une salle de bains privative pourvue d'une douche et d'un sèche-cheveux. Leur cuisine est équipée d'un lave-vaisselle, d'un four et d'un micro-ondes. Un grille-pain, un réfrigérateur, des plaques de cuisson, une machine à café et une bouilloire sont également fournis.\n\nVous séjournerez à proximité des plages de Boramar, de Boutigue et de Balette. L'aéroport de Perpignan-Rivesaltes, le plus proche, est implanté à 42 km.",
           "https://www.booking.com/hotel/fr/les-suites-de-collioure.fr.html?aid=304142&label=gen173nr-1FCAQoggJCEHNlYXJjaF9jb2xsaW91cmVIDVgEaE2IAQGYAQ24AQrIAQXYAQHoAQH4AQOIAgGoAgO4Aofp66gGwAIB0gIkYzQ2NWQ4OGItYmExZi00ZWU0LTgzZjgtODUwMzAwMTJhMDVh2AIF4AIB&ucfs=1&arphpl=1&group_adults=2&req_adults=2&no_rooms=1&group_children=0&req_children=0&hpos=18&hapos=18&sr_order=popularity&srpvid=18087643f9150014&srepoch=1696265352&from_sustainable_property_sr=1&from=searchresults"
          ],
          [
           "Les Jasmins",
           8.4,
           42.5235481,
           3.08187379,
           "La Chambre d'hôtes Les Jasmins est située à Collioure, à 4 minutes à pied de la plage. Une connexion Wi-Fi est disponible gratuitement. Argeles-sur-Mer se trouve à 14 minutes en voiture.\n\nLa chambre double est équipée d'une kitchenette avec réfrigérateur, plaques de cuisson et ustensiles de cuisine. Le petit-déjeuner peut être servi en chambre ou sur la terrasse privée. La salle de bains privative est pourvue d'une douche et d'un sèche-cheveux.\n\nL'aéroport de Perpignan-Rivesaltes est à 36 km. La frontière espagnole est accessible en 40 minutes de route. Le stationnement sur place est gratuit.",
           "https://www.booking.com/hotel/fr/chambre-d-39-hotes-les-jasmins.fr.html?aid=304142&label=gen173nr-1FCAQoggJCEHNlYXJjaF9jb2xsaW91cmVIDVgEaE2IAQGYAQ24AQrIAQXYAQHoAQH4AQOIAgGoAgO4Aofp66gGwAIB0gIkYzQ2NWQ4OGItYmExZi00ZWU0LTgzZjgtODUwMzAwMTJhMDVh2AIF4AIB&ucfs=1&arphpl=1&group_adults=2&req_adults=2&no_rooms=1&group_children=0&req_children=0&hpos=17&hapos=17&sr_order=popularity&srpvid=18087643f9150014&srepoch=1696265352&from_sustainable_property_sr=1&from=searchresults"
          ],
          [
           "Le Petit Colliourenc",
           9,
           42.52612488,
           3.07560664,
           "Situé à 1,1 km de la plage de Boramar, à 1,2 km de celle de Port Avall et à 1,3 km de celle de Ouille, l'établissement Le Petit Colliourenc propose un hébergement à Collioure. Vous pourrez profiter d'une terrasse et d'un parking privé gratuit.\n\nCet appartement climatisé comprend une chambre, un salon, une cuisine entièrement équipée avec lave-vaisselle et machine à café ainsi qu'une salle de bains pourvue d'une douche. Il dispose également d'une télévision.\n\nVous séjournerez à 1,1 km du château royal de Collioure et à 33 km du stade Gilbert Brutus. L'aéroport le plus proche, celui de Perpignan-Rivesaltes, est situé à 33 km.",
           "https://www.booking.com/hotel/fr/le-petit-colliourenc.fr.html?aid=304142&label=gen173nr-1FCAQoggJCEHNlYXJjaF9jb2xsaW91cmVIDVgEaE2IAQGYAQ24AQrIAQXYAQHoAQH4AQOIAgGoAgO4Aofp66gGwAIB0gIkYzQ2NWQ4OGItYmExZi00ZWU0LTgzZjgtODUwMzAwMTJhMDVh2AIF4AIB&ucfs=1&arphpl=1&group_adults=2&req_adults=2&no_rooms=1&group_children=0&req_children=0&hpos=16&hapos=16&sr_order=popularity&srpvid=18087643f9150014&srepoch=1696265352&from=searchresults"
          ],
          [
           "Hôtel la Bona Casa",
           8.6,
           42.52547153,
           3.0826987,
           "L'Hôtel la Bona Casa est situé dans le centre historique de Collioure, à seulement 300 mètres du château royal et de la plage. Il propose une connexion Wi-Fi gratuite et une terrasse ombragée.\n\nLes chambres offrent une vue sur la rue ou la terrasse. Certains logements sont dotés d'une terrasse privée. Les hébergements comportent une télévision à écran plat et une salle de bains privative pourvue d'articles de toilette gratuits. L'établissement est entièrement non-fumeurs.\n\nUn petit-déjeuner continental est préparé chaque matin. Vous trouverez des boutiques et des restaurants à moins de 200 mètres. Sur place, vous pourrez vous détendre dans le salon de thé de mars à octobre, ou faire du shopping au magasin de vêtements.\n\nVous séjournerez à 3 km de Port-Vendres et à 6 km d'Argelès-sur-Mer. L'établissement est à 30 minutes de route du centre de Perpignan et de la frontière espagnole, également accessible en train.",
           "https://www.booking.com/hotel/fr/la-bona-casa.fr.html?aid=304142&label=gen173nr-1FCAQoggJCEHNlYXJjaF9jb2xsaW91cmVIDVgEaE2IAQGYAQ24AQrIAQXYAQHoAQH4AQOIAgGoAgO4Aofp66gGwAIB0gIkYzQ2NWQ4OGItYmExZi00ZWU0LTgzZjgtODUwMzAwMTJhMDVh2AIF4AIB&ucfs=1&arphpl=1&group_adults=2&req_adults=2&no_rooms=1&group_children=0&req_children=0&hpos=15&hapos=15&sr_order=popularity&srpvid=18087643f9150014&srepoch=1696265352&from=searchresults"
          ],
          [
           "Appartement Collioure le haut",
           6,
           42.52591317,
           3.07578909,
           "L'Appartement Collioure le haut est situé à Collioure, à 1,2 km de la plage de Port Avall, à 1,3 km de celle d'Ouille et à 1 km du château royal. Vous bénéficierez gratuitement d'un parking privé et d'une connexion Wi-Fi. Cet établissement non-fumeurs se trouve à 1,1 km de la plage de Boramar.\n\nCet appartement comprend une chambre, une cuisine entièrement équipée et une salle de bains.\n\nVous séjournerez à 2,5 km du casino de Collioure et à 33 km du stade Gilbert Brutus.",
           "https://www.booking.com/hotel/fr/appartement-collioure-le-haut-collioure.fr.html?aid=304142&label=gen173nr-1FCAQoggJCEHNlYXJjaF9jb2xsaW91cmVIDVgEaE2IAQGYAQ24AQrIAQXYAQHoAQH4AQOIAgGoAgO4Aofp66gGwAIB0gIkYzQ2NWQ4OGItYmExZi00ZWU0LTgzZjgtODUwMzAwMTJhMDVh2AIF4AIB&ucfs=1&arphpl=1&group_adults=2&req_adults=2&no_rooms=1&group_children=0&req_children=0&hpos=14&hapos=14&sr_order=popularity&srpvid=18087643f9150014&srepoch=1696265352&from=searchresults"
          ],
          [
           "La Chambre De Salome",
           8.8,
           42.5211169,
           3.07730913,
           "Doté d'une piscine extérieure ouverte en saison, l'établissement La Chambre De Salome est situé à Collioure. Vous bénéficierez gratuitement d'une connexion Wi-Fi et d'un parking privé.\n\nDotés d'une terrasse, les logements comprennent la climatisation, une télévision à écran plat ainsi qu'une salle de bains privative avec douche et sèche-cheveux. Un réfrigérateur et une bouilloire sont également fournis.\n\nCe Bed & Breakfast sert un petit-déjeuner continental chaque matin.\n\nVous pourrez également vous détendre dans le jardin.\n\nVous séjournerez à proximité des plages de Port Avall, de Boutigue et de Boramar. L'aéroport de Perpignan-Rivesaltes, le plus proche, est à 35 km.",
           "https://www.booking.com/hotel/fr/la-chambre-de-salome.fr.html?aid=304142&label=gen173nr-1FCAQoggJCEHNlYXJjaF9jb2xsaW91cmVIDVgEaE2IAQGYAQ24AQrIAQXYAQHoAQH4AQOIAgGoAgO4Aofp66gGwAIB0gIkYzQ2NWQ4OGItYmExZi00ZWU0LTgzZjgtODUwMzAwMTJhMDVh2AIF4AIB&ucfs=1&arphpl=1&group_adults=2&req_adults=2&no_rooms=1&group_children=0&req_children=0&hpos=13&hapos=13&sr_order=popularity&srpvid=18087643f9150014&srepoch=1696265352&from=searchresults"
          ],
          [
           "Residence Pierre & Vacances Les Balcons de Collioure",
           8,
           42.52510633,
           3.0904362,
           "La Residence Pierre & Vacances Les Balcons de Collioure propose des hébergements indépendants et confortables à seulement 500 mètres de la plage. Elle possède un solarium offrant une vue magnifique sur la baie.\n\nLes studios disposent d'une télévision à écran plat, d'une salle de bains privative et d'une kitchenette équipée d'un lave-vaisselle. Vous pourrez emprunter gratuitement des jeux de société.\n\nDes produits de boulangerie pourront être livrés dans votre appartement sur commande effectuée auprès de la réception la veille au soir. La liste des produits disponibles est affichée dans les appartements et à la réception. Ce service entraîne des frais supplémentaires.\n\nLa Residence Pierre & Vacances Les Balcons de Collioure se trouve à quelques pas du centre de Collioure, regroupant différents magasins et restaurants. Elle est située à 27 km de Perpignan. Vous pourrez profiter d'un parking couvert privé sur place moyennant des frais supplémentaires.",
           "https://www.booking.com/hotel/fr/maevabalconsdecollioure.fr.html?aid=304142&label=gen173nr-1FCAQoggJCEHNlYXJjaF9jb2xsaW91cmVIDVgEaE2IAQGYAQ24AQrIAQXYAQHoAQH4AQOIAgGoAgO4Aofp66gGwAIB0gIkYzQ2NWQ4OGItYmExZi00ZWU0LTgzZjgtODUwMzAwMTJhMDVh2AIF4AIB&ucfs=1&arphpl=1&group_adults=2&req_adults=2&no_rooms=1&group_children=0&req_children=0&hpos=12&hapos=12&sr_order=popularity&srpvid=18087643f9150014&srepoch=1696265352&from=searchresults"
          ],
          [
           "Coquet 2 pièces au centre de Collioure",
           9,
           42.5273872,
           3.0823386,
           "Doté d'une terrasse, le Coquet 2 pièces au centre de Collioure est situé à Collioure, à seulement 300 mètres de la plage de Boramar et à 400 mètres de celle du Nord. Offrant une vue sur la ville, il dispose d'une plage privée, d'un jardin et d'une connexion Wi-Fi gratuite dans l'ensemble de ses locaux.\n\nCet appartement climatisé comprend une chambre, un salon, une cuisine entièrement équipée avec un lave-vaisselle et une machine à café ainsi qu'une salle de bains pourvue d'une douche et d'un sèche-cheveux. Il dispose également d'une télévision à écran plat.\n\nUne aire de pique-nique est disponible sur place. Vous pourrez faire de la randonnée et des randonnées à pied dans les environs.\n\nVous séjournerez à 400 mètres de la plage de Saint-Vincent et à 200 mètres du château royal de Collioure. L'aéroport de Perpignan-Rivesaltes, le plus proche, est à 41 km.",
           "https://www.booking.com/hotel/fr/coquet-2-pieces-au-centre-de-collioure.fr.html?aid=304142&label=gen173nr-1FCAQoggJCEHNlYXJjaF9jb2xsaW91cmVIDVgEaE2IAQGYAQ24AQrIAQXYAQHoAQH4AQOIAgGoAgO4Aofp66gGwAIB0gIkYzQ2NWQ4OGItYmExZi00ZWU0LTgzZjgtODUwMzAwMTJhMDVh2AIF4AIB&ucfs=1&arphpl=1&group_adults=2&req_adults=2&no_rooms=1&group_children=0&req_children=0&hpos=11&hapos=11&sr_order=popularity&srpvid=18087643f9150014&srepoch=1696265352&from=searchresults"
          ],
          [
           "Les Roches Brunes",
           9.1,
           42.52534777,
           3.09032446,
           "Situé à Collioure, à 70 mètres de la plage de Balette, l'établissement Les Roches Brunes propose un jardin, un parking privé gratuit, une terrasse et un restaurant. Doté d'un bar, cet hôtel 4 étoiles propose des chambres climatisées avec salle de bains privative. Vous pourrez profiter d'une vue sur la mer.\n\nLes chambres sont équipées d'une télévision à écran plat. Chaque chambre est équipée d'un coffre-fort, tandis que certaines possèdent un balcon.\n\nL'établissement Les Roches Brunes sert un petit-déjeuner continental.\n\nVous séjournerez à proximité des plages de Boutigue, de Saint-Vincent et du château royal de Collioure. L'aéroport de Perpignan-Rivesaltes, le plus proche, est à 42 km.",
           "https://www.booking.com/hotel/fr/les-roches-brunes-collioure.fr.html?aid=304142&label=gen173nr-1FCAQoggJCEHNlYXJjaF9jb2xsaW91cmVIDVgEaE2IAQGYAQ24AQrIAQXYAQHoAQH4AQOIAgGoAgO4Aofp66gGwAIB0gIkYzQ2NWQ4OGItYmExZi00ZWU0LTgzZjgtODUwMzAwMTJhMDVh2AIF4AIB&ucfs=1&arphpl=1&group_adults=2&req_adults=2&no_rooms=1&group_children=0&req_children=0&hpos=10&hapos=10&sr_order=popularity&srpvid=18087643f9150014&srepoch=1696265352&from_sustainable_property_sr=1&from=searchresults"
          ],
          [
           "Le Madeloc Hôtel & Spa",
           8.9,
           42.52876467,
           3.07865426,
           "Situé à 500 mètres du centre-ville de Collioure et à 10 minutes à pied de la plage, l'hôtel Madeloc propose une piscine extérieure chauffée ouverte toute l'année, un solarium sur le toit, un jacuzzi et un hammam. Des soins de beauté et des massages sont dispensés sur demande.\n\nPrésentant des tons neutres rehaussés d'une couleur vive, les chambres climatisées de l'établissement comprennent une télévision à écran LCD et un minibar. Certaines sont dotées d'une terrasse ou d'un balcon. Les chambres sont aménagées à l'un des trois étages de l'hôtel et sont uniquement accessibles par des escaliers. L'une d’elles est adaptée aux personnes à mobilité réduite.\n\nChaque matin, l’établissement sert un petit-déjeuner buffet. Vous pourrez déguster ce repas dans le confort de votre chambre. Par ailleurs, le Madeloc est équipé d'une connexion Wi-Fi gratuite dans l'ensemble de son enceinte.\n\nCet hôtel possède en outre une boutique de souvenirs vendant des produits locaux, des produits de spa et des bijoux.\n\nL'établissement est implanté à seulement 200 mètres de la gare de Collioure et à 5 minutes de la D914. Il se trouve également à 6,5 km d'Argelès-sur-Mer et à 25,5 km de la frontière espagnole. Sur demande et moyennant des frais supplémentaires, un parking privé est disponible sur place.",
           "https://www.booking.com/hotel/fr/madeloc.fr.html?aid=304142&label=gen173nr-1FCAQoggJCEHNlYXJjaF9jb2xsaW91cmVIDVgEaE2IAQGYAQ24AQrIAQXYAQHoAQH4AQOIAgGoAgO4Aofp66gGwAIB0gIkYzQ2NWQ4OGItYmExZi00ZWU0LTgzZjgtODUwMzAwMTJhMDVh2AIF4AIB&ucfs=1&arphpl=1&group_adults=2&req_adults=2&no_rooms=1&group_children=0&req_children=0&hpos=9&hapos=9&sr_order=popularity&srpvid=18087643f9150014&srepoch=1696265352&from_sustainable_property_sr=1&from=searchresults"
          ],
          [
           "Résidence Saint Vincent",
           8,
           42.52730095,
           3.08423268,
           "Située à 80 mètres de la plage de Boramar à Collioure, la Résidence Saint Vincent propose des hébergements climatisés avec connexion Wi-Fi gratuite.\n\nTous les logements comprennent un canapé, un coin salon, une télévision à écran plat, une cuisine bien équipée avec un coin repas et une salle de bains privative pourvue d'un sèche-cheveux. Un micro-ondes, un réfrigérateur, des plaques de cuisson et une machine à café sont également fournis.\n\nVous pourrez pratiquer la pêche et la randonnée dans les environs.\n\nVous séjournerez à proximité des plages du Nord, de Saint-Vincent et du château royal de Collioure. L'aéroport de Perpignan-Rivesaltes, le plus proche, est implanté à 41 km.",
           "https://www.booking.com/hotel/fr/residence-saint-vincent.fr.html?aid=304142&label=gen173nr-1FCAQoggJCEHNlYXJjaF9jb2xsaW91cmVIDVgEaE2IAQGYAQ24AQrIAQXYAQHoAQH4AQOIAgGoAgO4Aofp66gGwAIB0gIkYzQ2NWQ4OGItYmExZi00ZWU0LTgzZjgtODUwMzAwMTJhMDVh2AIF4AIB&ucfs=1&arphpl=1&group_adults=2&req_adults=2&no_rooms=1&group_children=0&req_children=0&hpos=8&hapos=8&sr_order=popularity&srpvid=18087643f9150014&srepoch=1696265352&from_sustainable_property_sr=1&from=searchresults"
          ],
          [
           "Hôtel Princes de Catalogne",
           8,
           42.52591431,
           3.0826816,
           "Installé dans la ville pittoresque de Collioure, l’Hôtel Princes de Catalogne vous accueille sur une place tranquille, à 400 mètres de la plage. L'hôtel a été rénové début 2021 et présente un style contemporain.\n\nToutes les chambres de l'Hôtel Princes de Catalogne sont climatisées et offrent une vue sur les montagnes, le Fort Miradou ou une rue calme. Les hébergements sont équipés d'une télévision et d'une connexion Wi-Fi gratuite.\n\nLe personnel de l’Hôtel Princes se fera un plaisir de vous aider à organiser des excursions, des visites guidées ou d’autres activités telles que la thalassothérapie et l’escalade.",
           "https://www.booking.com/hotel/fr/princes-de-catalogne.fr.html?aid=304142&label=gen173nr-1FCAQoggJCEHNlYXJjaF9jb2xsaW91cmVIDVgEaE2IAQGYAQ24AQrIAQXYAQHoAQH4AQOIAgGoAgO4Aofp66gGwAIB0gIkYzQ2NWQ4OGItYmExZi00ZWU0LTgzZjgtODUwMzAwMTJhMDVh2AIF4AIB&ucfs=1&arphpl=1&group_adults=2&req_adults=2&no_rooms=1&group_children=0&req_children=0&hpos=7&hapos=7&sr_order=popularity&srpvid=18087643f9150014&srepoch=1696265352&from_sustainable_property_sr=1&from=searchresults"
          ],
          [
           "Résidence du Soleil",
           7.9,
           42.52311754,
           3.0854253,
           "Situé dans le centre-ville de Collioure, à 400 mètres du château royal et à 100 mètres de la plage, cet appartement dispose d'une terrasse et d'un jardin. Vous bénéficierez gratuitement d'une connexion Wi-Fi et d'un parking privé sur place.\n\nLa cuisine est équipée d'un four et d'un micro-ondes. Il dispose également d'une télévision à écran plat. La Résidence du Soleil comporte également un barbecue.\n\nLa région est prisée des amateurs de plongée sous-marine et avec tuba. Vous aurez la possibilité de pratiquer différentes activités dans les environs, telles que le vélo et la pêche. L'aéroport de Perpignan-Rivesaltes est implanté à 30 km.",
           "https://www.booking.com/hotel/fr/residence-du-soleil-collioure.fr.html?aid=304142&label=gen173nr-1FCAQoggJCEHNlYXJjaF9jb2xsaW91cmVIDVgEaE2IAQGYAQ24AQrIAQXYAQHoAQH4AQOIAgGoAgO4Aofp66gGwAIB0gIkYzQ2NWQ4OGItYmExZi00ZWU0LTgzZjgtODUwMzAwMTJhMDVh2AIF4AIB&ucfs=1&arphpl=1&group_adults=2&req_adults=2&no_rooms=1&group_children=0&req_children=0&hpos=6&hapos=6&sr_order=popularity&srpvid=18087643f9150014&srepoch=1696265352&from=searchresults"
          ],
          [
           "Hôtel Triton",
           7.2,
           42.52371617,
           3.08713473,
           "Situé sur la plage du Boutiquet, l’Hôtel Triton propose des chambres climatisées donnant sur la baie de Collioure ou sur les Pyrénées. Une connexion Wi-Fi gratuite est disponible dans le bâtiment d’origine.\n\nLes chambres de l’Hôtel Triton sont équipées d’une télévision et d’un téléphone. Certains hébergements comprennent un balcon. La salle de bains privative est pourvue d’une douche ou d’une baignoire. Les chambres sont aménagées dans le bâtiment d’origine de l’établissement ou dans son annexe plus récente.\n\nChaque matin, vous pourrez savourer un petit-déjeuner buffet incluant des croissants et du pain frais sur la terrasse, qui offre une vue sur la mer.\n\nL’Hôtel Triton bénéficie d’une vue magnifique sur la ville fortifiée de Collioure, le château et le clocher. Vous séjournerez à 7 km d’Argelès-sur-Mer, à 25 km de la frontière espagnole et à 30 km de Perpignan. Un parking public est à votre disposition en face de l’établissement, moyennant des frais supplémentaires.",
           "https://www.booking.com/hotel/fr/triton.fr.html?aid=304142&label=gen173nr-1FCAQoggJCEHNlYXJjaF9jb2xsaW91cmVIDVgEaE2IAQGYAQ24AQrIAQXYAQHoAQH4AQOIAgGoAgO4Aofp66gGwAIB0gIkYzQ2NWQ4OGItYmExZi00ZWU0LTgzZjgtODUwMzAwMTJhMDVh2AIF4AIB&ucfs=1&arphpl=1&group_adults=2&req_adults=2&no_rooms=1&group_children=0&req_children=0&hpos=5&hapos=5&sr_order=popularity&srpvid=18087643f9150014&srepoch=1696265352&from_sustainable_property_sr=1&from=searchresults"
          ],
          [
           "Hotel Méditerranée",
           7.8,
           42.52708254,
           3.08026291,
           "Doté d'un jardin de style méditerranéen et d'une terrasse, l'Hotel Méditerranée se trouve à Collioure, à 5 minutes de marche de la plage la plus proche. Une connexion Wi-Fi gratuite et un parking privé sont mis à votre disposition sur place.\n\nToutes les chambres sont climatisées et pourvues d'un balcon et d'une télévision par satellite à écran plat. Elles possèdent également un réfrigérateur, un téléphone et un coffre-fort. Chaque chambre dispose d'une salle de bains avec une baignoire ou une douche.\n\nUn petit-déjeuner buffet est servi tous les matins, et vous pourrez le déguster sur la terrasse par beau temps.\n\nL'établissement propose une bagagerie.\n\nArgèles-sur-Mer se situe à 7,3 km et la frontière espagnole est à 26 km. L'aéroport de Perpignan-Rivesaltes est le plus proche, à 38 km.",
           "https://www.booking.com/hotel/fr/mediterranee-collioure.fr.html?aid=304142&label=gen173nr-1FCAQoggJCEHNlYXJjaF9jb2xsaW91cmVIDVgEaE2IAQGYAQ24AQrIAQXYAQHoAQH4AQOIAgGoAgO4Aofp66gGwAIB0gIkYzQ2NWQ4OGItYmExZi00ZWU0LTgzZjgtODUwMzAwMTJhMDVh2AIF4AIB&ucfs=1&arphpl=1&group_adults=2&req_adults=2&no_rooms=1&group_children=0&req_children=0&hpos=4&hapos=4&sr_order=popularity&srpvid=18087643f9150014&srepoch=1696265352&from_sustainable_property_sr=1&from=searchresults"
          ],
          [
           "Hôtel La Casa Pairal",
           8.9,
           42.52616733,
           3.08235571,
           "Situé à 250 mètres de la plage et du port de Collioure, l’Hôtel La Casa Pairal propose un jardin fleuri exotique et une piscine extérieure chauffée. Il occupe un bâtiment catalan du XIXe siècle au cœur du vieux quartier de Collioure.\n\nLes chambres à la décoration traditionnelle de l’Hôtel La Casa Pairal sont climatisées. Elles possèdent toutes une télévision par satellite à écran plat, un minibar et une connexion Wi-Fi gratuite. Certaines offrent une vue sur la ville, la cour de l’hôtel et sa fontaine, ou la place du village.\n\nA l’Hôtel La Casa Pairal, un petit-déjeuner buffet pourra vous être servi tous les jours dans la salle prévue à cet effet ou dans votre chambre sur demande. Vous pourrez également prendre un verre dans le jardin de l’hôtel.\n\nLa réception est ouverte 24h/24. Des journaux gratuits et un coffre-fort sont également disponibles.\n\nLa gare de Collioure se trouve à 500 mètres. Vous séjournerez à 23 km de la frontière espagnole.",
           "https://www.booking.com/hotel/fr/hotelcasapairal.fr.html?aid=304142&label=gen173nr-1FCAQoggJCEHNlYXJjaF9jb2xsaW91cmVIDVgEaE2IAQGYAQ24AQrIAQXYAQHoAQH4AQOIAgGoAgO4Aofp66gGwAIB0gIkYzQ2NWQ4OGItYmExZi00ZWU0LTgzZjgtODUwMzAwMTJhMDVh2AIF4AIB&ucfs=1&arphpl=1&group_adults=2&req_adults=2&no_rooms=1&group_children=0&req_children=0&hpos=3&hapos=3&sr_order=popularity&srpvid=18087643f9150014&srepoch=1696265352&from_sustainable_property_sr=1&from=searchresults"
          ],
          [
           "La Frégate",
           8.3,
           42.52638625,
           3.08325659,
           "Situé à Collioure, l'établissement La Frégate possède un bar, un restaurant, une terrasse et un salon commun. L'établissement se trouve à 3,2 km du casino de Collioure, 23 km du parcours de golf de Saint-Cyprien et environ 33 km du stade Gilbert-Brutus. Cet établissement non-fumeurs est situé à 200 mètres de la plage de Boramar.\n\nL’hôtel sert un petit-déjeuner continental.\n\nVous aurez la possibilité de pratiquer différentes activités à Collioure et dans les environs, telles que la randonnée.\n\nL’établissement se trouve à proximité de sites d’intérêt tels que la plage Nord, la plage de Port d’Avall et le château royal de Collioure. L’aéroport le plus proche, celui de Perpignan-Rivesaltes, est situé à 42 km de l’établissement La Frégate.",
           "https://www.booking.com/hotel/fr/la-fra-c-gate-collioure.fr.html?aid=304142&label=gen173nr-1FCAQoggJCEHNlYXJjaF9jb2xsaW91cmVIDVgEaE2IAQGYAQ24AQrIAQXYAQHoAQH4AQOIAgGoAgO4Aofp66gGwAIB0gIkYzQ2NWQ4OGItYmExZi00ZWU0LTgzZjgtODUwMzAwMTJhMDVh2AIF4AIB&ucfs=1&arphpl=1&group_adults=2&req_adults=2&no_rooms=1&group_children=0&req_children=0&hpos=2&hapos=2&sr_order=popularity&srpvid=18087643f9150014&srepoch=1696265352&from=searchresults"
          ],
          [
           "Le Mas des Citronniers",
           8.2,
           42.52538159,
           3.08256391,
           "Situé dans le centre de Collioure, à seulement 250 mètres de la plage, le Mas des Citronniers propose des chambres climatisées dans un bâtiment traditionnel catalan. Une connexion Wi-Fi est fournie gratuitement dans tout l'établissement.\n\nLes chambres de l'hôtel Le Mas des Citronniers sont décorées dans des tons vifs. Chacune est pourvue d'une télévision à écran plat, d'un bureau, d'un petit réfrigérateur et d'une salle de bains privative. Certaines comprennent une terrasse avec vue sur le jardin.\n\nUn petit-déjeuner buffet est servi chaque matin dans la salle de l'hôtel prévue à cet effet. Vous aurez également la possibilité d'apprécier un petit-déjeuner complet servi en chambre sur demande. Veuillez noter que le petit-déjeuner est en supplément.\n\nLa réception de l'hôtel Le Mas des Citronniers est ouverte 24h/24. Vous disposerez de journaux gratuits.\n\nLa gare de Collioure est implantée à 550 mètres de l'établissement, tandis que le château royal est à 300 mètres.",
           "https://www.booking.com/hotel/fr/lesmasdescitronniers.fr.html?aid=304142&label=gen173nr-1FCAQoggJCEHNlYXJjaF9jb2xsaW91cmVIDVgEaE2IAQGYAQ24AQrIAQXYAQHoAQH4AQOIAgGoAgO4Aofp66gGwAIB0gIkYzQ2NWQ4OGItYmExZi00ZWU0LTgzZjgtODUwMzAwMTJhMDVh2AIF4AIB&ucfs=1&arphpl=1&group_adults=2&req_adults=2&no_rooms=1&group_children=0&req_children=0&hpos=1&hapos=1&sr_order=popularity&srpvid=18087643f9150014&srepoch=1696265352&from=searchresults"
          ],
          [
           "rez de chaussée studio climatisé dans villa",
           8.4,
           43.5711637,
           4.1976096,
           "Situé à Aigues-Mortes, à 24 km de la salle omnisports Montpellier Arena et du parc des expositions de Montpellier, le rez de chaussée studio climatisé dans villa dispose d'un jardin et de la climatisation. Vous bénéficierez gratuitement d'un parking privé et d'une connexion Wi-Fi.\n\nCet appartement comprend une chambre, une télévision à écran plat, un lave-linge et une salle de bains pourvue d'une douche. Sa cuisine est équipée d'un lave-vaisselle et d'un four. Pour plus de commodité, l'établissement peut fournir des serviettes et du linge de maison moyennant des frais supplémentaires.\n\nVous séjournerez à 28 km du Zénith Sud de Montpellier et à 29 km du centre commercial Odysseum. L'aéroport de Montpellier-Méditerranée, le plus proche, est implanté à 30 km.",
           "https://www.booking.com/hotel/fr/studio-dans-villa.fr.html?aid=304142&label=gen173nr-1FCAQoggJCFHNlYXJjaF9haWd1ZXMgbW9ydGVzSA1YBGhNiAEBmAENuAEKyAEF2AEB6AEB-AEDiAIBqAIDuAL76OuoBsACAdICJGVhMGVjNDJiLWU4M2QtNDY0YS1hMTQ1LTA2MWMyMDIzNmU4YtgCBeACAQ&ucfs=1&arphpl=1&group_adults=2&req_adults=2&no_rooms=1&group_children=0&req_children=0&hpos=24&hapos=24&sr_order=popularity&srpvid=1a21763daa2a0123&srepoch=1696265340&from=searchresults"
          ],
          [
           "Maison Face aux Remparts",
           10,
           43.5698277,
           4.1896788,
           "Offrant une vue sur la rivière, la Maison Face aux Remparts propose un hébergement avec un balcon et une machine à café, à environ 24 km de la salle omnisports Montpellier Arena. Vous bénéficierez gratuitement d'un parking privé et d'une connexion Wi-Fi.\n\nCette maison de vacances comprend 3 chambres ainsi qu'une cuisine équipée d'un lave-vaisselle et d'un four. Il comprend une télévision à écran plat, un coin salon et 2 salles de bains pourvues d'une baignoire.\n\nVous séjournerez à 24 km du parc des expositions de Montpellier et à 28 km du Zénith Sud de Montpellier. L'aéroport de Montpellier-Méditerranée, le plus proche, est implanté à 29 km.",
           "https://www.booking.com/hotel/fr/maison-face-aux-remparts.fr.html?aid=304142&label=gen173nr-1FCAQoggJCFHNlYXJjaF9haWd1ZXMgbW9ydGVzSA1YBGhNiAEBmAENuAEKyAEF2AEB6AEB-AEDiAIBqAIDuAL76OuoBsACAdICJGVhMGVjNDJiLWU4M2QtNDY0YS1hMTQ1LTA2MWMyMDIzNmU4YtgCBeACAQ&ucfs=1&arphpl=1&group_adults=2&req_adults=2&no_rooms=1&group_children=0&req_children=0&hpos=23&hapos=23&sr_order=popularity&srpvid=1a21763daa2a0123&srepoch=1696265340&from=searchresults"
          ],
          [
           "Les suites du 17",
           9,
           43.566227,
           4.191121,
           "Doté d'un jardin, d'une terrasse et offrant une vue sur une rue calme, l'établissement Les suites du 17 est situé à Aigues-Mortes, à 24 km du parc des expositions de Montpellier. Vous séjournerez à environ 28 km du Zénith Sud de Montpellier, à 29 km du centre commercial Odysseum et de l'hôtel de ville de Montpellier. Cet établissement non-fumeurs se trouve à 24 km de la salle omnisports Montpellier Arena.\n\nLes logements comprennent la climatisation, un four, un micro-ondes, une bouilloire, une douche, un sèche-cheveux et un bureau. Toutes les chambres comprennent une machine à café, une salle de bains privative et une connexion Wi-Fi gratuite. Certaines possèdent un balcon et d'autres offrent une vue sur la cour intérieure. Le linge de lit et les serviettes de toilette sont fournis.\n\nLors de votre séjour aux suites du 17 vous pourrez pratiquer des activités à Aigues-Mortes et dans ses environs, telles que des visites à pied et à vélo.\n\nVous séjournerez à 32 km du Corum et du musée Fabre. L'aéroport de Montpellier-Méditerranée, le plus proche, est implanté à 29 km.",
           "https://www.booking.com/hotel/fr/les-suites-du-17.fr.html?aid=304142&label=gen173nr-1FCAQoggJCFHNlYXJjaF9haWd1ZXMgbW9ydGVzSA1YBGhNiAEBmAENuAEKyAEF2AEB6AEB-AEDiAIBqAIDuAL76OuoBsACAdICJGVhMGVjNDJiLWU4M2QtNDY0YS1hMTQ1LTA2MWMyMDIzNmU4YtgCBeACAQ&ucfs=1&arphpl=1&group_adults=2&req_adults=2&no_rooms=1&group_children=0&req_children=0&hpos=22&hapos=22&sr_order=popularity&srpvid=1a21763daa2a0123&srepoch=1696265340&from=searchresults"
          ],
          [
           "B&B La Terre Brûlée",
           9.2,
           43.56197612,
           4.20767969,
           "Situé à 25 km de la salle omnisports Montpellier Arena, le B&B La Terre Brûlée propose une piscine avec vue, un jardin et des hébergements climatisés avec terrasse et connexion Wi-Fi gratuite.\n\nLeur salle de bains privative est pourvue d'une douche à l'italienne, d'un sèche-cheveux et d'articles de toilette gratuits.\n\nCette chambre d'hôtes sert un petit-déjeuner continental.\n\nVous séjournerez à 25 km du parc des expositions de Montpellier et à 29 km du Zénith Sud de Montpellier. L'aéroport de Montpellier-Méditerranée, le plus proche, est à 31 km.",
           "https://www.booking.com/hotel/fr/b-amp-b-la-terre-brulee.fr.html?aid=304142&label=gen173nr-1FCAQoggJCFHNlYXJjaF9haWd1ZXMgbW9ydGVzSA1YBGhNiAEBmAENuAEKyAEF2AEB6AEB-AEDiAIBqAIDuAL76OuoBsACAdICJGVhMGVjNDJiLWU4M2QtNDY0YS1hMTQ1LTA2MWMyMDIzNmU4YtgCBeACAQ&ucfs=1&arphpl=1&group_adults=2&req_adults=2&no_rooms=1&group_children=0&req_children=0&hpos=21&hapos=21&sr_order=popularity&srpvid=1a21763daa2a0123&srepoch=1696265340&from=searchresults"
          ],
          [
           "Hôtel-Restaurant \"Chez Carrière\"",
           8.6,
           43.56651351,
           4.19115815,
           "L'Hôtel-Restaurant \"Chez Carrière\" est situé à Aigues-Mortes. Cet hôtel dispose d'une connexion Wi-Fi gratuite et d'une terrasse. Vous séjournerez dans le quartier médiéval d'Aigues-Mortes.\n\nLes chambres climatisées comprennent une armoire et une télévision à écran plat. La salle de bains privative est pourvue d'une douche, d'articles de toilette gratuits et d'un sèche-cheveux.\n\nUn petit-déjeuner continental est servi dans la salle prévue à cet effet.\n\nMontpellier se trouve à 26 km. L'aéroport de Montpellier-Méditerranée, le plus proche, est à 19 km. Une carte de stationnement public est fournie gratuitement à l'arrivée.",
           "https://www.booking.com/hotel/fr/restaurant-quot-chez-carriere-quot.fr.html?aid=304142&label=gen173nr-1FCAQoggJCFHNlYXJjaF9haWd1ZXMgbW9ydGVzSA1YBGhNiAEBmAENuAEKyAEF2AEB6AEB-AEDiAIBqAIDuAL76OuoBsACAdICJGVhMGVjNDJiLWU4M2QtNDY0YS1hMTQ1LTA2MWMyMDIzNmU4YtgCBeACAQ&ucfs=1&arphpl=1&group_adults=2&req_adults=2&no_rooms=1&group_children=0&req_children=0&hpos=20&hapos=20&sr_order=popularity&srpvid=1a21763daa2a0123&srepoch=1696265340&from=searchresults"
          ],
          [
           "Hotel Des 4 Vents",
           8.4,
           43.57702546,
           4.19753909,
           "L'Hotel Des 4 vents est situé à Aigues-Mortes, sur la côte méditerranéenne, à 40 km de Nîmes et à 35 km de Montpellier. Il propose des hébergements climatisés avec connexion Wi-Fi gratuite, un défibrillateur et une piscine extérieure. L'hôtel se trouve à 15 minutes à pied de la ville médiévale. Les lacs environnants se trouvent à moins de 10 minutes en voiture.\n\nChaque chambre du 4 Vents est équipée d'une télévision et d'une salle de bains privative. Elles possèdent également un balcon privé.\n\nLe petit-déjeuner est servi tous les jours et l'Hotel des 4 Vents possède une terrasse de jardin. Vous pourrez vous détendre au bar.\n\nUn parking privé est disponible gratuitement sur place.",
           "https://www.booking.com/hotel/fr/des-4-vents.fr.html?aid=304142&label=gen173nr-1FCAQoggJCFHNlYXJjaF9haWd1ZXMgbW9ydGVzSA1YBGhNiAEBmAENuAEKyAEF2AEB6AEB-AEDiAIBqAIDuAL76OuoBsACAdICJGVhMGVjNDJiLWU4M2QtNDY0YS1hMTQ1LTA2MWMyMDIzNmU4YtgCBeACAQ&ucfs=1&arphpl=1&group_adults=2&req_adults=2&no_rooms=1&group_children=0&req_children=0&hpos=19&hapos=19&sr_order=popularity&srpvid=1a21763daa2a0123&srepoch=1696265340&from_sustainable_property_sr=1&from=searchresults"
          ],
          [
           "Belle marina avec ponton et piscine collective",
           9.5,
           43.5750022,
           4.1862674,
           "Offrant une vue sur la rivière, le Belle marina avec ponton et piscine collective propose un hébergement avec un balcon et une machine à café, à environ 24 km de Montpellier Arena. Vous bénéficierez gratuitement d'un parking privé et d'une connexion Wi-Fi.\n\nCette maison de vacances comprend 2 chambres, une télévision à écran plat ainsi qu'une cuisine entièrement équipée avec un lave-vaisselle, un four, un lave-linge, un micro-ondes et un grille-pain. Pour plus de commodité, l'établissement peut fournir des serviettes et du linge de maison moyennant des frais supplémentaires.\n\nVous séjournerez à 24 km du parc des expositions de Montpellier et à 28 km du Zénith Sud de Montpellier. L'aéroport de Montpellier-Méditerranée, le plus proche, est implanté à 29 km.",
           "https://www.booking.com/hotel/fr/marina-avec-appontement-aigues-mortes.fr.html?aid=304142&label=gen173nr-1FCAQoggJCFHNlYXJjaF9haWd1ZXMgbW9ydGVzSA1YBGhNiAEBmAENuAEKyAEF2AEB6AEB-AEDiAIBqAIDuAL76OuoBsACAdICJGVhMGVjNDJiLWU4M2QtNDY0YS1hMTQ1LTA2MWMyMDIzNmU4YtgCBeACAQ&ucfs=1&arphpl=1&group_adults=2&req_adults=2&no_rooms=1&group_children=0&req_children=0&hpos=18&hapos=18&sr_order=popularity&srpvid=1a21763daa2a0123&srepoch=1696265340&from=searchresults"
          ],
          [
           "Studio azur",
           8.4,
           43.57253021,
           4.18776083,
           "Situé à Aigues-Mortes, à 25 km de la salle omnisports Montpellier Arena et du parc des expositions de Montpellier, le Studio azur dispose de la climatisation. Vous bénéficierez d'un accès à un balcon et d'un parking privé gratuit.\n\nDoté d'une connexion Wi-Fi gratuite, cet appartement 1 chambre dispose d'une télévision à écran plat et d'une cuisine avec un four et un micro-ondes. Les serviettes et le linge de lit sont fournis.\n\nVous séjournerez à 29 km du Zénith Sud de Montpellier et du centre commercial Odysseum. L'aéroport de Montpellier-Méditerranée, le plus proche, est implanté à 30 km.",
           "https://www.booking.com/hotel/fr/studio-azure.fr.html?aid=304142&label=gen173nr-1FCAQoggJCFHNlYXJjaF9haWd1ZXMgbW9ydGVzSA1YBGhNiAEBmAENuAEKyAEF2AEB6AEB-AEDiAIBqAIDuAL76OuoBsACAdICJGVhMGVjNDJiLWU4M2QtNDY0YS1hMTQ1LTA2MWMyMDIzNmU4YtgCBeACAQ&ucfs=1&arphpl=1&group_adults=2&req_adults=2&no_rooms=1&group_children=0&req_children=0&hpos=17&hapos=17&sr_order=popularity&srpvid=1a21763daa2a0123&srepoch=1696265340&from=searchresults"
          ],
          [
           "AIGUES-MORTES - AGRÉABLE T.2 - (+ de 40m² )",
           7.6,
           43.57256668,
           4.18918148,
           "Situé à Aigues-Mortes, à 29 km du Zénith Sud Montpellier et à 30 km du centre commercial Odysseum, AIGUES-MORTES - AGRÉABLE T.2 - (+ de 40m2 ) offre la climatisation. Doté d'un parking privé gratuit, il se trouve à 25 km de la salle omnisports Montpellier Arena et du parc des expositions de Montpellier.\n\nOffrant une vue sur le jardin, cet appartement comprend une terrasse, une chambre, un salon, une télévision à écran plat, une salle de bains pourvue d'une douche ainsi qu'une cuisine équipée avec un micro-ondes et un grille-pain. Les serviettes et le linge de lit sont fournis.\n\nVous pourrez pêcher à proximité.\n\nVous séjournerez à 30 km de l'hôtel de ville de Montpellier et à 33 km du Corum. L'aéroport de Montpellier-Méditerranée, le plus proche, est implanté à 30 km.",
           "https://www.booking.com/hotel/fr/aigues-mortes-agreable-t2-de-40m2.fr.html?aid=304142&label=gen173nr-1FCAQoggJCFHNlYXJjaF9haWd1ZXMgbW9ydGVzSA1YBGhNiAEBmAENuAEKyAEF2AEB6AEB-AEDiAIBqAIDuAL76OuoBsACAdICJGVhMGVjNDJiLWU4M2QtNDY0YS1hMTQ1LTA2MWMyMDIzNmU4YtgCBeACAQ&ucfs=1&arphpl=1&group_adults=2&req_adults=2&no_rooms=1&group_children=0&req_children=0&hpos=16&hapos=16&sr_order=popularity&srpvid=1a21763daa2a0123&srepoch=1696265340&from=searchresults"
          ],
          [
           "Maison Arthur",
           9.3,
           43.5659428,
           4.1924,
           "Située à 24 km de la salle omnisports Montpellier Arena, la Maison Arthur propose gratuitement une connexion Wi-Fi et un parking privé.\n\nDotés d'une terrasse, les logements comprennent la climatisation, une télévision à écran plat ainsi qu'une salle de bains privative avec douche et sèche-cheveux. Certains logements comprennent une cuisine équipée d'un lave-vaisselle.\n\nVous séjournerez à 24 km du parc des expositions de Montpellier et à 28 km du Zénith Sud de Montpellier. L'aéroport de Montpellier-Méditerranée, le plus proche, est à 29 km.",
           "https://www.booking.com/hotel/fr/maison-arthur.fr.html?aid=304142&label=gen173nr-1FCAQoggJCFHNlYXJjaF9haWd1ZXMgbW9ydGVzSA1YBGhNiAEBmAENuAEKyAEF2AEB6AEB-AEDiAIBqAIDuAL76OuoBsACAdICJGVhMGVjNDJiLWU4M2QtNDY0YS1hMTQ1LTA2MWMyMDIzNmU4YtgCBeACAQ&ucfs=1&arphpl=1&group_adults=2&req_adults=2&no_rooms=1&group_children=0&req_children=0&hpos=15&hapos=15&sr_order=popularity&srpvid=1a21763daa2a0123&srepoch=1696265340&from=searchresults"
          ],
          [
           "Ô 36 Rempart Sud B&B",
           9.2,
           43.565764,
           4.188757,
           "Situé à 24 km de la salle omnisports Montpellier Arena et du parc des expositions de Montpellier, l'Ô 36 Rempart Sud B&B propose des hébergements avec une connexion Wi-Fi gratuite, la climatisation et une télévision à écran plat.\n\nLa salle de bains privative est pourvue d'une douche et d'un sèche-cheveux.\n\nUne terrasse bien exposée est présente.\n\nVous séjournerez à 28 km du Zénith Sud de Montpellier et à 29 km du centre commercial Odysseum. L'aéroport de Montpellier-Méditerranée, le plus proche, est à 29 km.",
           "https://www.booking.com/hotel/fr/o-36-rempart-sud.fr.html?aid=304142&label=gen173nr-1FCAQoggJCFHNlYXJjaF9haWd1ZXMgbW9ydGVzSA1YBGhNiAEBmAENuAEKyAEF2AEB6AEB-AEDiAIBqAIDuAL76OuoBsACAdICJGVhMGVjNDJiLWU4M2QtNDY0YS1hMTQ1LTA2MWMyMDIzNmU4YtgCBeACAQ&ucfs=1&arphpl=1&group_adults=2&req_adults=2&no_rooms=1&group_children=0&req_children=0&hpos=14&hapos=14&sr_order=popularity&srpvid=1a21763daa2a0123&srepoch=1696265340&from=searchresults"
          ],
          [
           "Maison aigues-mortaise dans la cité",
           8.5,
           43.5660137,
           4.1914995,
           "Située à Aigues-Mortes, en Occitanie, la Maison aigues-mortaise dans la cité dispose d'une terrasse. Il se trouve à 24 km de la salle omnisports Montpellier Arena et dispose d'une connexion Wi-Fi gratuite dans l'ensemble de ses locaux.\n\nLes serviettes et le linge de lit sont fournis.\n\nCe Bed & Breakfast sert un petit-déjeuner continental tous les matins.\n\nVous séjournerez à 24 km du parc des expositions de Montpellier et à 28 km du Zénith Sud de Montpellier. L'aéroport de Montpellier-Méditerranée, le plus proche, est à 29 km.",
           "https://www.booking.com/hotel/fr/maison-aigues-mortaise-dans-la-cite.fr.html?aid=304142&label=gen173nr-1FCAQoggJCFHNlYXJjaF9haWd1ZXMgbW9ydGVzSA1YBGhNiAEBmAENuAEKyAEF2AEB6AEB-AEDiAIBqAIDuAL76OuoBsACAdICJGVhMGVjNDJiLWU4M2QtNDY0YS1hMTQ1LTA2MWMyMDIzNmU4YtgCBeACAQ&ucfs=1&arphpl=1&group_adults=2&req_adults=2&no_rooms=1&group_children=0&req_children=0&hpos=13&hapos=13&sr_order=popularity&srpvid=1a21763daa2a0123&srepoch=1696265340&from=searchresults"
          ],
          [
           "Appartement charmant à deux pas des Remparts",
           9.2,
           43.56940344,
           4.19268907,
           "Situé à Aigues-Mortes, à 24 km du parc des expositions de Montpellier et à 28 km du Zénith Sud Montpellier, l'Appartement charmant à deux pas des Remparts propose la climatisation. Il se trouve à 24 km de la salle omnisports Montpellier Arena et dispose d'une connexion Wi-Fi gratuite dans l'ensemble de ses locaux.\n\nCet appartement comprend une chambre, une télévision à écran plat, un coin salon et une salle de bains pourvue d'une douche. Sa cuisine est équipée d'un micro-ondes et d'un réfrigérateur. Les serviettes et le linge de lit sont fournis.\n\nVous séjournerez à 29 km du centre commercial Odysseum et de l'hôtel de ville de Montpellier. L'aéroport le plus proche est celui L'aéroport de Montpellier-Méditerranée, à 29 km de l'Appartement charmant à deux pas des Remparts.",
           "https://www.booking.com/hotel/fr/appartement-charmant-a-deux-pas-des-remparts.fr.html?aid=304142&label=gen173nr-1FCAQoggJCFHNlYXJjaF9haWd1ZXMgbW9ydGVzSA1YBGhNiAEBmAENuAEKyAEF2AEB6AEB-AEDiAIBqAIDuAL76OuoBsACAdICJGVhMGVjNDJiLWU4M2QtNDY0YS1hMTQ1LTA2MWMyMDIzNmU4YtgCBeACAQ&ucfs=1&arphpl=1&group_adults=2&req_adults=2&no_rooms=1&group_children=0&req_children=0&hpos=12&hapos=12&sr_order=popularity&srpvid=1a21763daa2a0123&srepoch=1696265340&from=searchresults"
          ],
          [
           "jolie app centre remparts patio",
           9.6,
           43.566755,
           4.1886383,
           "Située à Aigues-Mortes, la jolie app centre remparts patio propose un hébergement climatisé avec une terrasse. Cet appartement se trouve à 28 km du Zénith Sud de Montpellier et à 29 km du centre commercial Odysseum.\n\nDoté d'une connexion Wi-Fi gratuite, cet appartement 1 chambre dispose d'une télévision à écran plat, d'un lave-linge et d'une cuisine avec réfrigérateur.\n\nVous séjournerez à 24 km de la salle omnisports Montpellier Arena et du parc des expositions de Montpellier. L'aéroport de Montpellier-Méditerranée, le plus proche, est implanté à 29 km.",
           "https://www.booking.com/hotel/fr/jolie-app-centre-remparts-patio.fr.html?aid=304142&label=gen173nr-1FCAQoggJCFHNlYXJjaF9haWd1ZXMgbW9ydGVzSA1YBGhNiAEBmAENuAEKyAEF2AEB6AEB-AEDiAIBqAIDuAL76OuoBsACAdICJGVhMGVjNDJiLWU4M2QtNDY0YS1hMTQ1LTA2MWMyMDIzNmU4YtgCBeACAQ&ucfs=1&arphpl=1&group_adults=2&req_adults=2&no_rooms=1&group_children=0&req_children=0&hpos=11&hapos=11&sr_order=popularity&srpvid=1a21763daa2a0123&srepoch=1696265340&from=searchresults"
          ],
          [
           "Noemys Aigues-Mortes - ex Mona Lisa Royal Hôtel",
           7.2,
           43.57639589,
           4.19781804,
           "Doté d'une connexion Wi-Fi gratuite et d'une piscine extérieure ouverte en saison, le Noemys Aigues-Mortes - ex Mona Lisa Royal Hôtel se trouve à Aigues-Mortes, à 15 minutes de route du parc naturel régional de Camargue. La plage la plus proche est à 15 minutes de route. Un parking gratuit est à votre disposition sur place.\n\nCertaines chambres offrent une vue sur la piscine ou le jardin Tous les hébergements sont pourvus d’une télévision à écran plat et d’une salle de bains privative. Certaines chambres disposent également d'une terrasse privée.\n\nUn petit-déjeuner buffet peut être servi moyennant un supplément.\n\nLe Noemys Aigues-Mortes - ex Mona Lisa Royal Hôtel propose également des salles de réunion.\n\nNîmes se trouve à 40 km du Noemys Aigues-Mortes - ex Mona Lisa Royal Hôtel, tandis qu'Arles est à 45 km. L’aéroport le plus proche, celui de Montpellier-Méditerranée, est à 26 km.",
           "https://www.booking.com/hotel/fr/le-royal-hotel-aigues-mortes.fr.html?aid=304142&label=gen173nr-1FCAQoggJCFHNlYXJjaF9haWd1ZXMgbW9ydGVzSA1YBGhNiAEBmAENuAEKyAEF2AEB6AEB-AEDiAIBqAIDuAL76OuoBsACAdICJGVhMGVjNDJiLWU4M2QtNDY0YS1hMTQ1LTA2MWMyMDIzNmU4YtgCBeACAQ&ucfs=1&arphpl=1&group_adults=2&req_adults=2&no_rooms=1&group_children=0&req_children=0&hpos=10&hapos=10&sr_order=popularity&srpvid=1a21763daa2a0123&srepoch=1696265340&from_sustainable_property_sr=1&from=searchresults"
          ],
          [
           "LE FLAMANT ROSE - COSYKAZ",
           9.2,
           43.5715237,
           4.1788991,
           "L'établissement LE FLAMANT ROSE - COSYKAZ est situé à Aigues-Mortes, à 22 km de la salle omnisports Montpellier Arena et du parc des expositions de Montpellier. Vous bénéficierez gratuitement d'un parking privé et d'une connexion Wi-Fi.\n\nL'appartement comprend une chambre, un salon avec une télévision à écran plat et des services de streaming, une cuisine entièrement équipée avec un lave-vaisselle et un four ainsi qu'une salle de bains pourvue d'une douche à l'italienne. Les serviettes et le linge de lit sont fournis.\n\nVous séjournerez à 27 km du Zénith Sud de Montpellier et du centre commercial Odysseum. L'aéroport de Montpellier-Méditerranée, le plus proche, est implanté à 28 km.",
           "https://www.booking.com/hotel/fr/le-flamant-rose-cosykaz.fr.html?aid=304142&label=gen173nr-1FCAQoggJCFHNlYXJjaF9haWd1ZXMgbW9ydGVzSA1YBGhNiAEBmAENuAEKyAEF2AEB6AEB-AEDiAIBqAIDuAL76OuoBsACAdICJGVhMGVjNDJiLWU4M2QtNDY0YS1hMTQ1LTA2MWMyMDIzNmU4YtgCBeACAQ&ucfs=1&arphpl=1&group_adults=2&req_adults=2&no_rooms=1&group_children=0&req_children=0&hpos=9&hapos=9&sr_order=popularity&srpvid=1a21763daa2a0123&srepoch=1696265340&from_sustainable_property_sr=1&from=searchresults"
          ],
          [
           "Résidence Odalys Fleur de Sel",
           8.3,
           43.574094,
           4.179246,
           "Situé à Aigues-Mortes, à 5 minutes à pied du centre-ville historique, l'établissement Résidence Odalys Fleur de Sel dispose d'une piscine extérieure chauffée ouverte en saison. Vous bénéficierez gratuitement d'une connexion Wi-Fi.\n\nRépartis en petits duplex, tous les appartements comportent une salle de bains privative, un salon muni d'une télévision à écran plat et une kitchenette entièrement équipée. Certains comprennent également une terrasse ou un balcon.\n\nLa Résidence Odalys Fleur de Sel est implantée à 25 km de Montpellier. L'aéroport de Montpellier - Méditerranée se trouve, quant à lui, à 18 km. Vous pourrez profiter gratuitement d'un parking extérieur.",
           "https://www.booking.com/hotel/fr/residence-odalys-fleur-de-sel.fr.html?aid=304142&label=gen173nr-1FCAQoggJCFHNlYXJjaF9haWd1ZXMgbW9ydGVzSA1YBGhNiAEBmAENuAEKyAEF2AEB6AEB-AEDiAIBqAIDuAL76OuoBsACAdICJGVhMGVjNDJiLWU4M2QtNDY0YS1hMTQ1LTA2MWMyMDIzNmU4YtgCBeACAQ&ucfs=1&arphpl=1&group_adults=2&req_adults=2&no_rooms=1&group_children=0&req_children=0&hpos=8&hapos=8&sr_order=popularity&srpvid=1a21763daa2a0123&srepoch=1696265340&from_sustainable_property_sr=1&from=searchresults"
          ],
          [
           "Maison des Croisades",
           8.8,
           43.5689974,
           4.1882982,
           "Située à Aigues-Mortes, la Maison des Croisades propose un service de location de vélos et un jardin. Il dispose d'une connexion Wi-Fi gratuite et d'une terrasse. Vous pourrez profiter d'une vue sur le canal et le jardin. La plage du Grau-du-Roi se trouve à 10 minutes en voiture.\n\nToutes les chambres de la Maison des Croisades sont équipées d'une télévision à écran plat, de la climatisation et d'une armoire.\n\nLa Maison des Croisades sert un petit-déjeuner buffet.\n\nLa Maison des Croisades se trouve à 33 km de Montpellier et à 44 km de Nîmes. L'aéroport de Montpellier-Méditerranée est à 24 km.",
           "https://www.booking.com/hotel/fr/des-croisades.fr.html?aid=304142&label=gen173nr-1FCAQoggJCFHNlYXJjaF9haWd1ZXMgbW9ydGVzSA1YBGhNiAEBmAENuAEKyAEF2AEB6AEB-AEDiAIBqAIDuAL76OuoBsACAdICJGVhMGVjNDJiLWU4M2QtNDY0YS1hMTQ1LTA2MWMyMDIzNmU4YtgCBeACAQ&ucfs=1&arphpl=1&group_adults=2&req_adults=2&no_rooms=1&group_children=0&req_children=0&hpos=7&hapos=7&sr_order=popularity&srpvid=1a21763daa2a0123&srepoch=1696265340&from_sustainable_property_sr=1&from=searchresults"
          ],
          [
           "Hôtel Le Médiéval",
           8.6,
           43.57186625,
           4.19366169,
           "L'Hôtel Le Médiéval est situé sur les rives du canal d'Aigues-Mortes, à 30 km de Montpellier. Il propose des chambres pourvues d'une salle de bains privative, d'un parking gratuit et d'une piscine extérieure.\n\nL'Hôtel Le Médiéval propose chaque jour un petit-déjeuner buffet continental qui peut être dégusté sur la terrasse quand le temps le permet. Une connexion Wi-Fi est disponible gratuitement dans les parties communes.\n\nUn parking privé gratuit est disponible sur place. Une promenade de 2 minutes vous mènera aux remparts médiévaux.",
           "https://www.booking.com/hotel/fr/le-medieval.fr.html?aid=304142&label=gen173nr-1FCAQoggJCFHNlYXJjaF9haWd1ZXMgbW9ydGVzSA1YBGhNiAEBmAENuAEKyAEF2AEB6AEB-AEDiAIBqAIDuAL76OuoBsACAdICJGVhMGVjNDJiLWU4M2QtNDY0YS1hMTQ1LTA2MWMyMDIzNmU4YtgCBeACAQ&ucfs=1&arphpl=1&group_adults=2&req_adults=2&no_rooms=1&group_children=0&req_children=0&hpos=6&hapos=6&sr_order=popularity&srpvid=1a21763daa2a0123&srepoch=1696265340&from_sustainable_property_sr=1&from=searchresults"
          ],
          [
           "La Maison de Lyna",
           9.1,
           43.5660175,
           4.1923532,
           "La Maison de Lyna propose un hébergement climatisé à Aigues-Mortes, à 24 km de la salle omnisports Montpellier Arena, du parc des expositions de Montpellier et du Zénith Sud Montpellier. Une connexion Wi-Fi est disponible gratuitement dans tout l'établissement.\n\nLes logements comprennent un coin salon avec une télévision à écran plat ainsi qu'une salle de bains privative pourvue d'un sèche-cheveux, d'articles de toilette gratuits et d'une douche. Vous disposerez d'un réfrigérateur, d'une machine à café et d'une bouilloire.\n\nVous séjournerez à 29 km du centre commercial Odysseum et de l'hôtel de ville de Montpellier. L'aéroport de Montpellier-Méditerranée, le plus proche, est à 29 km.",
           "https://www.booking.com/hotel/fr/la-maison-de-lyna.fr.html?aid=304142&label=gen173nr-1FCAQoggJCFHNlYXJjaF9haWd1ZXMgbW9ydGVzSA1YBGhNiAEBmAENuAEKyAEF2AEB6AEB-AEDiAIBqAIDuAL76OuoBsACAdICJGVhMGVjNDJiLWU4M2QtNDY0YS1hMTQ1LTA2MWMyMDIzNmU4YtgCBeACAQ&ucfs=1&arphpl=1&group_adults=2&req_adults=2&no_rooms=1&group_children=0&req_children=0&hpos=5&hapos=5&sr_order=popularity&srpvid=1a21763daa2a0123&srepoch=1696265340&from=searchresults"
          ],
          [
           "La Villa Mazarin",
           9.2,
           43.56498662,
           4.19175196,
           "La Villa Mazarin est construite dans un bâtiment datant du XVème siècle situé dans la ville fortifiée d'Aigues-Mortes et propose une terrasse ainsi qu'un bar. Vous bénéficierez gracieusement d'une connexion Wi-Fi disponible dans l'ensemble de l'établissement.\n\nLes chambres climatisées possèdent le chauffage, une télévision par satellite, un téléphone, un réfrigérateur et du mobilier de style provençal du XVIIème siècle.\n\nLe Salon Mazarin est le restaurant de l'hôtel où vous dégusterez des spécialités culinaires françaises ou une sélection de repas légers et de collations. Le salon s'ouvre sur la cour et sur une terrasse bien exposée.\n\nMontpellier est à 26 km et Nîmes à 32 km. L'aéroport le plus proche est celui de Montpellier-Méditerranée situé à 19 km.",
           "https://www.booking.com/hotel/fr/la-villa-mazarin.fr.html?aid=304142&label=gen173nr-1FCAQoggJCFHNlYXJjaF9haWd1ZXMgbW9ydGVzSA1YBGhNiAEBmAENuAEKyAEF2AEB6AEB-AEDiAIBqAIDuAL76OuoBsACAdICJGVhMGVjNDJiLWU4M2QtNDY0YS1hMTQ1LTA2MWMyMDIzNmU4YtgCBeACAQ&ucfs=1&arphpl=1&group_adults=2&req_adults=2&no_rooms=1&group_children=0&req_children=0&hpos=4&hapos=4&sr_order=popularity&srpvid=1a21763daa2a0123&srepoch=1696265340&from=searchresults"
          ],
          [
           "Hôtel Saint Louis",
           8.4,
           43.56721967,
           4.1893436,
           "Situé dans le cœur historique d'Aigues-Mortes, à 200 mètres de la Tour de Constance, l'Hôtel Saint Louis est un hôtel climatisé doté d'un centre de bien-être et d'un restaurant. Une connexion Wi-Fi et des places de stationnement publiques sont disponibles gratuitement sur place.\n\nAffichant une décoration contemporaine inspirée de la région, toutes les chambres sont équipées d'une télévision à écran plat, d'un minibar et d'un téléphone. Toutes les chambres comprennent une salle de bains privative. En été, vous pourrez prendre un verre dans le patio ou sur la terrasse bien exposée. Le restaurant sur place présente une décoration de style baroque et propose une cuisine camarguaise moderne préparée avec des produits locaux et des sièges en plein air.\n\nL'Hôtel Saint Louis se trouve à 43 km de Nîmes et à 49 km d'Arles. L'aéroport de Montpellier-Méditerranée est à 26 km.\n\n Un centre de bien-être avec sauna et des massages sont également disponibles sur demande.",
           "https://www.booking.com/hotel/fr/saint-louis-aigues-mortes.fr.html?aid=304142&label=gen173nr-1FCAQoggJCFHNlYXJjaF9haWd1ZXMgbW9ydGVzSA1YBGhNiAEBmAENuAEKyAEF2AEB6AEB-AEDiAIBqAIDuAL76OuoBsACAdICJGVhMGVjNDJiLWU4M2QtNDY0YS1hMTQ1LTA2MWMyMDIzNmU4YtgCBeACAQ&ucfs=1&arphpl=1&group_adults=2&req_adults=2&no_rooms=1&group_children=0&req_children=0&hpos=3&hapos=3&sr_order=popularity&srpvid=1a21763daa2a0123&srepoch=1696265340&from_sustainable_property_sr=1&from=searchresults"
          ],
          [
           "Résidence Odalys Le Mas des Flamants",
           8.1,
           43.57379435,
           4.18062186,
           "Située à l'extérieur des fortifications d'Aigues-Mortes, sur les rives du Vidourle, la Résidence Odalys Le Mas des Flamants possède une piscine et des pataugeoires. Vous pourrez également vous rendre à la plage du Grau-du-Roi, à 7 km.\n\nOccupant de petites maisons mitoyennes, les appartements de la Résidence Odalys Le Mas des Flamants comportent une terrasse ou un jardin privés. Une télévision et une connexion Wi-Fi sont disponibles moyennant des frais supplémentaires.\n\nVous pourrez préparer vos repas dans la kitchenette de votre hébergement et les déguster dans le petit coin repas. Les kitchenettes sont équipées de plaques de cuisson, d'un micro-ondes et d'un lave-vaisselle.\n\nUne place de stationnement gratuite est disponible pour chaque appartement, et une laverie est également à votre disposition sur place. La Résidence Odalys Le Mas des Flamants est à 5 minutes de marche du centre-ville, et vous pourrez vous détendre sur la plage de Port-Camargue, située à 7 km.",
           "https://www.booking.com/hotel/fr/residence-le-mas-des-flamants.fr.html?aid=304142&label=gen173nr-1FCAQoggJCFHNlYXJjaF9haWd1ZXMgbW9ydGVzSA1YBGhNiAEBmAENuAEKyAEF2AEB6AEB-AEDiAIBqAIDuAL76OuoBsACAdICJGVhMGVjNDJiLWU4M2QtNDY0YS1hMTQ1LTA2MWMyMDIzNmU4YtgCBeACAQ&ucfs=1&arphpl=1&group_adults=2&req_adults=2&no_rooms=1&group_children=0&req_children=0&hpos=2&hapos=2&sr_order=popularity&srpvid=1a21763daa2a0123&srepoch=1696265340&from_sustainable_property_sr=1&from=searchresults"
          ],
          [
           "Hotel Canal Aigues Mortes",
           8.5,
           43.57298752,
           4.1948247,
           "L’hôtel Canal Aigues Mortes vous accueille sur les rives du canal, à 5 minutes à pied de la ville fortifiée. Vous pourrez profiter d’une vue sur le canal depuis sa terrasse panoramique et sa piscine. Cet établissement propose des chambres climatisées avec une connexion Wi-Fi gratuite. Un parking gratuit est disponible. Un parking couvert est accessible moyennant des frais supplémentaires ou gratuitement pour les motos.\n\nToutes les chambres de cet hôtel 3 étoiles sont insonorisées. Elles comprennent une télévision à écran plat avec des chaînes nationales et internationales.\n\nPendant les mois les plus chauds, vous dégusterez le petit-déjeuner buffet sur la terrasse. En été, vous aurez également la possibilité de prendre des collations ou des repas légers au bord du canal.\n\nUn service de location de vélos est assuré sur place. L’établissement compte par ailleurs une salle de séminaire pour les réunions.\n\nL’hôtel Canal Aigues Mortes est placé à 10 minutes de route de la plage de Grau-du-Roi et à 20 minutes en voiture de l’aéroport de Montpellier-Méditerranée. La gare d'Aigues-Mortes est à 4 minutes de marche. Montpellier, Arles et Nîmes peuvent être atteints à moins de 45 minutes de route.",
           "https://www.booking.com/hotel/fr/canal-aigues-mortes.fr.html?aid=304142&label=gen173nr-1FCAQoggJCFHNlYXJjaF9haWd1ZXMgbW9ydGVzSA1YBGhNiAEBmAENuAEKyAEF2AEB6AEB-AEDiAIBqAIDuAL76OuoBsACAdICJGVhMGVjNDJiLWU4M2QtNDY0YS1hMTQ1LTA2MWMyMDIzNmU4YtgCBeACAQ&ucfs=1&arphpl=1&group_adults=2&req_adults=2&no_rooms=1&group_children=0&req_children=0&hpos=1&hapos=1&sr_order=popularity&srpvid=1a21763daa2a0123&srepoch=1696265340&from_sustainable_property_sr=1&from=searchresults"
          ],
          [
           "ibis budget Marseille Vieux Port",
           7.3,
           43.29220856,
           5.37355497,
           "Situé en plein cœur de Marseille, l’ibis Budget Marseille Vieux Port affiche une façade du XIVe siècle et possède un bar à cocktails. À pied, le vieux port se trouve à seulement 3 minutes et la gare à 25 minutes.\n\nLes chambres sont toutes climatisées et pourvues d’une télévision par satellite à écran plat, d’un bureau, d’une armoire et du chauffage. Leur salle de bains dispose d’une douche et d’articles de toilette gratuits.\n\nUn petit-déjeuner buffet est servi chaque matin à l'ibis Budget Marseille Vieux Port. Vous pourrez également profiter du bar sur place. Des restaurants vous attendent à quelques pas.\n\nVous séjournerez à 1,6 km de la plage et à 10 minutes de marche de l’Opéra de Marseille. Les équipements supplémentaires incluent une bagagerie, un ascenseur, une connexion Wi-Fi gratuite, sous réserve de disponibilité.",
           "https://www.booking.com/hotel/fr/etap-marseille-vieux-port.fr.html?aid=304142&label=gen173nr-1FCAQoggJCEHNlYXJjaF9tYXJzZWlsbGVIDVgEaE2IAQGYAQ24AQrIAQXYAQHoAQH4AQOIAgGoAgO4At3o66gGwAIB0gIkNGNhNDBiNmYtYzdjMC00MGQzLTg2MzEtZmMzNTc4MDkzYjRl2AIF4AIB&ucfs=1&arphpl=1&group_adults=2&req_adults=2&no_rooms=1&group_children=0&req_children=0&hpos=24&hapos=24&sr_order=popularity&srpvid=e9e0762e9ee20010&srepoch=1696265310&from_sustainable_property_sr=1&from=searchresults"
          ],
          [
           "Aparthotel Adagio Marseille Timone",
           7.7,
           43.2910567,
           5.40434003,
           "L'Aparthotel Adagio Marseille Timone propose des hébergements indépendants bénéficiant de services hôteliers. L'établissement se situe au cœur de Marseille, à 500 mètres de la station de métro Timone, qui permet un accès direct au Vieux-Port et à la gare Saint-Charles. Il se trouve par ailleurs à 3,5 km du centre des congrès du Parc Chanot et du Stade Vélodrome. Ses installations comprennent un sauna et une salle de sport.\n\nLes suites et les studios de l'Aparthotel Adagio Marseille Timone affichent un style contemporain et sont accessibles par un ascenseur. Tous sont équipés de la climatisation, d'une télévision à écran LCD et d'une connexion Internet. Les suites sont dotées d'un coin salon, d'un coffre-fort et d'une télévision à écran plat. Chaque cuisine comporte des plaques de cuisson, un micro-ondes, un lave-vaisselle et divers ustensiles.\n\nUn petit-déjeuner buffet est servi chaque matin dans la salle à manger. En été vous pourrez aussi le déguster sur la terrasse de l'établissement.\n\nL'Aparthotel Adagio Marseille Timone possède une laverie, une réception ouverte 24h/24 et un parking privé disponible moyennant des frais supplémentaires. L'aéroport de Marseille Provence est à 29 km.",
           "https://www.booking.com/hotel/fr/hipark-residences-marseille.fr.html?aid=304142&label=gen173nr-1FCAQoggJCEHNlYXJjaF9tYXJzZWlsbGVIDVgEaE2IAQGYAQ24AQrIAQXYAQHoAQH4AQOIAgGoAgO4At3o66gGwAIB0gIkNGNhNDBiNmYtYzdjMC00MGQzLTg2MzEtZmMzNTc4MDkzYjRl2AIF4AIB&ucfs=1&arphpl=1&group_adults=2&req_adults=2&no_rooms=1&group_children=0&req_children=0&hpos=23&hapos=23&sr_order=popularity&srpvid=e9e0762e9ee20010&srepoch=1696265310&from_sustainable_property_sr=1&from=searchresults"
          ],
          [
           "#LaFrenchCasa Belsunce",
           7.3,
           43.29889641,
           5.37866055,
           "La FrenchCasa Belsunce est située dans le centre de Marseille, à proximité des stations de métro Vieux Port, Joliette et Marseille Saint-Charles.\n\nLes logements climatisés comprennent une cuisine entièrement équipée avec un coin repas, un four, une machine à café et un micro-ondes. Certains logements comprennent un coin salon et/ou une terrasse.\n\nVous séjournerez à proximité du centre commercial Les Terrasses du Port, du musée des civilisations de l'Europe et de la Méditerranée et de la rue Saint-Ferréol. L'aéroport de Marseille-Provence, le plus proche, est implanté à 22 km.",
           "https://www.booking.com/hotel/fr/t2-deco-mediterranee-lafrenchcasa-belsunce.fr.html?aid=304142&label=gen173nr-1FCAQoggJCEHNlYXJjaF9tYXJzZWlsbGVIDVgEaE2IAQGYAQ24AQrIAQXYAQHoAQH4AQOIAgGoAgO4At3o66gGwAIB0gIkNGNhNDBiNmYtYzdjMC00MGQzLTg2MzEtZmMzNTc4MDkzYjRl2AIF4AIB&ucfs=1&arphpl=1&group_adults=2&req_adults=2&no_rooms=1&group_children=0&req_children=0&hpos=22&hapos=22&sr_order=popularity&srpvid=e9e0762e9ee20010&srepoch=1696265310&from=searchresults"
          ],
          [
           "LaFrenchCasa Clandestina",
           7.6,
           43.3029349,
           5.3785872,
           "Situé à Marseille, à 3 km de la plage des Catalans et à 200 mètres de la gare Saint-Charles, l'établissement LaFrenchCasa Clandestina propose un hébergement climatisé avec vue sur la mer et connexion Wi-Fi gratuite.\n\nLa salle de bains privative est pourvue d'une douche et d'un sèche-cheveux.\n\nUne terrasse bien exposée est présente.\n\nVous séjournerez à proximité de la station de métro Joliette, du centre commercial Les Terrasses du Port et du Vieux Port. L'aéroport de Marseille-Provence, le plus proche, est implanté à 22 km.",
           "https://www.booking.com/hotel/fr/lafrenchcasa-saint-charles.fr.html?aid=304142&label=gen173nr-1FCAQoggJCEHNlYXJjaF9tYXJzZWlsbGVIDVgEaE2IAQGYAQ24AQrIAQXYAQHoAQH4AQOIAgGoAgO4At3o66gGwAIB0gIkNGNhNDBiNmYtYzdjMC00MGQzLTg2MzEtZmMzNTc4MDkzYjRl2AIF4AIB&ucfs=1&arphpl=1&group_adults=2&req_adults=2&no_rooms=1&group_children=0&req_children=0&hpos=21&hapos=21&sr_order=popularity&srpvid=e9e0762e9ee20010&srepoch=1696265310&from=searchresults"
          ],
          [
           "JoliJoliette, terrasse, central, climatisé, WIFI , garage",
           null,
           43.3066308,
           5.3709958,
           "Featuring air-conditioned accommodation with a terrace, JoliJoliette, terrasse, central, climatisé, WIFI, garage is located in Marseille. Free WiFi is provided throughout the property and private parking is available on site.\n\nThe 2-bedroom apartment is equipped with a living room with a flat-screen TV, a fully equipped kitchen, and 1 bathroom with a hair dryer.\n\nIf you would like to discover the area, walking tours is possible in the surroundings.\n\nPopular points of interest near the apartment include Joliette Metro Station, Les Terrasses du Port Shopping Centre and Museum of European and Mediterranean Civilisations. The nearest airport is Marseille Provence Airport, 21 km from JoliJoliette, terrasse, central, climatisé, WIFI, garage.",
           "https://www.booking.com/hotel/fr/cosy-verdi-garage-central-terrasse-climatise-wifi-t3-neuf.fr.html?aid=304142&label=gen173nr-1FCAQoggJCEHNlYXJjaF9tYXJzZWlsbGVIDVgEaE2IAQGYAQ24AQrIAQXYAQHoAQH4AQOIAgGoAgO4At3o66gGwAIB0gIkNGNhNDBiNmYtYzdjMC00MGQzLTg2MzEtZmMzNTc4MDkzYjRl2AIF4AIB&ucfs=1&arphpl=1&group_adults=2&req_adults=2&no_rooms=1&group_children=0&req_children=0&hpos=20&hapos=20&sr_order=popularity&srpvid=e9e0762e9ee20010&srepoch=1696265310&from_sustainable_property_sr=1&from=searchresults"
          ],
          [
           "LaFrenchCasa Noailles",
           7.3,
           43.2964729,
           5.378766,
           "Situé à moins de 700 mètres du centre de Marseille, l'hébergement LaFrenchCasa Noailles dispose d'une connexion Wi-Fi gratuite ainsi que d'une cuisine avec un four, un micro-ondes et un grille-pain.\n\nTous les logements comprennent la climatisation, une télévision à écran plat, un lave-linge et une machine à café. Certains logements comprennent un coin salon et/ou une terrasse.\n\nVous séjournerez à proximité de la station de métro Vieux Port, de la rue Saint-Ferréol et de la station de métro Castellane. L'aéroport le plus proche, celui de Marseille Provence, est situé à 22 km.",
           "https://www.booking.com/hotel/fr/la-french-casa-noailles.fr.html?aid=304142&label=gen173nr-1FCAQoggJCEHNlYXJjaF9tYXJzZWlsbGVIDVgEaE2IAQGYAQ24AQrIAQXYAQHoAQH4AQOIAgGoAgO4At3o66gGwAIB0gIkNGNhNDBiNmYtYzdjMC00MGQzLTg2MzEtZmMzNTc4MDkzYjRl2AIF4AIB&ucfs=1&arphpl=1&group_adults=2&req_adults=2&no_rooms=1&group_children=0&req_children=0&hpos=19&hapos=19&sr_order=popularity&srpvid=e9e0762e9ee20010&srepoch=1696265310&from=searchresults"
          ],
          [
           "City Résidence Marseille",
           6.7,
           43.29074564,
           5.41857183,
           "Le City Résidence Marseille possède des hébergements indépendants à Marseille, à 4 km du centre-ville et à 5 km du stade Vélodrome. Vous profiterez d'une connexion Wi-Fi gratuite.\n\nLes studios du City Résidence Marseille comportent une télévision par câble à écran plat. Leur salle de bains est pourvue d'une douche et de toilettes. Certains possèdent un balcon.\n\nLes studios comprennent aussi une kitchenette entièrement équipée munie d'un micro-ondes et d'un réfrigérateur. Par ailleurs, vous trouverez un supermarché à 600 mètres.\n\nUn panier de petit-déjeuner est disponible à la réception sur demande et moyennant des frais supplémentaires. Il se compose de 1 dosette de café, de 1 sachet de thé, de lait, de jus de fruits, de pain croustillant, de beurre, de confiture, de pâte à tartiner au chocolat, d'une compote de fruits et d'une madeleine.\n\nVous séjournerez à 4,5 km du Vieux-Port de Marseille et à 5 km de la gare Saint-Charles. Doté d'un parking souterrain privé payant, le City Résidence Marseille est accessible par tramway et bus. Enfin, un parking public gratuit supplémentaire est accessible dans la rue.",
           "https://www.booking.com/hotel/fr/city-ra-c-sidence-marseille.fr.html?aid=304142&label=gen173nr-1FCAQoggJCEHNlYXJjaF9tYXJzZWlsbGVIDVgEaE2IAQGYAQ24AQrIAQXYAQHoAQH4AQOIAgGoAgO4At3o66gGwAIB0gIkNGNhNDBiNmYtYzdjMC00MGQzLTg2MzEtZmMzNTc4MDkzYjRl2AIF4AIB&ucfs=1&arphpl=1&group_adults=2&req_adults=2&no_rooms=1&group_children=0&req_children=0&hpos=18&hapos=18&sr_order=popularity&srpvid=e9e0762e9ee20010&srepoch=1696265310&from=searchresults"
          ],
          [
           "LE CHAVE",
           9,
           43.294327,
           5.3997749,
           "Situé à Marseille, en Provence-Alpes-Côte d'Azur, l'établissement LE CHAVE dispose d'un balcon. Vous bénéficierez gratuitement d'une connexion Wi-Fi dans l'ensemble des locaux et d'un parking privé sur place.\n\nCet appartement climatisé comprend 3 chambres, une télévision à écran plat et une cuisine.\n\nVous séjournerez à 500 mètres de la station de métro La Timone et à 2,1 km de celle de Castellane. L'aéroport le plus proche, celui de Marseille Provence, est situé à 24 km. Un service de navette aéroport peut être assuré moyennant des frais supplémentaires.",
           "https://www.booking.com/hotel/fr/le-chave.fr.html?aid=304142&label=gen173nr-1FCAQoggJCEHNlYXJjaF9tYXJzZWlsbGVIDVgEaE2IAQGYAQ24AQrIAQXYAQHoAQH4AQOIAgGoAgO4At3o66gGwAIB0gIkNGNhNDBiNmYtYzdjMC00MGQzLTg2MzEtZmMzNTc4MDkzYjRl2AIF4AIB&ucfs=1&arphpl=1&group_adults=2&req_adults=2&no_rooms=1&group_children=0&req_children=0&hpos=17&hapos=17&sr_order=popularity&srpvid=e9e0762e9ee20010&srepoch=1696265310&from=searchresults"
          ],
          [
           "Larachi",
           null,
           43.3054753,
           5.3833832,
           "Situated in Marseille, less than 1 km from Marseille Saint-Charles Train Station and 1.8 km from Joliette Metro Station, Larachi offers air conditioning. This apartment is 3 km from Saint-Ferreol Street and 3 km from Castellane Metro Station.\n\nThe apartment has a balcony, 2 bedrooms, a living room and a well-equipped kitchen.\n\nLes Terrasses du Port Shopping Centre is 2 km from the apartment, while Vieux Port Metro station is 1.9 km from the property. The nearest airport is Marseille Provence Airport, 23 km from Larachi.",
           "https://www.booking.com/hotel/fr/larachi-marseille1.fr.html?aid=304142&label=gen173nr-1FCAQoggJCEHNlYXJjaF9tYXJzZWlsbGVIDVgEaE2IAQGYAQ24AQrIAQXYAQHoAQH4AQOIAgGoAgO4At3o66gGwAIB0gIkNGNhNDBiNmYtYzdjMC00MGQzLTg2MzEtZmMzNTc4MDkzYjRl2AIF4AIB&ucfs=1&arphpl=1&group_adults=2&req_adults=2&no_rooms=1&group_children=0&req_children=0&hpos=16&hapos=16&sr_order=popularity&srpvid=e9e0762e9ee20010&srepoch=1696265310&from=searchresults"
          ],
          [
           "PARADISE Earth & Sea",
           8.4,
           43.2933693,
           5.376677,
           "Situé à moins de 400 mètres du centre de Marseille, le PARADISE Earth & Sea propose un hébergement avec une connexion Wi-Fi gratuite ainsi qu'une kitchenette équipée d'un micro-ondes, d'un réfrigérateur et d'ustensiles de cuisine.\n\nTous les logements disposent de la climatisation et d'une télévision à écran plat. La salle de bains privative entièrement équipée est pourvue d'une douche à l'italienne et d'un sèche-cheveux.\n\nCet appart'hôtel possède une terrasse.\n\nVous séjournerez à proximité de la station de métro Vieux Port, de la rue Saint-Ferréol et de la station de métro Castellane. L'aéroport de Marseille-Provence, le plus proche, est implanté à 22 km.",
           "https://www.booking.com/hotel/fr/paradise-eart-amp-sea.fr.html?aid=304142&label=gen173nr-1FCAQoggJCEHNlYXJjaF9tYXJzZWlsbGVIDVgEaE2IAQGYAQ24AQrIAQXYAQHoAQH4AQOIAgGoAgO4At3o66gGwAIB0gIkNGNhNDBiNmYtYzdjMC00MGQzLTg2MzEtZmMzNTc4MDkzYjRl2AIF4AIB&ucfs=1&arphpl=1&group_adults=2&req_adults=2&no_rooms=1&group_children=0&req_children=0&hpos=15&hapos=15&sr_order=popularity&srpvid=e9e0762e9ee20010&srepoch=1696265310&from_sustainable_property_sr=1&from=searchresults"
          ],
          [
           "Le building: 5 pax centre ville",
           null,
           43.2974929,
           5.3803301,
           "Situated in the centre of Marseille, 2.4 km from Plage des Catalans and 600 metres from Vieux Port Metro station, Le building: 5 pax centre ville offers air conditioning. Guests staying at this apartment have access to a fully equipped kitchen.\n\nPopular points of interest near the apartment include Saint-Ferreol Street, Castellane Metro Station and Marseille Saint-Charles Train Station. The nearest airport is Marseille Provence Airport, 22 km from Le building: 5 pax centre ville.",
           "https://www.booking.com/hotel/fr/le-building-5-pax-centre-ville.fr.html?aid=304142&label=gen173nr-1FCAQoggJCEHNlYXJjaF9tYXJzZWlsbGVIDVgEaE2IAQGYAQ24AQrIAQXYAQHoAQH4AQOIAgGoAgO4At3o66gGwAIB0gIkNGNhNDBiNmYtYzdjMC00MGQzLTg2MzEtZmMzNTc4MDkzYjRl2AIF4AIB&ucfs=1&arphpl=1&group_adults=2&req_adults=2&no_rooms=1&group_children=0&req_children=0&hpos=14&hapos=14&sr_order=popularity&srpvid=e9e0762e9ee20010&srepoch=1696265310&from=searchresults"
          ],
          [
           "B&B HOTEL Marseille Prado Parc des Expositions",
           7.3,
           43.27951389,
           5.38918138,
           "Installé à Marseille, à 3 km de la plage du Prado Nord, le B&B HOTEL Marseille Prado Parc des Expositions vous propose un jardin, un parking privé, un salon commun et une terrasse. Cet hôtel 3 étoiles met à votre disposition une connexion Wi-Fi gratuite, un service d’étage et une réception ouverte 24h/24. Vous pourrez déguster des boissons au bar.\n\nLes chambres de l’hôtel sont dotées de la climatisation, d’une télévision par satellite à écran plat et d’un lecteur DVD. Leur salle de bains privative est pourvue d’une douche, d’un sèche-cheveux et d’articles de toilette gratuits. Les serviettes de toilette et le linge de lit sont fournis.\n\nChaque matin, vous pourrez déguster un petit-déjeuner continental et sans gluten sur place.\n\nParmi les lieux d’intérêt à proximité du B&B HOTEL Marseille Prado Parc des Expositions, vous trouverez la station de métro Castellane, le parc des expositions/centre de conventions Marseille Chanot et la station de métro Rond-Point du Prado. L’aéroport Marseille-Provence, le plus proche, est situé à 24 km de l’hôtel.",
           "https://www.booking.com/hotel/fr/ibis-marseille-prado-velodrome.fr.html?aid=304142&label=gen173nr-1FCAQoggJCEHNlYXJjaF9tYXJzZWlsbGVIDVgEaE2IAQGYAQ24AQrIAQXYAQHoAQH4AQOIAgGoAgO4At3o66gGwAIB0gIkNGNhNDBiNmYtYzdjMC00MGQzLTg2MzEtZmMzNTc4MDkzYjRl2AIF4AIB&ucfs=1&arphpl=1&group_adults=2&req_adults=2&no_rooms=1&group_children=0&req_children=0&hpos=13&hapos=13&sr_order=popularity&srpvid=e9e0762e9ee20010&srepoch=1696265310&from=searchresults"
          ],
          [
           "Studio agreable au coeur du quartier historique",
           9,
           43.29937377,
           5.36790368,
           "Doté d'une connexion Wi-Fi gratuite, le Studio agreable au coeur du quartier historique est situé dans le centre de Marseille, à moins de 2,3 km de la plage des Catalans et à 800 mètres de la station de métro Joliette. Cet appartement se trouve à 1,5 km de la rue Saint-Ferréol et à 1,4 km de la gare de Marseille Saint-Charles.\n\nCet appartement d'une chambre dispose d'un salon avec une télévision par câble à écran plat, d'une kitchenette entièrement équipée avec un micro-ondes et un grille-pain, ainsi que d'une salle de bains avec un sèche-cheveux. Pour plus de commodité, l'établissement peut fournir des serviettes et du linge de maison moyennant des frais supplémentaires.\n\nVous séjournerez à proximité de la station de métro Vieux Port, du centre commercial Les Terrasses du Port et du musée des civilisations de l'Europe et de la Méditerranée. L'aéroport le plus proche, celui de Marseille Provence, est situé à 21 km.",
           "https://www.booking.com/hotel/fr/studio-agreable-au-coeur-du-quartier-historique-marseille1.fr.html?aid=304142&label=gen173nr-1FCAQoggJCEHNlYXJjaF9tYXJzZWlsbGVIDVgEaE2IAQGYAQ24AQrIAQXYAQHoAQH4AQOIAgGoAgO4At3o66gGwAIB0gIkNGNhNDBiNmYtYzdjMC00MGQzLTg2MzEtZmMzNTc4MDkzYjRl2AIF4AIB&ucfs=1&arphpl=1&group_adults=2&req_adults=2&no_rooms=1&group_children=0&req_children=0&hpos=12&hapos=12&sr_order=popularity&srpvid=e9e0762e9ee20010&srepoch=1696265310&from=searchresults"
          ],
          [
           "Montempô Apparthôtel Marseille Centre Euromed",
           6.3,
           43.31580003,
           5.37297461,
           "Le Montempô Marseille Centre Euromed propose des hébergements à Marseille, à 3 km du Vieux-Port et à 9 km du stade Vélodrome. Vous pourrez profiter gratuitement d'une connexion Wi-Fi dans l'ensemble de l'établissement, et un parking privé est disponible sur demande.\n\nTous les logements disposent d'une télévision à écran plat ainsi que d'une kitchenette équipée d'un micro-ondes et d'un réfrigérateur. Leur salle de bains privative est pourvue d'une douche. Le linge de lit et les serviettes de toilette sont fournis.\n\nLe Montempô Marseille Centre Euromed se trouve à 7 minutes en métro du centre commercial Les Terrasses du Port. L'aéroport le plus proche, celui de Marseille Provence, est situé à 24 km.",
           "https://www.booking.com/hotel/fr/marseille-centre-euromed-marseille.fr.html?aid=304142&label=gen173nr-1FCAQoggJCEHNlYXJjaF9tYXJzZWlsbGVIDVgEaE2IAQGYAQ24AQrIAQXYAQHoAQH4AQOIAgGoAgO4At3o66gGwAIB0gIkNGNhNDBiNmYtYzdjMC00MGQzLTg2MzEtZmMzNTc4MDkzYjRl2AIF4AIB&ucfs=1&arphpl=1&group_adults=2&req_adults=2&no_rooms=1&group_children=0&req_children=0&hpos=11&hapos=11&sr_order=popularity&srpvid=e9e0762e9ee20010&srepoch=1696265310&from=searchresults"
          ],
          [
           "Marseille appartement cocooning avec une chambre",
           4.1,
           43.2986599,
           5.3680194,
           "Situé à moins de 1 km de la station de métro Joliette, à 12 minutes à pied de la station de métro Vieux Port et à 1,1 km du centre commercial Les Terrasses du Port, le Marseille appartement cocooning avec une chambre propose un hébergement à Marseille. Vous séjournerez à 2,3 km de la plage des Catalans et bénéficierez d'une connexion Wi-Fi gratuite dans l'ensemble des locaux.\n\nCet appartement comprend une chambre, une télévision à écran plat et une cuisine.\n\nVous séjournerez à proximité du musée des civilisations de l'Europe et de la Méditerranée, de la rue Saint-Ferréol et de la gare de Marseille Saint-Charles. L'aéroport de Marseille-Provence, le plus proche, est implanté à 21 km.",
           "https://www.booking.com/hotel/fr/marseille-appartement-cocooning-avec-une-chambre.fr.html?aid=304142&label=gen173nr-1FCAQoggJCEHNlYXJjaF9tYXJzZWlsbGVIDVgEaE2IAQGYAQ24AQrIAQXYAQHoAQH4AQOIAgGoAgO4At3o66gGwAIB0gIkNGNhNDBiNmYtYzdjMC00MGQzLTg2MzEtZmMzNTc4MDkzYjRl2AIF4AIB&ucfs=1&arphpl=1&group_adults=2&req_adults=2&no_rooms=1&group_children=0&req_children=0&hpos=10&hapos=10&sr_order=popularity&srpvid=e9e0762e9ee20010&srepoch=1696265310&from=searchresults"
          ],
          [
           "T1 rénové de 25m2 idéalement situé au panier",
           8.9,
           43.29946332,
           5.36923701,
           "Situé dans le centre de Marseille, à 2,3 km de la plage des Catalans et à moins de 1 km de la station de métro Joliette, Le T1 rénové de 25m2 idéalement situé au panier propose une connexion Wi-Fi gratuite. Il est situé à moins de 1 km de la station de métro Vieux Port et propose un service de nettoyage à sec.\n\nCet appartement comprend une chambre, une cuisine entièrement équipée avec un réfrigérateur et un four ainsi qu'une salle de bains pourvue d'une douche. Les serviettes et le linge de lit sont fournis.\n\nVous séjournerez à proximité du centre commercial Les Terrasses du Port, du musée des civilisations de l'Europe et de la Méditerranée et de la rue Saint-Ferréol. L'aéroport le plus proche, celui de Marseille Provence, est situé à 21 km.",
           "https://www.booking.com/hotel/fr/t1-renove-de-25m2-idealement-situe-au-panier.fr.html?aid=304142&label=gen173nr-1FCAQoggJCEHNlYXJjaF9tYXJzZWlsbGVIDVgEaE2IAQGYAQ24AQrIAQXYAQHoAQH4AQOIAgGoAgO4At3o66gGwAIB0gIkNGNhNDBiNmYtYzdjMC00MGQzLTg2MzEtZmMzNTc4MDkzYjRl2AIF4AIB&ucfs=1&arphpl=1&group_adults=2&req_adults=2&no_rooms=1&group_children=0&req_children=0&hpos=9&hapos=9&sr_order=popularity&srpvid=e9e0762e9ee20010&srepoch=1696265310&from=searchresults"
          ],
          [
           "Appart'City Confort Marseille Centre Prado Vélodrome",
           7.7,
           43.2798554,
           5.390496,
           "L'Appart'City Confort Marseille Centre Prado Vélodrome est situé à seulement 200 mètres de la station de métro Périer, qui mène directement au centre de Marseille, au musée des civilisations de l'Europe et de la Méditerranée(MuCEM) et au vieux port. Le Palais des congrès et le stade Vélodrome se trouvent à proximité de l'établissement.\n\nLes hébergements de style contemporain sont équipés d'une télévision à écran LCD. Chaque chambre, suite et studio comprend également une salle de bains privative avec des articles de toilette gratuits.\n\nLe matin, vous dégusterez un petit-déjeuner buffet dans la salle à manger. La réception est quant à elle ouverte 24h/24. Vous profiterez aussi gratuitement d'une connexion Wi-Fi, ainsi que des ordinateurs dans la salle de divertissements et de l'espace Nespresso.\n\nEnfin, l'Appart'City Confort Marseille Centre Prado Vélodrome bénéficie d'un emplacement idéal, à seulement 4 stations de métro de la gare Saint-Charles. De plus, vous disposerez d'un parking moyennant des frais supplémentaires.",
           "https://www.booking.com/hotel/fr/seven-urban-suites.fr.html?aid=304142&label=gen173nr-1FCAQoggJCEHNlYXJjaF9tYXJzZWlsbGVIDVgEaE2IAQGYAQ24AQrIAQXYAQHoAQH4AQOIAgGoAgO4At3o66gGwAIB0gIkNGNhNDBiNmYtYzdjMC00MGQzLTg2MzEtZmMzNTc4MDkzYjRl2AIF4AIB&ucfs=1&arphpl=1&group_adults=2&req_adults=2&no_rooms=1&group_children=0&req_children=0&hpos=8&hapos=8&sr_order=popularity&srpvid=e9e0762e9ee20010&srepoch=1696265310&from_sustainable_property_sr=1&from=searchresults"
          ],
          [
           "Bel apt moderne et cosy pour 6 à Marseille by Weekome",
           null,
           43.2953045,
           5.3763499,
           "Located in the centre of Marseille, 1.9 km from Plage des Catalans and 200 metres from Vieux Port Metro station, Bel apt moderne et cosy pour 6 à Marseille by Weekome offers air conditioning. This apartment is 1.7 km from Joliette Metro Station and 1.9 km from Les Terrasses du Port Shopping Centre.\n\nThe apartment comes with 2 bedrooms, a flat-screen TV and a fully equipped kitchen that provides guests with a dishwasher, an oven, a washing machine, a microwave and a toaster.\n\nPopular points of interest near the apartment include Saint-Ferreol Street, Castellane Metro Station and Museum of European and Mediterranean Civilisations. The nearest airport is Marseille Provence Airport, 22 km from Bel apt moderne et cosy pour 6 à Marseille by Weekome.",
           "https://www.booking.com/hotel/fr/bel-apt-moderne-et-cosy-pour-6-a-marseille-by-weekome.fr.html?aid=304142&label=gen173nr-1FCAQoggJCEHNlYXJjaF9tYXJzZWlsbGVIDVgEaE2IAQGYAQ24AQrIAQXYAQHoAQH4AQOIAgGoAgO4At3o66gGwAIB0gIkNGNhNDBiNmYtYzdjMC00MGQzLTg2MzEtZmMzNTc4MDkzYjRl2AIF4AIB&ucfs=1&arphpl=1&group_adults=2&req_adults=2&no_rooms=1&group_children=0&req_children=0&hpos=7&hapos=7&sr_order=popularity&srpvid=e9e0762e9ee20010&srepoch=1696265310&from=searchresults"
          ],
          [
           "Montempô Marseille Centre Dôme",
           7.3,
           43.31371049,
           5.40388192,
           "Le Montempô Marseille Centre Dôme propose des hébergements avec une connexion Wi-Fi gratuite, une télévision à écran plat et une kitchenette à Marseille, à 2,9 km de la station de métro La Timone et à 4,2 km de la station de métro Vieux-Port.\n\nUn petit-déjeuner continental est disponible tous les matins à l’appart'hôtel.\n\nLe Montempô Marseille Centre Dôme se trouve à 4,3 km de la station de métro Castellane et de la gare de Marseille Saint-Charles. L’aéroport le plus proche, celui de Marseille-Provence, est situé à 24 km.",
           "https://www.booking.com/hotel/fr/montempo-marseille-centre.fr.html?aid=304142&label=gen173nr-1FCAQoggJCEHNlYXJjaF9tYXJzZWlsbGVIDVgEaE2IAQGYAQ24AQrIAQXYAQHoAQH4AQOIAgGoAgO4At3o66gGwAIB0gIkNGNhNDBiNmYtYzdjMC00MGQzLTg2MzEtZmMzNTc4MDkzYjRl2AIF4AIB&ucfs=1&arphpl=1&group_adults=2&req_adults=2&no_rooms=1&group_children=0&req_children=0&hpos=6&hapos=6&sr_order=popularity&srpvid=e9e0762e9ee20010&srepoch=1696265310&from=searchresults"
          ],
          [
           "T2 - Rue de la République - Cosy",
           null,
           43.297804,
           5.3731598,
           "Situé dans le centre de Marseille, à 2,2 km de la plage des Catalans et à 400 mètres de la station de métro Vieux Port, le T2 - Rue de la République - Cosy propose la climatisation. Offrant une vue sur la ville, il se trouve à moins de 1 km de la rue Saint-Ferréol et à 16 minutes à pied du musée des civilisations de l'Europe et de la Méditerranée.\n\nDoté d'une connexion Wi-Fi gratuite, cet appartement 1 chambre dispose d'une télévision à écran plat, d'un lave-linge et d'une cuisine avec lave-vaisselle et four. Les serviettes et le linge de lit sont fournis.\n\nVous séjournerez à proximité de la station de métro Joliette, du centre commercial Les Terrasses du Port et de la station de métro Castellane. L'aéroport de Marseille-Provence, le plus proche, est implanté à 21 km.",
           "https://www.booking.com/hotel/fr/t2-rue-de-la-republique-cosy-marseille.fr.html?aid=304142&label=gen173nr-1FCAQoggJCEHNlYXJjaF9tYXJzZWlsbGVIDVgEaE2IAQGYAQ24AQrIAQXYAQHoAQH4AQOIAgGoAgO4At3o66gGwAIB0gIkNGNhNDBiNmYtYzdjMC00MGQzLTg2MzEtZmMzNTc4MDkzYjRl2AIF4AIB&ucfs=1&arphpl=1&group_adults=2&req_adults=2&no_rooms=1&group_children=0&req_children=0&hpos=5&hapos=5&sr_order=popularity&srpvid=e9e0762e9ee20010&srepoch=1696265310&from=searchresults"
          ],
          [
           "Toyoko INN Marseille Saint Charles",
           7.8,
           43.304229,
           5.376624,
           "Situé à Marseille, à seulement 5 minutes à pied de la gare de Marseille Saint-Charles, le Toyoko INN Marseille Saint Charles dispose d’un jardin et d’une connexion Wi-Fi gratuite. L’établissement est facilement accessible depuis l’autoroute A7. Un parking sécurisé est disponible mais les places de stationnement sont limitées et ne peuvent pas être réservées à l'avance.\n\nLes chambres sont équipées de la climatisation, d’une télévision à écran plat, d’un bureau et d’une salle de bains privative avec baignoire.\n\nParlant français et anglais, le personnel de la réception se fera un plaisir de vous aider à tout moment de la journée.\n\nVous séjournerez à 1,1 km du Vieux-Port de Marseille et à 20 minutes à pied du centre commercial Les Terrasses du Port. L’aéroport Marseille-Provence, le plus proche, se situe quant à lui à 20 km.",
           "https://www.booking.com/hotel/fr/toyoko-inn-marseille-saint-charles.fr.html?aid=304142&label=gen173nr-1FCAQoggJCEHNlYXJjaF9tYXJzZWlsbGVIDVgEaE2IAQGYAQ24AQrIAQXYAQHoAQH4AQOIAgGoAgO4At3o66gGwAIB0gIkNGNhNDBiNmYtYzdjMC00MGQzLTg2MzEtZmMzNTc4MDkzYjRl2AIF4AIB&ucfs=1&arphpl=1&group_adults=2&req_adults=2&no_rooms=1&group_children=0&req_children=0&hpos=4&hapos=4&sr_order=popularity&srpvid=e9e0762e9ee20010&srepoch=1696265310&from_sustainable_property_sr=1&from=searchresults"
          ],
          [
           "Superbe T2 front de Mer",
           7,
           43.2883712,
           5.3533499,
           "Superbe T2 front de Mer is a beachfront property set in Marseille, 200 metres from Plage des Catalans and 1.3 km from Fausse Monnaie. The air-conditioned accommodation is 1.5 km from Plage de Maldorme.\n\nWith free WiFi, this 1-bedroom apartment offers a flat-screen TV, a washing machine and a kitchen with an oven and microwave. Towels and bed linen are featured in the apartment.\n\nPalais du Pharo is 1.1 km from the apartment, while Saint-Ferreol Street is 2.3 km away. The nearest airport is Marseille Provence Airport, 24 km from Superbe T2 front de Mer.",
           "https://www.booking.com/hotel/fr/superbe-t2-front-de-mer.fr.html?aid=304142&label=gen173nr-1FCAQoggJCEHNlYXJjaF9tYXJzZWlsbGVIDVgEaE2IAQGYAQ24AQrIAQXYAQHoAQH4AQOIAgGoAgO4At3o66gGwAIB0gIkNGNhNDBiNmYtYzdjMC00MGQzLTg2MzEtZmMzNTc4MDkzYjRl2AIF4AIB&ucfs=1&arphpl=1&group_adults=2&req_adults=2&no_rooms=1&group_children=0&req_children=0&hpos=3&hapos=3&sr_order=popularity&srpvid=e9e0762e9ee20010&srepoch=1696265310&from=searchresults"
          ],
          [
           "Centre ville - vue panoramique",
           null,
           43.2852561,
           5.3913528,
           "Featuring city views, Centre ville - vue panoramique provides accommodation with a balcony and a coffee machine, around 700 metres from Castellane Metro Station. It features mountain views and free WiFithroughout the property.\n\nThe apartment comes with 1 bedroom, 1 bathroom, bed linen, towels, a flat-screen TV with cable channels, a dining area, a fully equipped kitchen, and a terrace with sea views.\n\nPopular points of interest near the apartment include La Timone Metro Station, Saint-Ferreol Street and Rond-Point du Prado Metro Station. The nearest airport is Marseille Provence Airport, 24 km from Centre ville - vue panoramique.",
           "https://www.booking.com/hotel/fr/centre-ville-vue-panoramique.fr.html?aid=304142&label=gen173nr-1FCAQoggJCEHNlYXJjaF9tYXJzZWlsbGVIDVgEaE2IAQGYAQ24AQrIAQXYAQHoAQH4AQOIAgGoAgO4At3o66gGwAIB0gIkNGNhNDBiNmYtYzdjMC00MGQzLTg2MzEtZmMzNTc4MDkzYjRl2AIF4AIB&ucfs=1&arphpl=1&group_adults=2&req_adults=2&no_rooms=1&group_children=0&req_children=0&hpos=2&hapos=2&sr_order=popularity&srpvid=e9e0762e9ee20010&srepoch=1696265310&from_sustainable_property_sr=1&from=searchresults"
          ],
          [
           "Appartement Marseille centre Terrasse Vieux Port",
           null,
           43.2974853,
           5.3813751,
           "Located in the centre of Marseille, 2.5 km from Plage des Catalans and 700 metres from Vieux Port Metro station, Appartement Marseille centre Terrasse Vieux Port offers free WiFi. Featuring a balcony, the apartment is in an area where guests can engage in activities such as hiking and walking tours.\n\nThe apartment with a terrace and city views features 1 bedroom, a living room, a flat-screen TV, an equipped kitchen with an oven and a microwave, and 1 bathroom with a shower. Towels and bed linen are provided in the apartment.\n\nA bicycle rental service is available at the apartment.\n\nPopular points of interest near Appartement Marseille centre Terrasse Vieux Port include Marseille Saint-Charles Train Station, Saint-Ferreol Street and Castellane Metro Station. The nearest airport is Marseille Provence Airport, 22 km from the accommodation.",
           "https://www.booking.com/hotel/fr/appartement-marseille-centre-terrasse.fr.html?aid=304142&label=gen173nr-1FCAQoggJCEHNlYXJjaF9tYXJzZWlsbGVIDVgEaE2IAQGYAQ24AQrIAQXYAQHoAQH4AQOIAgGoAgO4At3o66gGwAIB0gIkNGNhNDBiNmYtYzdjMC00MGQzLTg2MzEtZmMzNTc4MDkzYjRl2AIF4AIB&ucfs=1&arphpl=1&group_adults=2&req_adults=2&no_rooms=1&group_children=0&req_children=0&hpos=1&hapos=1&sr_order=popularity&srpvid=e9e0762e9ee20010&srepoch=1696265310&from_sustainable_property_sr=1&from=searchresults"
          ],
          [
           "Best Western Plus Hôtel la Rade",
           7.9,
           43.21522997,
           5.53369693,
           "Le Best Western Plus Hôtel la Rade est situé à 300 mètres du port de pêche de Cassis et de la plage du Bestouan. Cet établissement propose une piscine chauffée ouverte toute l’année, un jacuzzi et une terrasse surplombant la mer Méditerranée.\n\nLes chambres sont insonorisées et équipées d’une télévision par satellite à écran plat. Vous bénéficierez d’une connexion Wi-Fi gratuite. Les suites possèdent une salle de bains privative donnant sur le cap Canaille.\n\nLe Best Western Plus Hôtel la Rade sert un petit-déjeuner quotidien dans sa salle à manger offrant des vues panoramiques sur la mer. Sur place, vous disposerez également d’une réception ouverte 24h/24 et d’un bar.\n\nÀ proximité, vous aurez notamment l’occasion de pratiquer différents sports nautiques sur la plage, de jouer au tennis ou encore de partir en randonnée dans les calanques. Le centre-ville de Cassis est aussi accessible en 5 minutes à pied.\n\n Le circuit Paul-Ricard est accessible en 40 minutes en voiture.",
           "https://www.booking.com/hotel/fr/la-rade-cassis.fr.html?aid=304142&label=gen173nr-1FCAQoggJCDXNlYXJjaF9jYXNzaXNIDVgEaE2IAQGYAQ24AQrIAQXYAQHoAQH4AQOIAgGoAgO4Atfo66gGwAIB0gIkY2E2ZDBmY2EtY2ZmNy00OThhLTk5MjEtNzc1NmM4NTU0NmIx2AIF4AIB&ucfs=1&arphpl=1&group_adults=2&req_adults=2&no_rooms=1&group_children=0&req_children=0&hpos=24&hapos=24&sr_order=popularity&srpvid=0117762b7bc80249&srepoch=1696265304&from=searchresults"
          ],
          [
           "Home Cassis - Maison Mediterranée - Piscine chauffée",
           8.2,
           43.21977635,
           5.53745873,
           "Situé à moins de 1 km de la Grande Mer, le Home Cassis - Maison Mediterranée - Piscine chauffée propose une piscine à débordement, un casino et des hébergements climatisés avec balcon et connexion Wi-Fi gratuite.\n\nTous les logements comprennent une terrasse offrant une vue sur la mer, une télévision à écran plat, un coin repas, une cuisine bien équipée ainsi qu'une salle de bains privative pourvue d'une douche à l'italienne et d'un sèche-cheveux. Un micro-ondes, un grille-pain, un réfrigérateur, une machine à café et une bouilloire sont également fournis.\n\nCette maison de vacances possède un solarium.\n\nVous pourrez jouer au ping-pong sur place ou pratiquer la plongée avec tuba ou la pêche dans les environs.\n\nVous séjournerez à 1,1 km du Bestouan et à 1,4 km de la plage de l'Anse de Corton. L'aéroport le plus proche, celui de Marseille Provence, est situé à 45 km.",
           "https://www.booking.com/hotel/fr/home-cassis-maison-mediterrannee.fr.html?aid=304142&label=gen173nr-1FCAQoggJCDXNlYXJjaF9jYXNzaXNIDVgEaE2IAQGYAQ24AQrIAQXYAQHoAQH4AQOIAgGoAgO4Atfo66gGwAIB0gIkY2E2ZDBmY2EtY2ZmNy00OThhLTk5MjEtNzc1NmM4NTU0NmIx2AIF4AIB&ucfs=1&arphpl=1&group_adults=2&req_adults=2&no_rooms=1&group_children=0&req_children=0&hpos=23&hapos=23&sr_order=popularity&srpvid=0117762b7bc80249&srepoch=1696265304&from=searchresults"
          ],
          [
           "Appartement Cassis Plage",
           7.6,
           43.21212598,
           5.54519355,
           "L'Appartement Cassis Plage propose un hébergement à Cassis, à 17 km de Marseille, 33 km de Toulon et 36 km d'Aix-en-Provence. Un parking privé est disponible gratuitement sur place.\n\nSitué à l'étage supérieur et accessible par des escaliers, cet appartement comprend un coin salon et une cuisine équipée d’un lave-vaisselle. Sa salle de bains privative est pourvue d'une baignoire ou d'une douche.\n\nL'Appartement Cassis Plage se trouve à 19 km de Bandol et à 48 km de Hyères. L'aéroport de Marseille Provence est, quant à lui, situé à 37 km.",
           "https://www.booking.com/hotel/fr/appartement-cassis-plage.fr.html?aid=304142&label=gen173nr-1FCAQoggJCDXNlYXJjaF9jYXNzaXNIDVgEaE2IAQGYAQ24AQrIAQXYAQHoAQH4AQOIAgGoAgO4Atfo66gGwAIB0gIkY2E2ZDBmY2EtY2ZmNy00OThhLTk5MjEtNzc1NmM4NTU0NmIx2AIF4AIB&ucfs=1&arphpl=1&group_adults=2&req_adults=2&no_rooms=1&group_children=0&req_children=0&hpos=22&hapos=22&sr_order=popularity&srpvid=0117762b7bc80249&srepoch=1696265304&from=searchresults"
          ],
          [
           "Villa Le Sud",
           9.4,
           43.23304906,
           5.55305108,
           "Située à Cassis, la Villa Le Sud propose une piscine extérieure et une connexion Wi-Fi gratuite. L'hébergement se trouve à 2,5 km des falaises de Cassis. Le circuit Paul Ricard se trouve à 35 minutes en voiture.\n\nDotée d'une terrasse, chaque chambre climatisée dispose d'une télévision à écran plat. La salle de bains privative est munie d'une baignoire ou d'une douche et d'un sèche-cheveux. La chambre donne sur la piscine et le jardin. Vous disposerez aussi d'une télévision par câble.\n\nLa Villa Le Sud comporte un jardin et une terrasse. Le parking est gratuit.\n\nL’aéroport de Marseille Provence est situé à 47,1 km.",
           "https://www.booking.com/hotel/fr/villa-le-sud-cassis.fr.html?aid=304142&label=gen173nr-1FCAQoggJCDXNlYXJjaF9jYXNzaXNIDVgEaE2IAQGYAQ24AQrIAQXYAQHoAQH4AQOIAgGoAgO4Atfo66gGwAIB0gIkY2E2ZDBmY2EtY2ZmNy00OThhLTk5MjEtNzc1NmM4NTU0NmIx2AIF4AIB&ucfs=1&arphpl=1&group_adults=2&req_adults=2&no_rooms=1&group_children=0&req_children=0&hpos=21&hapos=21&sr_order=popularity&srpvid=0117762b7bc80249&srepoch=1696265304&from=searchresults"
          ],
          [
           "Rêves de vie Appt indépendant Figuerolles",
           8.6,
           43.2273212,
           5.5330395,
           "Situé à Cassis, à moins de 19 km du stade Orange Vélodrome et de la station de métro Rond-Point du Prado, le Rêves de vie Appt indépendant Figuerolles propose un hébergement avec une terrasse et une connexion Wi-Fi gratuite dans l'ensemble de ses locaux. Un parking privé est disponible gratuitement sur place. L'établissement se trouve à environ 20 km de la station de métro La Timone, à 21 km de la station de métro Castellane et à 22 km de la basilique Notre-Dame de la Garde. Cet établissement non-fumeurs se trouve à 19 km du parc des expositions et centre de conventions Marseille Chanot.\n\nToutes les chambres de cette maison d'hôtes sont équipées d'une machine à café. Leur salle de bains privative est pourvue de linge de lit.\n\nVous séjournerez à 23 km de la rue Saint-Ferréol et de la station de métro Vieux Port. L'aéroport le plus proche, celui de Marseille Provence, est situé à 45 km.",
           "https://www.booking.com/hotel/fr/figuerolles-cassis.fr.html?aid=304142&label=gen173nr-1FCAQoggJCDXNlYXJjaF9jYXNzaXNIDVgEaE2IAQGYAQ24AQrIAQXYAQHoAQH4AQOIAgGoAgO4Atfo66gGwAIB0gIkY2E2ZDBmY2EtY2ZmNy00OThhLTk5MjEtNzc1NmM4NTU0NmIx2AIF4AIB&ucfs=1&arphpl=1&group_adults=2&req_adults=2&no_rooms=1&group_children=0&req_children=0&hpos=20&hapos=20&sr_order=popularity&srpvid=0117762b7bc80249&srepoch=1696265304&from=searchresults"
          ],
          [
           "The Originals Boutique, Hôtel Cassitel, Cassis",
           7.7,
           43.21370621,
           5.53895809,
           "L’The Originals Boutique, Hôtel Cassitel, Cassis vous accueille en face du port de pêche de Cassis, à seulement 2 minutes à pied de la plage et à 40 minutes de route du circuit automobile Paul Ricard. Cet hôtel dispose d’une connexion Wi-Fi gratuite.\n\nToutes les chambres sont dotées de la climatisation, d’une salle de bains privative et d’une télévision à écran plat.\n\nUn petit-déjeuner buffet est servi tous les matins et l’The Originals Boutique, Hôtel Cassitel, Cassis comporte un coin salon. La réception ouverte 24h/24 pourra vous fournir des informations pour votre séjour à Cassis.\n\nL’The Originals Boutique, Hôtel Cassitel, Cassis se trouve à 10 minutes en voiture de l’autoroute A50 et à 25 km du centre-ville de Marseille.",
           "https://www.booking.com/hotel/fr/interhotel-cassitel.fr.html?aid=304142&label=gen173nr-1FCAQoggJCDXNlYXJjaF9jYXNzaXNIDVgEaE2IAQGYAQ24AQrIAQXYAQHoAQH4AQOIAgGoAgO4Atfo66gGwAIB0gIkY2E2ZDBmY2EtY2ZmNy00OThhLTk5MjEtNzc1NmM4NTU0NmIx2AIF4AIB&ucfs=1&arphpl=1&group_adults=2&req_adults=2&no_rooms=1&group_children=0&req_children=0&hpos=19&hapos=19&sr_order=popularity&srpvid=0117762b7bc80249&srepoch=1696265304&from=searchresults"
          ],
          [
           "appartement du pêcheur à Cassis à 10 mètres du port",
           8.5,
           43.21534046,
           5.5368582,
           "Situé à Cassis, à moins de 400 mètres de la Grande Mer et à 600 mètres du Bestouan, l'appartement du pêcheur à Cassis à 10 mètres du port propose un hébergement avec une connexion Wi-Fi gratuite, la climatisation et une terrasse. Vous pourrez pratiquer diverses activités dans les environs, telles que la pêche et la randonnée.\n\nOffrant une vue sur la ville, cet appartement comprend un balcon, 2 chambres, un salon, une télévision à écran plat, une cuisine équipée d'un lave-vaisselle et d'un four ainsi qu'une salle de bains pourvue d'une douche à l'italienne. Les serviettes et le linge de lit sont fournis.\n\nVous séjournerez à 1 km de la plage de l'Anse de Corton et à 19 km du stade Orange Vélodrome. L'aéroport de Marseille-Provence, le plus proche, est à 45 km.",
           "https://www.booking.com/hotel/fr/appartement-du-pecheur-a-cassis-a-10-metres-du-port.fr.html?aid=304142&label=gen173nr-1FCAQoggJCDXNlYXJjaF9jYXNzaXNIDVgEaE2IAQGYAQ24AQrIAQXYAQHoAQH4AQOIAgGoAgO4Atfo66gGwAIB0gIkY2E2ZDBmY2EtY2ZmNy00OThhLTk5MjEtNzc1NmM4NTU0NmIx2AIF4AIB&ucfs=1&arphpl=1&group_adults=2&req_adults=2&no_rooms=1&group_children=0&req_children=0&hpos=18&hapos=18&sr_order=popularity&srpvid=0117762b7bc80249&srepoch=1696265304&from_sustainable_property_sr=1&from=searchresults"
          ],
          [
           "Le Grand Large 2 par Dodo-a-Cassis",
           8,
           43.2116831,
           5.5451956,
           "Le Grand Large 2 par Dodo-a-Cassis est situé à Cassis, à 200 mètres de la plage de l'Anse de Corton, à 500 mètres de l'Arene et à 700 mètres de la Grande Mer. Vous bénéficierez gratuitement d'une connexion Wi-Fi et d'un parking privé.\n\nOffrant une vue sur la mer, cet appartement comprend une terrasse, une chambre, un salon, une télévision à écran plat, une salle de bains pourvue d'une baignoire ainsi qu'une cuisine équipée d'un lave-vaisselle et d'un four. Pour plus de commodité, l'établissement peut fournir des serviettes et du linge de maison moyennant des frais supplémentaires.\n\nLe personnel de la réception se fera un plaisir de vous renseigner sur les environs.\n\nVous séjournerez à 20 km du stade Orange Vélodrome et de la station de métro Rond-Point du Prado. L'aéroport de Marseille-Provence, le plus proche, est implanté à 46 km.",
           "https://www.booking.com/hotel/fr/le-grand-large-2-par-dodo-a-cassis-cassis.fr.html?aid=304142&label=gen173nr-1FCAQoggJCDXNlYXJjaF9jYXNzaXNIDVgEaE2IAQGYAQ24AQrIAQXYAQHoAQH4AQOIAgGoAgO4Atfo66gGwAIB0gIkY2E2ZDBmY2EtY2ZmNy00OThhLTk5MjEtNzc1NmM4NTU0NmIx2AIF4AIB&ucfs=1&arphpl=1&group_adults=2&req_adults=2&no_rooms=1&group_children=0&req_children=0&hpos=17&hapos=17&sr_order=popularity&srpvid=0117762b7bc80249&srepoch=1696265304&from=searchresults"
          ],
          [
           "Plein Soleil - 52m2 avec Terrasse Vue Mer Panoramique",
           9,
           43.21635029,
           5.54406134,
           "Situé à 1 km de la plage de l'Anse de Corton, à 1,4 km de l'Arene et à 20 km du stade Orange Vélodrome, le Plein Soleil - 52m2 avec Terrasse Vue Mer Panoramique propose un hébergement à Cassis. Vous séjournerez à 1 km de la Grande Mer et bénéficierez d'une connexion Wi-Fi gratuite dans l'ensemble des locaux.\n\nS'ouvrant sur une terrasse, l'appartement comprend 2 chambres et une cuisine entièrement équipée. Il dispose également d'une télévision à écran plat.\n\nVous séjournerez à 20 km de la station de métro Rond-Point du Prado et du parc des expositions Marseille Chanot. L'aéroport le plus proche, celui de Marseille Provence, est situé à 45 km.",
           "https://www.booking.com/hotel/fr/terrasse-du-soleil-52m2-vue-mer-panoramique.fr.html?aid=304142&label=gen173nr-1FCAQoggJCDXNlYXJjaF9jYXNzaXNIDVgEaE2IAQGYAQ24AQrIAQXYAQHoAQH4AQOIAgGoAgO4Atfo66gGwAIB0gIkY2E2ZDBmY2EtY2ZmNy00OThhLTk5MjEtNzc1NmM4NTU0NmIx2AIF4AIB&ucfs=1&arphpl=1&group_adults=2&req_adults=2&no_rooms=1&group_children=0&req_children=0&hpos=16&hapos=16&sr_order=popularity&srpvid=0117762b7bc80249&srepoch=1696265304&from=searchresults"
          ],
          [
           "Villa Cassis",
           9.2,
           43.21150506,
           5.52610226,
           "La Villa Cassis est à 500 mètres de la plage du Bestouan et à 20 minutes à pied du port de Cassis.\nSituée sur la presqu’île de Cassis, entre mer et calanques, c’est un vrai havre de paix.\nCet établissement propose une piscine à débordement de 17 mètres avec un bel espace transat.\nLes studios disposent d’un séjour avec coin cuisine, et terrasse avec vue mer.\nLes appartements comprennent une cuisine américaine complète, 1 chambre et une grande terrasse avec vue sur mer ou Cap canaille.\nL’ensemble est climatisé, propose l’accès wifi et un parking gratuit.\nC'est le quartier préféré des voyageurs visitant Cassis, selon les commentaires clients indépendants.\nLes couples apprécient particulièrement l'emplacement de cet établissement. Ils lui donnent la note de 9,4 pour un séjour à deux.",
           "https://www.booking.com/hotel/fr/villa-cassis.fr.html?aid=304142&label=gen173nr-1FCAQoggJCDXNlYXJjaF9jYXNzaXNIDVgEaE2IAQGYAQ24AQrIAQXYAQHoAQH4AQOIAgGoAgO4Atfo66gGwAIB0gIkY2E2ZDBmY2EtY2ZmNy00OThhLTk5MjEtNzc1NmM4NTU0NmIx2AIF4AIB&ucfs=1&arphpl=1&group_adults=2&req_adults=2&no_rooms=1&group_children=0&req_children=0&hpos=15&hapos=15&sr_order=popularity&srpvid=0117762b7bc80249&srepoch=1696265304&from=searchresults"
          ],
          [
           "Home Cassis - Maison Les Calanques - Piscine chauffée",
           7.6,
           43.21183243,
           5.52470152,
           "Situé à 1 km du port de Cassis, l'établissement Home Cassis est une résidence de 4 appartements, abritant une piscine commune. Il se trouve à 5 minutes de la plage et des pittoresques falaises du littoral de Cassis. Sur place, vous bénéficierez d'une connexion Wi-Fi et d'un parking privé gratuits.\n\nL'établissement affiche une décoration moderne, comprenant un salon muni d'une télévision à écran plat. Les cuisines entièrement équipées disposent d'un réfrigérateur, d'un four, d'un four micro-ondes et d'une machine à café. Les salles de bains sont dotées d'une douche à l'italienne et la terrasse privée abrite un barbecue. Vous trouverez sur place un terrain de pétanque.\n\nCes hébergements indépendants se trouvent à 12 minutes à pied d'épiceries, de bars et de restaurants. Les villes de Marseille et Bandol se situent toutes les deux à moins de 30 km et Toulon est à 45 km. La gare de Cassis est à 5 km de l'établissement, tandis que l'arrêt de bus le plus proche est situé à seulement 100 mètres.",
           "https://www.booking.com/hotel/fr/home-cassis.fr.html?aid=304142&label=gen173nr-1FCAQoggJCDXNlYXJjaF9jYXNzaXNIDVgEaE2IAQGYAQ24AQrIAQXYAQHoAQH4AQOIAgGoAgO4Atfo66gGwAIB0gIkY2E2ZDBmY2EtY2ZmNy00OThhLTk5MjEtNzc1NmM4NTU0NmIx2AIF4AIB&ucfs=1&arphpl=1&group_adults=2&req_adults=2&no_rooms=1&group_children=0&req_children=0&hpos=14&hapos=14&sr_order=popularity&srpvid=0117762b7bc80249&srepoch=1696265304&from=searchresults"
          ],
          [
           "Eden Cassis - Centre Ville 2 chambres - Wifi - Cosy",
           10,
           43.2140797,
           5.5431287,
           "Offrant une vue sur le jardin, l'Eden Cassis - Centre Ville 2 chambres - Wifi - Cosy propose un hébergement avec un balcon et une machine à café, à environ 500 mètres de la Grande Mer. Offrant une vue sur la ville et la cour intérieure, il se trouve à 600 mètres de la plage de l'Anse de Corton.\n\nDoté d'une connexion Wi-Fi gratuite, cet appartement de 2 chambres dispose d'une télévision à écran plat, d'un lave-linge et d'une cuisine avec lave-vaisselle et four. Pour plus de commodité, l'établissement peut fournir des serviettes et du linge de maison moyennant des frais supplémentaires.\n\nUne terrasse bien exposée est présente.\n\nVous séjournerez à moins de 1 km de l'Arene et à 19 km du stade Orange Vélodrome. L'aéroport de Marseille-Provence, le plus proche, est implanté à 45 km.",
           "https://www.booking.com/hotel/fr/eden-cassis-centre-ville-wifi-cosi.fr.html?aid=304142&label=gen173nr-1FCAQoggJCDXNlYXJjaF9jYXNzaXNIDVgEaE2IAQGYAQ24AQrIAQXYAQHoAQH4AQOIAgGoAgO4Atfo66gGwAIB0gIkY2E2ZDBmY2EtY2ZmNy00OThhLTk5MjEtNzc1NmM4NTU0NmIx2AIF4AIB&ucfs=1&arphpl=1&group_adults=2&req_adults=2&no_rooms=1&group_children=0&req_children=0&hpos=13&hapos=13&sr_order=popularity&srpvid=0117762b7bc80249&srepoch=1696265304&from=searchresults"
          ],
          [
           "Cassis - Le Capucine, 4pers, terrasse, parking",
           9.2,
           43.21724817,
           5.53626304,
           "Situé à Cassis, à seulement 600 mètres de la Grande Mer, le Cassis - Le Capucine, 4pers, terrasse, parking propose un hébergement avec vue sur la mer. Vous bénéficierez gratuitement d'une connexion Wi-Fi et d'un parking privé. Cet appartement climatisé possède une terrasse.\n\nCet appartement comprend une chambre ainsi qu'une cuisine équipée d'un lave-vaisselle et d'un four. Il comprend une télévision à écran plat, un coin salon et une salle de bains pourvue d'une douche à l'italienne. Les serviettes et le linge de lit sont fournis.\n\nVous séjournerez à moins de 1 km de Bestouan et à 14 minutes à pied de la plage de l'Anse de Corton. L'aéroport le plus proche, celui de Marseille Provence, est situé à 45 km.",
           "https://www.booking.com/hotel/fr/le-capucine-terrasse-parking-cassis.fr.html?aid=304142&label=gen173nr-1FCAQoggJCDXNlYXJjaF9jYXNzaXNIDVgEaE2IAQGYAQ24AQrIAQXYAQHoAQH4AQOIAgGoAgO4Atfo66gGwAIB0gIkY2E2ZDBmY2EtY2ZmNy00OThhLTk5MjEtNzc1NmM4NTU0NmIx2AIF4AIB&ucfs=1&arphpl=1&group_adults=2&req_adults=2&no_rooms=1&group_children=0&req_children=0&hpos=12&hapos=12&sr_order=popularity&srpvid=0117762b7bc80249&srepoch=1696265304&from_sustainable_property_sr=1&from=searchresults"
          ],
          [
           "Hotel Le Golfe",
           8,
           43.21443438,
           5.53529486,
           "Situé dans le port de pêche de Cassis, l'Hôtel Le Golfe vous accueille à seulement 400 mètres de la plage de sable. Il abrite un glacier et une terrasse ombragée donnant sur le port.\n\nChacune des chambres climatisées comprend une télévision à écran plat. Certaines disposent d'un balcon offrant des vues sur la mer. Toutes affichent une décoration simple et disposent d'une salle de bains privative pourvue d'articles de toilette.\n\nLe restaurant de l'hôtel Le Golfe propose une cuisine provençale, notamment des fruits de mer et des salades. Un petit-déjeuner buffet est servi tous les matins.\n\nUn marché provençal se tient dans le village chaque mercredi et vendredi matins. La gare de Cassis se trouve à 3 km et Marseille à 28 km.",
           "https://www.booking.com/hotel/fr/le-golfe-cassis.fr.html?aid=304142&label=gen173nr-1FCAQoggJCDXNlYXJjaF9jYXNzaXNIDVgEaE2IAQGYAQ24AQrIAQXYAQHoAQH4AQOIAgGoAgO4Atfo66gGwAIB0gIkY2E2ZDBmY2EtY2ZmNy00OThhLTk5MjEtNzc1NmM4NTU0NmIx2AIF4AIB&ucfs=1&arphpl=1&group_adults=2&req_adults=2&no_rooms=1&group_children=0&req_children=0&hpos=11&hapos=11&sr_order=popularity&srpvid=0117762b7bc80249&srepoch=1696265304&from=searchresults"
          ],
          [
           "Cassis Ma Vie Là",
           9.1,
           43.216905,
           5.541446,
           "Doté d'un jardin et offrant une vue sur la mer, le Cassis Ma Vie Là est situé à Cassis, à 700 mètres de la Grande Mer et à 1 km de la plage de l'Anse de Corton. Vous bénéficierez gratuitement d'une connexion Wi-Fi dans l'ensemble des locaux et d'un parking privé sur place.\n\nCet appartement climatisé comprend 2 chambres, un salon, une cuisine entièrement équipée avec lave-vaisselle et machine à café ainsi qu'une salle de bains pourvue d'une douche à l'italienne et d'un sèche-cheveux. Il dispose également d'une télévision par satellite à écran plat et d'un lecteur Blu-ray.\n\nLa région est prisée pour pratiquer la plongée avec tuba, le vélo et la randonnée.\n\nVous séjournerez à 1,2 km du Bestouan et à 19 km du stade Orange Vélodrome. L'aéroport le plus proche, celui de Marseille Provence, est situé à 45 km.",
           "https://www.booking.com/hotel/fr/cassis-ma-vie-la.fr.html?aid=304142&label=gen173nr-1FCAQoggJCDXNlYXJjaF9jYXNzaXNIDVgEaE2IAQGYAQ24AQrIAQXYAQHoAQH4AQOIAgGoAgO4Atfo66gGwAIB0gIkY2E2ZDBmY2EtY2ZmNy00OThhLTk5MjEtNzc1NmM4NTU0NmIx2AIF4AIB&ucfs=1&arphpl=1&group_adults=2&req_adults=2&no_rooms=1&group_children=0&req_children=0&hpos=10&hapos=10&sr_order=popularity&srpvid=0117762b7bc80249&srepoch=1696265304&from_sustainable_property_sr=1&from=searchresults"
          ],
          [
           "Panisse - Parking - Clim - Wifi",
           9,
           43.2177957,
           5.5358322,
           "Situé à Cassis, à seulement 700 mètres de la Grande Mer, le Panisse - Parking - Clim - Wifi propose un hébergement avec vue sur la mer. Vous bénéficierez gratuitement d'une connexion Wi-Fi et d'un parking privé. Cet appartement climatisé dispose d'un balcon.\n\nCet appartement comprend 2 chambres ainsi qu'une cuisine équipée d'un lave-vaisselle et d'un four. Il comprend une télévision à écran plat, un coin salon et une salle de bains pourvue d'une douche. Pour plus de commodité, l'établissement peut fournir des serviettes et du linge de maison moyennant des frais supplémentaires.\n\nUne terrasse bien exposée est présente.\n\nVous séjournerez à moins de 1 km de Bestouan et à 15 minutes à pied de la plage de l'Anse de Corton. L'aéroport de Marseille-Provence, le plus proche, est implanté à 45 km.",
           "https://www.booking.com/hotel/fr/panisse-parking-clim-wifi-cassis.fr.html?aid=304142&label=gen173nr-1FCAQoggJCDXNlYXJjaF9jYXNzaXNIDVgEaE2IAQGYAQ24AQrIAQXYAQHoAQH4AQOIAgGoAgO4Atfo66gGwAIB0gIkY2E2ZDBmY2EtY2ZmNy00OThhLTk5MjEtNzc1NmM4NTU0NmIx2AIF4AIB&ucfs=1&arphpl=1&group_adults=2&req_adults=2&no_rooms=1&group_children=0&req_children=0&hpos=9&hapos=9&sr_order=popularity&srpvid=0117762b7bc80249&srepoch=1696265304&from=searchresults"
          ],
          [
           "MISTRAL Gagnant",
           8.2,
           43.21537,
           5.53719,
           "Situé à 5 km du cap Canaille à Cassis, le MISTRAL Gagnant propose des hébergements dotés de la climatisation et d'une connexion Wi-Fi gratuite.\n\nTous les logements comprennent une cuisine entièrement équipée, parfaite pour préparer vos repas. Un four, une machine à café et une bouilloire sont par ailleurs fournis. Les serviettes et le linge de lit ne sont pas fournis (en supplément).\n\nL’aéroport de Marseille-Provence se trouve à 50 km.",
           "https://www.booking.com/hotel/fr/mistral-cassis.fr.html?aid=304142&label=gen173nr-1FCAQoggJCDXNlYXJjaF9jYXNzaXNIDVgEaE2IAQGYAQ24AQrIAQXYAQHoAQH4AQOIAgGoAgO4Atfo66gGwAIB0gIkY2E2ZDBmY2EtY2ZmNy00OThhLTk5MjEtNzc1NmM4NTU0NmIx2AIF4AIB&ucfs=1&arphpl=1&group_adults=2&req_adults=2&no_rooms=1&group_children=0&req_children=0&hpos=8&hapos=8&sr_order=popularity&srpvid=0117762b7bc80249&srepoch=1696265304&from=searchresults"
          ],
          [
           "So'Conciergerie -Studio situé dans le centre ville",
           8.3,
           43.213898,
           5.5391603,
           "Le So'Conciergerie -Studio situé dans le centre ville est un hébergement en bord de mer situé à Cassis, à 300 mètres de la Grande Mer et à 700 mètres de la plage de l'Anse de Corton. Offrant une vue sur la ville, il se trouve à 20 km de la station de métro Rond-Point du Prado et du parc des expositions et centre de conventions Marseille Chanot.\n\nDoté d'une connexion Wi-Fi gratuite, cet appartement 1 chambre dispose d'une télévision à écran plat, d'un lave-linge et d'une cuisine avec lave-vaisselle et four micro-ondes. Les serviettes et le linge de lit sont fournis.\n\nVous séjournerez à moins de 1 km de Bestouan et à 20 km du stade Orange Vélodrome. L'aéroport de Marseille-Provence, le plus proche, est implanté à 46 km.",
           "https://www.booking.com/hotel/fr/so-conciergerie-studio-situe-dans-le-centre-ville.fr.html?aid=304142&label=gen173nr-1FCAQoggJCDXNlYXJjaF9jYXNzaXNIDVgEaE2IAQGYAQ24AQrIAQXYAQHoAQH4AQOIAgGoAgO4Atfo66gGwAIB0gIkY2E2ZDBmY2EtY2ZmNy00OThhLTk5MjEtNzc1NmM4NTU0NmIx2AIF4AIB&ucfs=1&arphpl=1&group_adults=2&req_adults=2&no_rooms=1&group_children=0&req_children=0&hpos=7&hapos=7&sr_order=popularity&srpvid=0117762b7bc80249&srepoch=1696265304&from=searchresults"
          ],
          [
           "Best Western Hotel & SPA Coeur De Cassis",
           8.4,
           43.21457326,
           5.54014698,
           "Le Best Western Hotel & SPA Coeur De Cassis vous accueille dans le centre-ville de Cassis, à 200 mètres du port et 300 mètres de la plage. Cet établissement propose des hébergements offrant une vue sur le jardin, la ville et son château ainsi que sur le mythique cap Canaille. Après une belle journée à visiter le Parc National des Calanques, vous pourrez rester au calme à l’hôtel et vous détendre au spa, où vous trouverez un hammam, un sauna, une douche sensorielle et salle avec un mur de sel, où vous dégusterez des tisanes. Le toit-terrasse propose également un cadre idéal pour se détendre.\nDoté d'un ascenseur, cet hôtel est entièrement équipé pour accueillir les personnes à mobilité réduite. Toutes les chambres disposent de la climatisation, d'une connexion Wi-Fi gratuite, d’une télévision par satellite et d'un minibar. Vous pourrez profiter d’une salle de bains privative pourvue d’articles de toilette et d’un sèche-cheveux. Les suites et chambres supérieures bénéficient d'une machine à café Nespresso\nLe petit-déjeuner buffet est servi tous les matins dans la salle de à manger ou sur sa terrasse.\nLe personnel de la réception se fera un plaisir de vous donner des conseils pratiques pendant votre séjour, pour le rendre aussi agréable que possible.",
           "https://www.booking.com/hotel/fr/du-grand-jardin.fr.html?aid=304142&label=gen173nr-1FCAQoggJCDXNlYXJjaF9jYXNzaXNIDVgEaE2IAQGYAQ24AQrIAQXYAQHoAQH4AQOIAgGoAgO4Atfo66gGwAIB0gIkY2E2ZDBmY2EtY2ZmNy00OThhLTk5MjEtNzc1NmM4NTU0NmIx2AIF4AIB&ucfs=1&arphpl=1&group_adults=2&req_adults=2&no_rooms=1&group_children=0&req_children=0&hpos=6&hapos=6&sr_order=popularity&srpvid=0117762b7bc80249&srepoch=1696265304&from=searchresults"
          ],
          [
           "Studio Calme aux terrasses de Cassis",
           8.4,
           43.2265539,
           5.5368932,
           "Offrant une vue sur le jardin, le Studio Calme aux terrasses de Cassis est situé à Cassis, à 2,8 km de la Grande Mer et à 18 km du stade Orange Vélodrome. Vous bénéficierez gratuitement d'un parking privé et d'une connexion Wi-Fi.\n\nCet appartement climatisé comprend un coin salon, une cuisine avec un micro-ondes et une télévision par satellite à écran plat. Les serviettes et le linge de lit sont fournis.\n\nVous séjournerez à 19 km de la station de métro Rond-Point du Prado et du parc des expositions Marseille Chanot. L'aéroport de Marseille-Provence, le plus proche, est implanté à 44 km.",
           "https://www.booking.com/hotel/fr/appart-calme-les-terrasses-68.fr.html?aid=304142&label=gen173nr-1FCAQoggJCDXNlYXJjaF9jYXNzaXNIDVgEaE2IAQGYAQ24AQrIAQXYAQHoAQH4AQOIAgGoAgO4Atfo66gGwAIB0gIkY2E2ZDBmY2EtY2ZmNy00OThhLTk5MjEtNzc1NmM4NTU0NmIx2AIF4AIB&ucfs=1&arphpl=1&group_adults=2&req_adults=2&no_rooms=1&group_children=0&req_children=0&hpos=5&hapos=5&sr_order=popularity&srpvid=0117762b7bc80249&srepoch=1696265304&from=searchresults"
          ],
          [
           "Appart Bianca T2 - Terrasse - Parking - Calme - 1mn de la mer",
           9.1,
           43.207747,
           5.5221918,
           "L'Appart Bianca T2 - Terrasse - Parking - Calme - 1mn de la mer est un hébergement climatisé situé à Cassis, à 1 km de Bestouan et à 2,1 km de la plage de Port Pin. Vous bénéficierez gratuitement d'une connexion Wi-Fi et d'un parking privé.\n\nOffrant une vue sur la cour intérieure, cet appartement dispose d'une terrasse, d'une chambre, d'un salon, d'une télévision à écran plat, d'une cuisine équipée avec un lave-vaisselle et un four, ainsi que d'une salle de bains pourvue d'une douche. Les serviettes et le linge de lit sont fournis.\n\nVous pourrez faire des randonnées à pied dans les environs.\n\nVous séjournerez à 2,2 km de la Grande Mer et à 21 km du stade Orange Vélodrome. L'aéroport de Marseille-Provence, le plus proche, est implanté à 47 km.",
           "https://www.booking.com/hotel/fr/appart-bianca-t2-terrasse-parking-calme-1mn-de-la-mer.fr.html?aid=304142&label=gen173nr-1FCAQoggJCDXNlYXJjaF9jYXNzaXNIDVgEaE2IAQGYAQ24AQrIAQXYAQHoAQH4AQOIAgGoAgO4Atfo66gGwAIB0gIkY2E2ZDBmY2EtY2ZmNy00OThhLTk5MjEtNzc1NmM4NTU0NmIx2AIF4AIB&ucfs=1&arphpl=1&group_adults=2&req_adults=2&no_rooms=1&group_children=0&req_children=0&hpos=4&hapos=4&sr_order=popularity&srpvid=0117762b7bc80249&srepoch=1696265304&from=searchresults"
          ],
          [
           "HPC Suites",
           9.2,
           43.21644024,
           5.54174572,
           "Doté d'une piscine extérieure commune avec terrasse et vue sur la mer, le HPC Suites est situé dans un parc de 4 000 m2 dans le centre de Cassis. Marseille se trouve à 16 km et la plage la plus proche est accessible en 10 minutes à pied. Un parking privé est disponible gratuitement sur place.\n\nL'établissement a été entièrement rénové en 2019. Dotés d'une terrasse, tous les logements comprennent un coin repas et un coin salon avec une télévision à écran plat. La cuisine est équipée d'un four et d'un micro-ondes. Un grille-pain, un réfrigérateur, des plaques de cuisson et une machine à café sont également fournis. Une connexion Wi-Fi est disponible gratuitement dans l'ensemble de l'établissement. Les serviettes et le linge de lit sont fournis.\n\nUn parking privé sécurisé est disponible gratuitement.\n\nLe port se trouve à 8 minutes à pied et vous trouverez de nombreux restaurants et un marché provençal traditionnel dans le quartier.\n\nVous pourrez jouer au ping-pong sur place. La région est prisée des amateurs de plongée sous-marine et de vélo. Aix-en-Provence se trouve à 35 km du HPC Suites. L'aéroport de Marseille-Provence, le plus proche, est implanté à 36 km.",
           "https://www.booking.com/hotel/fr/hpc-suites.fr.html?aid=304142&label=gen173nr-1FCAQoggJCDXNlYXJjaF9jYXNzaXNIDVgEaE2IAQGYAQ24AQrIAQXYAQHoAQH4AQOIAgGoAgO4Atfo66gGwAIB0gIkY2E2ZDBmY2EtY2ZmNy00OThhLTk5MjEtNzc1NmM4NTU0NmIx2AIF4AIB&ucfs=1&arphpl=1&group_adults=2&req_adults=2&no_rooms=1&group_children=0&req_children=0&hpos=3&hapos=3&sr_order=popularity&srpvid=0117762b7bc80249&srepoch=1696265304&from=searchresults"
          ],
          [
           "Le repaire de la Vierge bohème vue mer",
           10,
           43.2148195,
           5.5349404,
           "Situé à Cassis, à 500 mètres du Bestouan et à 600 mètres de la Grande Mer, l'établissement Le repaire de la Vierge bohème vue mer propose la climatisation. Vous pourrez pratiquer diverses activités dans les environs, telles que la plongée avec tuba, la pêche et la randonnée.\n\nOffrant une vue sur la mer, cet appartement comprend une terrasse, une chambre, un salon, une télévision à écran plat, une cuisine équipée avec un lave-vaisselle et un four, ainsi qu'une salle de bains pourvue d'une douche à l'italienne. Pour plus de commodité, l'établissement peut fournir des serviettes et du linge de maison moyennant des frais supplémentaires.\n\nSi vous souhaitez découvrir la région, des visites à pied et à vélo sont possibles dans les environs.\n\nVous séjournerez à 1,1 km de la plage de l'Anse de Corton et à 20 km du stade Orange Vélodrome. L'aéroport de Marseille-Provence, le plus proche, est implanté à 45 km.",
           "https://www.booking.com/hotel/fr/le-repaire-de-la-vierge-boheme.fr.html?aid=304142&label=gen173nr-1FCAQoggJCDXNlYXJjaF9jYXNzaXNIDVgEaE2IAQGYAQ24AQrIAQXYAQHoAQH4AQOIAgGoAgO4Atfo66gGwAIB0gIkY2E2ZDBmY2EtY2ZmNy00OThhLTk5MjEtNzc1NmM4NTU0NmIx2AIF4AIB&ucfs=1&arphpl=1&group_adults=2&req_adults=2&no_rooms=1&group_children=0&req_children=0&hpos=2&hapos=2&sr_order=popularity&srpvid=0117762b7bc80249&srepoch=1696265304&from=searchresults"
          ],
          [
           "Chambre d'hôtes Clos du Petit Jésus",
           9.6,
           43.21524569,
           5.54466784,
           "Situé à Cassis, à seulement 5 minutes à pied de la plage, le Clos du Petit Jésus propose une piscine extérieure, une terrasse privée et un espace de bronzage. Les calanques de Cassis sont accessibles en 5 minutes en voiture.\n\nCette chambre double climatisée dispose d'une terrasse avec vue sur la piscine et la campagne, d'une télévision à écran plat, d'un lecteur DVD, d'un coffre-fort et d'une armoire. La salle de bains privative est pourvue d'un sèche-cheveux et d'articles de toilette gratuits.\n\nUn petit-déjeuner continental composé de pain frais, de viennoiseries, de jus de fruits, de yaourts, de confiture, de fruits frais et de boissons chaudes est servi chaque matin. Il est servi sur la terrasse ou dans votre chambre.\n\nDes massages et un service de garde d'enfants sont disponibles sur demande. Marseille se trouve à seulement 20 minutes de route et La Ciotat est à 15 minutes en voiture.",
           "https://www.booking.com/hotel/fr/clos-du-petit-ja-c-sus.fr.html?aid=304142&label=gen173nr-1FCAQoggJCDXNlYXJjaF9jYXNzaXNIDVgEaE2IAQGYAQ24AQrIAQXYAQHoAQH4AQOIAgGoAgO4Atfo66gGwAIB0gIkY2E2ZDBmY2EtY2ZmNy00OThhLTk5MjEtNzc1NmM4NTU0NmIx2AIF4AIB&ucfs=1&arphpl=1&group_adults=2&req_adults=2&no_rooms=1&group_children=0&req_children=0&hpos=1&hapos=1&sr_order=popularity&srpvid=0117762b7bc80249&srepoch=1696265304&from=searchresults"
          ],
          [
           "Hôtel Le Rupella",
           7.1,
           46.15817494,
           -1.15107,
           "Situé au cœur de La Rochelle, l'Hôtel Le Rupella propose des chambres avec salle de bains privative, connexion Wi-Fi gratuite et bureau, à 10 minutes à pied de la gare et à proximité du port.\n\nLes chambres de l'Hôtel Le Rupella comprennent une télévision à écran plat ainsi qu'une salle de bains privative pourvue d'une baignoire ou d'une douche et d'articles de toilette gratuits. Certaines sont en outre dotées d'un balcon.\n\nOffrant une vue panoramique sur le port, le restaurant de l'hôtel sert une cuisine française traditionnelle. Vous aurez également la possibilité de déguster un verre au bar sur place ou de savourer votre petit-déjeuner en chambre.\n\nL'hôtel possède une réception ouverte 24h/24. Enfin, il se trouve à 850 mètres de l'aquarium de la ville et à 5 minutes de route du parc des expositions de La Rochelle.",
           "https://www.booking.com/hotel/fr/le-rupella.fr.html?aid=304142&label=gen173nr-1FCAQoggJCEnNlYXJjaF9sYSByb2NoZWxsZUgNWARoTYgBAZgBDbgBCsgBBdgBAegBAfgBA4gCAagCA7gCpP7rqAbAAgHSAiQ3YzFjMTljZi05MDU0LTRiNjgtYWJhMy05NDY5Y2Q3NWFkNmHYAgXgAgE&ucfs=1&arphpl=1&group_adults=2&req_adults=2&no_rooms=1&group_children=0&req_children=0&hpos=19&hapos=19&sr_order=popularity&srpvid=9b817b92f4920376&srepoch=1696268070&from=searchresults"
          ],
          [
           "Hôtel Les Brises",
           8.5,
           46.15345807,
           -1.17438644,
           "Situé en bord de mer, à seulement 2 km du vieux port de La Rochelle, l’Hôtel Les Brises offre une vue panoramique sur la mer et les îles voisines. Vous bénéficierez gratuitement d’une connexion Wi-Fi.\nLes chambres du Brises comportent une télévision par satellite. Les salles de bains privatives sont pourvues d'articles de toilette de luxe.\n\nVous pourrez déguster une boisson au bar ou vous détendre sur la grande terrasse en bord de mer offrant une vue panoramique sur la mer. L’établissement est équipé d’un ascenseur.\n\nL’hôtel Les Brises est implanté à 2 km du centre de La Rochelle et à côté du parc Franck Delmas.",
           "https://www.booking.com/hotel/fr/hotellesbrises.fr.html?aid=304142&label=gen173nr-1FCAQoggJCEnNlYXJjaF9sYSByb2NoZWxsZUgNWARoTYgBAZgBDbgBCsgBBdgBAegBAfgBA4gCAagCA7gCpP7rqAbAAgHSAiQ3YzFjMTljZi05MDU0LTRiNjgtYWJhMy05NDY5Y2Q3NWFkNmHYAgXgAgE&ucfs=1&arphpl=1&group_adults=2&req_adults=2&no_rooms=1&group_children=0&req_children=0&hpos=18&hapos=18&sr_order=popularity&srpvid=9b817b92f4920376&srepoch=1696268070&from=searchresults"
          ],
          [
           "Résidence New Rochelle",
           7.6,
           46.14068996,
           -1.16616011,
           "La Résidence New Rochelle est située près du port de plaisance de La Rochelle. Elle propose une piscine extérieure et un jardin. La plage se trouve à seulement 200 mètres.\n\nTous les studios de la Résidence disposent d'une salle de bains privative avec baignoire ou douche. Chacun comprend une cuisine équipée avec réfrigérateur et micro-ondes. Une connexion Wi-Fi gratuite est également disponible. Attribués sous réserve de disponibilité, certains studios offrent une vue sur le port de plaisance ou la piscine.\n\nL'établissement possède également une terrasse. Par ailleurs, vous trouverez des restaurants ouverts pour le déjeuner et le dîner dans les environs.\n\nLe centre de La Rochelle est accessible en 10 minutes en bus. Enfin, vous pourrez profiter d'un parking privé à proximité et vous rejoindrez l'autoroute N11 en 10 minutes de voiture.",
           "https://www.booking.com/hotel/fr/residence-du-port.fr.html?aid=304142&label=gen173nr-1FCAQoggJCEnNlYXJjaF9sYSByb2NoZWxsZUgNWARoTYgBAZgBDbgBCsgBBdgBAegBAfgBA4gCAagCA7gCpP7rqAbAAgHSAiQ3YzFjMTljZi05MDU0LTRiNjgtYWJhMy05NDY5Y2Q3NWFkNmHYAgXgAgE&ucfs=1&arphpl=1&group_adults=2&req_adults=2&no_rooms=1&group_children=0&req_children=0&hpos=17&hapos=17&sr_order=popularity&srpvid=9b817b92f4920376&srepoch=1696268070&from=searchresults"
          ],
          [
           "ATHOME RESIDENCE ET SPA",
           8.2,
           46.145995,
           -1.152398,
           "Situé à La Rochelle, en Nouvelle-Aquitaine, à proximité des plages du Roux et des Minimes, l'ATHOME RESIDENCE ET SPA propose des hébergements avec une connexion Wi-Fi et un parking privé gratuits, ainsi qu'un accès à un spa.\n\nTous les logements comprennent une télévision par satellite à écran plat ainsi qu'une kitchenette entièrement équipée avec une table à manger. Leur salle de bains privative est pourvue d'une douche, d'un sèche-cheveux et d'articles de toilette gratuits. Un micro-ondes, un réfrigérateur, des plaques de cuisson, une machine à café et une bouilloire sont également disponibles.\n\nUn petit-déjeuner continental, végétarien ou végétalien est servi chaque matin.\n\nCet appart'hôtel possède une salle de sport.\n\nPar beau temps, vous pourrez profiter d'un jardin et d'une terrasse bien exposée.\n\nVous séjournerez à proximité de l'Espace Encan, de la gare et du parc des expositions de La Rochelle. L'aéroport de La Rochelle-Île de Ré, le plus proche, est à 8 km.",
           "https://www.booking.com/hotel/fr/athome-residence-et-spa.fr.html?aid=304142&label=gen173nr-1FCAQoggJCEnNlYXJjaF9sYSByb2NoZWxsZUgNWARoTYgBAZgBDbgBCsgBBdgBAegBAfgBA4gCAagCA7gCpP7rqAbAAgHSAiQ3YzFjMTljZi05MDU0LTRiNjgtYWJhMy05NDY5Y2Q3NWFkNmHYAgXgAgE&ucfs=1&arphpl=1&group_adults=2&req_adults=2&no_rooms=1&group_children=0&req_children=0&hpos=16&hapos=16&sr_order=popularity&srpvid=9b817b92f4920376&srepoch=1696268070&from_sustainable_property_sr=1&from=searchresults"
          ],
          [
           "Hôtel La Fabrique",
           8.4,
           46.156155,
           -1.148583,
           "L'Hôtel La Fabrique vous accueille à La Rochelle et vous propose un bar sur place.\n\nLes chambres disposent d'une télévision à écran plat. L'Hôtel La Fabrique est muni d'une connexion Wi-Fi gratuite dans l'ensemble de ses locaux.\n\nLa réception est ouverte 24h/24. Vous trouverez un parking public payant à proximité.\n\nL'espace Encan se situe à 600 mètres de l'Hôtel La Fabrique, et le parc des expositions de La Rochelle vous attend à 700 mètres. L'aéroport le plus proche est celui de La Rochelle-Île de Ré, distant de 4 km.",
           "https://www.booking.com/hotel/fr/la-fabrique-la-rochelle.fr.html?aid=304142&label=gen173nr-1FCAQoggJCEnNlYXJjaF9sYSByb2NoZWxsZUgNWARoTYgBAZgBDbgBCsgBBdgBAegBAfgBA4gCAagCA7gCpP7rqAbAAgHSAiQ3YzFjMTljZi05MDU0LTRiNjgtYWJhMy05NDY5Y2Q3NWFkNmHYAgXgAgE&ucfs=1&arphpl=1&group_adults=2&req_adults=2&no_rooms=1&group_children=0&req_children=0&hpos=15&hapos=15&sr_order=popularity&srpvid=9b817b92f4920376&srepoch=1696268070&from_sustainable_property_sr=1&from=searchresults"
          ],
          [
           "Hôtel François 1er",
           8.1,
           46.16091143,
           -1.15203694,
           "Situé dans le cœur historique de La Rochelle, l’Hôtel François 1er vous accueille dans un bâtiment datant du XVIe siècle, à seulement 5 minutes à pied du Vieux-Port et du marché local. L’Hôtel François 1er propose une réception ouverte 24h/24 et une connexion Wi-Fi gratuite illimitée.\n\nTous les logements spacieux de l’Hôtel François 1er présentent un décor confortable inspiré par le rock, le cinéma, la peinture, le graffiti ou la photographie. Une télévision et une salle de bains privative sont disponibles.\n\nSur place, vous profiterez d’un service d’étage, d’un bar-salon et d’un espace détente. Le parking sécurisé de l’établissement, situé dans le centre-ville, est accessible sur demande et moyennant un supplément.\n\nVous séjournerez à quelques pas de plusieurs magasins, restaurants et bars animés. L’Hôtel François 1er se situe aussi à proximité de lieux d’intérêt comme l’aquarium, le musée d’histoire naturelle, ainsi que les parcs et plages de la ville.\n\nLa gare de La Rochelle est idéalement située à 1,9 km de l'Hôtel François 1er.",
           "https://www.booking.com/hotel/fr/hotelfrancoiser.fr.html?aid=304142&label=gen173nr-1FCAQoggJCEnNlYXJjaF9sYSByb2NoZWxsZUgNWARoTYgBAZgBDbgBCsgBBdgBAegBAfgBA4gCAagCA7gCpP7rqAbAAgHSAiQ3YzFjMTljZi05MDU0LTRiNjgtYWJhMy05NDY5Y2Q3NWFkNmHYAgXgAgE&ucfs=1&arphpl=1&group_adults=2&req_adults=2&no_rooms=1&group_children=0&req_children=0&hpos=14&hapos=14&sr_order=popularity&srpvid=9b817b92f4920376&srepoch=1696268070&from_sustainable_property_sr=1&from=searchresults"
          ],
          [
           "Maisons du Monde Hôtel & Suites - La Rochelle Vieux Port",
           8.3,
           46.15619304,
           -1.15443483,
           "Maisons du Monde Hôtel & Suites - La Rochelle Vieux Port est situé au niveau du port de La Rochelle. Vous bénéficierez gratuitement d'une connexion Wi-Fi gratuite dans l’ensemble des locaux.\n\nLa Maisons du Monde Hôtel & Suites - La Rochelle Vieux Port est implantée à proximité de nombreux restaurants et à quelques minutes à pied du quartier historique, de la plage et des attractions de La Rochelle. Vous aurez facilement accès à l’île de Ré et à l’île d’Oléron.\n\nLes chambres confortables comportent la climatisation, une salle de bains privative et une télévision à écran plat recevant les chaînes Canal+ et Eurosport.\n\nLe petit-déjeuner est servi de 7h00 à 11h00 le samedi et le dimanche et de 6h00 à 10h30 du lundi au vendredi.\n\nDes conditions différentes et des suppléments peuvent s’appliquer en cas de réservation de plus de 5 hébergements.",
           "https://www.booking.com/hotel/fr/inter-saint-jean-d-acre.fr.html?aid=304142&label=gen173nr-1FCAQoggJCEnNlYXJjaF9sYSByb2NoZWxsZUgNWARoTYgBAZgBDbgBCsgBBdgBAegBAfgBA4gCAagCA7gCpP7rqAbAAgHSAiQ3YzFjMTljZi05MDU0LTRiNjgtYWJhMy05NDY5Y2Q3NWFkNmHYAgXgAgE&ucfs=1&arphpl=1&group_adults=2&req_adults=2&no_rooms=1&group_children=0&req_children=0&hpos=13&hapos=13&sr_order=popularity&srpvid=9b817b92f4920376&srepoch=1696268070&from_sustainable_property_sr=1&from=searchresults"
          ],
          [
           "Hotel de Paris",
           7.8,
           46.16196911,
           -1.1511746,
           "L’hôtel de Paris est placé au centre-ville de La Rochelle, dans une zone piétonnière, entre la Place de Verdun et la Place du Marché. \n\nÀ 5 minutes du vieux port et des parcs, cet hôtel vous accueille dans un cadre traditionnel et relaxant. L'hôtel de Paris présente des chambres confortables et une cour intérieure avec jardin pour un séjour agréable. \n\nLes chambres confortables et paisibles peuvent accueillir de une à quatre personnes. Elles disposent d'une salle de bains privative moderne, d'une télévision et d'un accès sans fil (Wi-Fi) à Internet.\n\nDe nombreux restaurants à proximité de l'hôtel vous proposent de découvrir la cuisine régionale traditionnelle.",
           "https://www.booking.com/hotel/fr/de-paris-la-rochelle.fr.html?aid=304142&label=gen173nr-1FCAQoggJCEnNlYXJjaF9sYSByb2NoZWxsZUgNWARoTYgBAZgBDbgBCsgBBdgBAegBAfgBA4gCAagCA7gCpP7rqAbAAgHSAiQ3YzFjMTljZi05MDU0LTRiNjgtYWJhMy05NDY5Y2Q3NWFkNmHYAgXgAgE&ucfs=1&arphpl=1&group_adults=2&req_adults=2&no_rooms=1&group_children=0&req_children=0&hpos=12&hapos=12&sr_order=popularity&srpvid=9b817b92f4920376&srepoch=1696268070&from=searchresults"
          ],
          [
           "Hôtel de l'Océan",
           8.3,
           46.15701983,
           -1.15412772,
           "Construit en 1646, l'Hôtel de l'Océan se trouve dans le quartier du Vieux Port, au cœur de La Rochelle. Il propose des chambres insonorisées avec climatisation et connexion Wi-Fi gratuite.\n\nCertaines chambres offrent une vue sur le golfe de Gascogne et le port.\n\nUn petit-déjeuner continental est servi sur la terrasse, en chambre ou dans la salle prévue à cet effet.\n\nL'Hôtel de L'Océan est situé à 2 minutes à pied des principaux sites touristiques de La Rochelle. L'Aquarium La Rochelle est accessible en 15 minutes de marche. Vous pourrez rejoindre l'île d'Aix, Fort Boyard ainsi que les îles de Ré et d'Oléron grâce aux navettes en bateau disponibles en face de l'hôtel.",
           "https://www.booking.com/hotel/fr/de-l-ocean-la-rochelle.fr.html?aid=304142&label=gen173nr-1FCAQoggJCEnNlYXJjaF9sYSByb2NoZWxsZUgNWARoTYgBAZgBDbgBCsgBBdgBAegBAfgBA4gCAagCA7gCpP7rqAbAAgHSAiQ3YzFjMTljZi05MDU0LTRiNjgtYWJhMy05NDY5Y2Q3NWFkNmHYAgXgAgE&ucfs=1&arphpl=1&group_adults=2&req_adults=2&no_rooms=1&group_children=0&req_children=0&hpos=11&hapos=11&sr_order=popularity&srpvid=9b817b92f4920376&srepoch=1696268070&from=searchresults"
          ],
          [
           "Hotel de La Paix",
           7.7,
           46.16193939,
           -1.15085542,
           "Au cœur de la ville historique, à 2 pas du Vieux Port de La Rochelle, l'hôtel vous accueille dans une authentique maison d’armateur du XVIIIème siècle.\r\n\r\nEntre le marché et la place de Verdun, l’Hotel De La Paix vous propose 19 chambres tout confort, de 1 à 5 personnes, et un accueil chaleureux et convivial que vous soyez en déplacement professionnel ou en vacance avec votre famille. \r\n\r\nDe nouveaux services vous sont également proposés comme la location de salles de réunion et  l’accès Wi-Fi dans toutes les chambres. Sur réservation, en table d’hôtes ou en demi-pension, la cuisine du chef ne vous laissera pas indifférents.",
           "https://www.booking.com/hotel/fr/de-la-paix-la-rochelle.fr.html?aid=304142&label=gen173nr-1FCAQoggJCEnNlYXJjaF9sYSByb2NoZWxsZUgNWARoTYgBAZgBDbgBCsgBBdgBAegBAfgBA4gCAagCA7gCpP7rqAbAAgHSAiQ3YzFjMTljZi05MDU0LTRiNjgtYWJhMy05NDY5Y2Q3NWFkNmHYAgXgAgE&ucfs=1&arphpl=1&group_adults=2&req_adults=2&no_rooms=1&group_children=0&req_children=0&hpos=10&hapos=10&sr_order=popularity&srpvid=9b817b92f4920376&srepoch=1696268070&from_sustainable_property_sr=1&from=searchresults"
          ],
          [
           "Appartement aux Minimes Magnifique Vue Mer au pied de la Plage 50m2-2ch.",
           null,
           46.13976094,
           -1.17146016,
           "Offering sea views, Appartement aux Minimes Magnifique Vue Mer au pied de la Plage 50m2-2ch. Is an accommodation located in La Rochelle, a few steps from Minimes and 1.4 km from Plage Du Roux. This beachfront property offers access to a balcony and free private parking.\n\nThe apartment features a terrace, 2 bedrooms, a living room and a well-equipped kitchen with a dishwasher and a fridge. Towels and bed linen are provided in the apartment.\n\nPopular points of interest near the apartment include The Minimes Marina, Lighthouse at the End of the World and La Rochelle University. The nearest airport is La Rochelle - Ile de Re Airport, 12 km from Appartement aux Minimes Magnifique Vue Mer au pied de la Plage 50m2-2ch..",
           "https://www.booking.com/hotel/fr/appartement-aux-minimes-magnifique-vue-mer-au-pied-de-la-plage-50m2-2ch.fr.html?aid=304142&label=gen173nr-1FCAQoggJCEnNlYXJjaF9sYSByb2NoZWxsZUgNWARoTYgBAZgBDbgBCsgBBdgBAegBAfgBA4gCAagCA7gCpP7rqAbAAgHSAiQ3YzFjMTljZi05MDU0LTRiNjgtYWJhMy05NDY5Y2Q3NWFkNmHYAgXgAgE&ucfs=1&arphpl=1&group_adults=2&req_adults=2&no_rooms=1&group_children=0&req_children=0&hpos=9&hapos=9&sr_order=popularity&srpvid=9b817b92f4920376&srepoch=1696268070&from=searchresults"
          ],
          [
           "Central Park Hôtel & Spa",
           8.8,
           46.15891333,
           -1.16082335,
           "Le Central Park Hôtel & Spa est un établissement 4 étoiles situé à La Rochelle, à côté du Vieux-Port, à quelques minutes à pied de la plage et à 10 minutes de marche du cœur de la ville. Vous pourrez profiter du centre de bien-être avec salle de sport, bains à remous, sauna, hammam, massages et soins de beauté moyennant des frais supplémentaires.\n\nDans cet hôtel moderne et cependant écologique, toutes les chambres possèdent une salle de bains privative avec articles de toilette gratuits. Les suites comprennent un coin salon propice à la détente et certaines bénéficient d’une terrasse avec bain à remous. Chacune des chambres est équipée d’une télévision par satellite à écran plat.\n\nUn petit-déjeuner buffet est servi tous les matins. Le petit-déjeuner se compose de produits locaux et biologiques. Vous séjournerez dans un quartier résidentiel, à seulement quelques pas de boutiques et de restaurants.\n\nLa réception est ouverte 24h/24 et vous pourrez profiter d’un salon commun.\n\nLe Central Park Hôtel & Spa se trouve à respectivement 600 mètres et 1,7 km de la Grosse-Horloge et du parc des expositions de La Rochelle. L’aéroport de La Rochelle-Île de Ré, le plus proche, est accessible à 3 km.",
           "https://www.booking.com/hotel/fr/central-park-amp-spa.fr.html?aid=304142&label=gen173nr-1FCAQoggJCEnNlYXJjaF9sYSByb2NoZWxsZUgNWARoTYgBAZgBDbgBCsgBBdgBAegBAfgBA4gCAagCA7gCpP7rqAbAAgHSAiQ3YzFjMTljZi05MDU0LTRiNjgtYWJhMy05NDY5Y2Q3NWFkNmHYAgXgAgE&ucfs=1&arphpl=1&group_adults=2&req_adults=2&no_rooms=1&group_children=0&req_children=0&hpos=8&hapos=8&sr_order=popularity&srpvid=9b817b92f4920376&srepoch=1696268070&from_sustainable_property_sr=1&from=searchresults"
          ],
          [
           "Hôtel La Monnaie Art & Spa",
           8.7,
           46.1563008,
           -1.15810812,
           "Idéalement situé dans le quartier historique de La Rochelle, l'Hôtel De La Monnaie Art & Spa est aménagé dans un édifice datant du XVIIe siècle qui surplombe le Vieux-Port. Orné d’œuvres d'art, il propose une terrasse et un centre de bien-être.\n\nOffrant une vue sur la cour intérieure ou la vieille ville entourée de fortifications, toutes les chambres de l'Hôtel De La Monnaie disposent de la climatisation, d'une télévision, d'une connexion Wi-Fi gratuite, d'un plateau/bouilloire et d'une salle de bains privative.\n\nLors de votre séjour, vous pourrez prendre un verre au bar et déguster votre petit-déjeuner dans le charmant salon, dans la cour bien exposée ou dans l'intimité de votre chambre.\n\nL'emplacement central de l'hôtel De La Monnaie vous permettra de flâner dans les rues piétonnes et de découvrir les nombreux restaurants locaux, ainsi que le marché de produits régionaux à proximité. Enfin, vous bénéficierez d'un parking privé moyennant des frais supplémentaires.",
           "https://www.booking.com/hotel/fr/de-la-monnaie.fr.html?aid=304142&label=gen173nr-1FCAQoggJCEnNlYXJjaF9sYSByb2NoZWxsZUgNWARoTYgBAZgBDbgBCsgBBdgBAegBAfgBA4gCAagCA7gCpP7rqAbAAgHSAiQ3YzFjMTljZi05MDU0LTRiNjgtYWJhMy05NDY5Y2Q3NWFkNmHYAgXgAgE&ucfs=1&arphpl=1&group_adults=2&req_adults=2&no_rooms=1&group_children=0&req_children=0&hpos=7&hapos=7&sr_order=popularity&srpvid=9b817b92f4920376&srepoch=1696268070&from_sustainable_property_sr=1&from=searchresults"
          ],
          [
           "Résidence Pierre & Vacances Centre",
           7.3,
           46.15576943,
           -1.14639223,
           "La Résidence Pierre & Vacances Centre vous accueille à La Rochelle, à 5 minutes de marche du vieux port et à 300 mètres de la gare TGV. Elle possède une terrasse et une piscine intérieure chauffée.\n\nLes studios du Pierre & Vacances Centre disposent d'un coin salon et d'une télévision à écran plat. Chaque studio comprend une kitchenette équipée d'un lave-vaisselle, d'un micro-ondes et d'une cafetière électrique.\n\nLa résidence est desservie par un ascenseur et accessible aux personnes à mobilité réduite.\n\nLa Residence Pierre & Vacances Centre bénéficie d’un emplacement idéal pour partir à la découverte de La Rochelle. Vous pourrez également faire une excursion en bateau vers l’île de Ré et le fort Boyard. La plage est à seulement 15 minutes de marche de l’hôtel. Vous pourrez profiter d’un parking sur réservation, sous réserve de disponibilité et moyennant des frais supplémentaires.\n\nVeuillez noter que la piscine est ouverte tous les jours de 9h00 à 19h00.",
           "https://www.booking.com/hotel/fr/pierre-vacances-centre.fr.html?aid=304142&label=gen173nr-1FCAQoggJCEnNlYXJjaF9sYSByb2NoZWxsZUgNWARoTYgBAZgBDbgBCsgBBdgBAegBAfgBA4gCAagCA7gCpP7rqAbAAgHSAiQ3YzFjMTljZi05MDU0LTRiNjgtYWJhMy05NDY5Y2Q3NWFkNmHYAgXgAgE&ucfs=1&arphpl=1&group_adults=2&req_adults=2&no_rooms=1&group_children=0&req_children=0&hpos=6&hapos=6&sr_order=popularity&srpvid=9b817b92f4920376&srepoch=1696268070&from_sustainable_property_sr=1&from=searchresults"
          ],
          [
           "Hôtel Les Gens de Mer La Rochelle by Popinns**",
           7.6,
           46.15412696,
           -1.14749925,
           "Situé à 150 mètres de la gare et à 300 mètres du Vieux Port, l'hôtel Les Gens de Mer se trouve à La Rochelle.\n\nInstallé dans une belle maison blanche qui date de 1950, l'établissement Les Gens de Mer propose 48 chambres confortables, dont 30 sont flambant neuves. Elles sont toutes disponibles à un prix raisonnable, tant pour une nuitée que pour une semaine.\n\nL'hôtel comprend 2 salles de réunions pour 15 et 50 personnes. L'équipe pourra organiser vos séminaires et repas de groupe sur demande.\n\nUne connexion Wi-Fi gratuite est disponible dans tout l'hôtel, qui se trouve à 100 mètres du nouveau palais des congrès et de l'aquarium.",
           "https://www.booking.com/hotel/fr/les-gens-de-mer-la-rochelle.fr.html?aid=304142&label=gen173nr-1FCAQoggJCEnNlYXJjaF9sYSByb2NoZWxsZUgNWARoTYgBAZgBDbgBCsgBBdgBAegBAfgBA4gCAagCA7gCpP7rqAbAAgHSAiQ3YzFjMTljZi05MDU0LTRiNjgtYWJhMy05NDY5Y2Q3NWFkNmHYAgXgAgE&ucfs=1&arphpl=1&group_adults=2&req_adults=2&no_rooms=1&group_children=0&req_children=0&hpos=5&hapos=5&sr_order=popularity&srpvid=9b817b92f4920376&srepoch=1696268070&from_sustainable_property_sr=1&from=searchresults"
          ],
          [
           "Vue exceptionnelle sur les Tours ! Charme et tranquillité",
           9.3,
           46.15358642,
           -1.15334766,
           "Situé dans le centre-ville de La Rochelle, à seulement 450 mètres de l'Espace Encan et de l'aquarium de La Rochelle, ainsi qu'à 2,5 km du parc des expositions de La Rochelle, l'établissement Vue exceptionnelle sur les Tours ! Charme et tranquillité propose un hébergement avec vue sur la mer et connexion Wi-Fi gratuite. Offrant également une vue sur la ville, il vous accueille à 2 km du port de plaisance des Minimes et à 700 mètres de la Grosse-Horloge de La Rochelle.\n\nCet appartement comprend un salon et 1 salle de bains. La cuisine est équipée d’un lave-vaisselle, d’un micro-ondes et d’une machine à café.\n\nVous pourrez également profiter d’une terrasse. Vous aurez la possibilité de faire du vélo et de partir en randonnée dans les environs.\n\nL’université de La Rochelle se trouve à 1,6 km du Vue exceptionnelle sur les Tours ! Charme et tranquillité. L’aéroport le plus proche, celui de La Rochelle-Île de Ré, est situé à 11 km.",
           "https://www.booking.com/hotel/fr/vue-exceptionnelle-sur-les-tours-charme-et-tranquillite-3-etoiles.fr.html?aid=304142&label=gen173nr-1FCAQoggJCEnNlYXJjaF9sYSByb2NoZWxsZUgNWARoTYgBAZgBDbgBCsgBBdgBAegBAfgBA4gCAagCA7gCpP7rqAbAAgHSAiQ3YzFjMTljZi05MDU0LTRiNjgtYWJhMy05NDY5Y2Q3NWFkNmHYAgXgAgE&ucfs=1&arphpl=1&group_adults=2&req_adults=2&no_rooms=1&group_children=0&req_children=0&hpos=25&hapos=25&sr_order=popularity&srpvid=9b817b92f4920376&srepoch=1696268070&from_sustainable_property_sr=1&from=searchresults"
          ],
          [
           "Charmant T2 * proche plage * parking gratuit",
           null,
           46.16441441,
           -1.20220818,
           "Charmant T2 * proche plage * parking gratuit is situated in La Rochelle, 6.9 km from Parc Expo de La Rochelle, 8.6 km from La Rochelle Train Station, and 4.5 km from La Rochelle Grosse Horloge. With free private parking, the property is 2.3 km from Chef de Baie and 6.6 km from L'Espace Encan.\n\nThe Minimes Marina is 8.7 km from the apartment, while Mytiliculture Museum is 14 km from the property. The nearest airport is La Rochelle - Ile de Re Airport, 2 km from Charmant T2 * proche plage * parking gratuit.",
           "https://www.booking.com/hotel/fr/charmant-t2-proche-plage-parking-gratuit.fr.html?aid=304142&label=gen173nr-1FCAQoggJCEnNlYXJjaF9sYSByb2NoZWxsZUgNWARoTYgBAZgBDbgBCsgBBdgBAegBAfgBA4gCAagCA7gCpP7rqAbAAgHSAiQ3YzFjMTljZi05MDU0LTRiNjgtYWJhMy05NDY5Y2Q3NWFkNmHYAgXgAgE&ucfs=1&arphpl=1&group_adults=2&req_adults=2&no_rooms=1&group_children=0&req_children=0&hpos=24&hapos=24&sr_order=popularity&srpvid=9b817b92f4920376&srepoch=1696268070&from=searchresults"
          ],
          [
           "Maison Caju - La Rochelle",
           9.3,
           46.15797733,
           -1.15580506,
           "Située à moins de 400 mètres du centre de La Rochelle, la Maison Caju - La Rochelle dispose d'une connexion Wi-Fi gratuite ainsi que d'une cuisine avec un lave-vaisselle, un four et un micro-ondes.\n\nTous les logements comprennent un grille-pain, un réfrigérateur, une machine à café, des plaques de cuisson et une bouilloire. Certains s'ouvrent sur une terrasse et/ou un balcon avec vue sur le jardin ou la ville.\n\nUn petit-déjeuner continental et végétarien est servi tous les matins sur place.\n\nLa Maison Caju - La Rochelle possède une aire de pique-nique. L'établissement propose un service de femme de chambre quotidien ainsi que des installations d'affaires telles qu'un fax et une photocopieuse.\n\nLa Maison Caju - La Rochelle assure un service de location de vélos. Par ailleurs, vous pourrez visiter les environs à pied.\n\nVous séjournerez à proximité de la Concurrence, de la gare de La Rochelle et de l'Espace Encan. L'aéroport le plus proche, celui de La Rochelle-Île de Ré, est situé à 4 km. Un service de navette aéroport peut être assuré moyennant des frais supplémentaires.",
           "https://www.booking.com/hotel/fr/maison-plume-la-rochelle.fr.html?aid=304142&label=gen173nr-1FCAQoggJCEnNlYXJjaF9sYSByb2NoZWxsZUgNWARoTYgBAZgBDbgBCsgBBdgBAegBAfgBA4gCAagCA7gCpP7rqAbAAgHSAiQ3YzFjMTljZi05MDU0LTRiNjgtYWJhMy05NDY5Y2Q3NWFkNmHYAgXgAgE&ucfs=1&arphpl=1&group_adults=2&req_adults=2&no_rooms=1&group_children=0&req_children=0&hpos=23&hapos=23&sr_order=popularity&srpvid=9b817b92f4920376&srepoch=1696268070&from_sustainable_property_sr=1&from=searchresults"
          ],
          [
           "Résidence Odalys Archipel",
           8.2,
           46.14985077,
           -1.15606009,
           "La Résidence Odalys Archipel vous accueille à La Rochelle, à seulement 1,4 km des plages, du port et du centre-ville. Elle propose des appartements entièrement meublés et équipés, une piscine extérieure chauffée, une salle de sport et une connexion Internet par fibre optique.\n\nTous les logements sont dotés d'une salle de bains privative, d'un salon, d'une kitchenette entièrement équipée, d'une télévision à écran LCD et d'une connexion Internet gratuite. Certains possèdent une terrasse ou un balcon, sous réserve de disponibilité.\n\nDes services de blanchisserie et de billetterie sont proposés à la Résidence Odalys Archipel. Un service de ménage quotidien est également disponible, moyennant des frais supplémentaires.\n\nLa Rochelle compte un grand nombre de sites et d'attractions, tels que le vieux port et le port de plaisance, la vieille ville, ainsi que plusieurs festivals d'art.",
           "https://www.booking.com/hotel/fr/appart-archipel.fr.html?aid=304142&label=gen173nr-1FCAQoggJCEnNlYXJjaF9sYSByb2NoZWxsZUgNWARoTYgBAZgBDbgBCsgBBdgBAegBAfgBA4gCAagCA7gCpP7rqAbAAgHSAiQ3YzFjMTljZi05MDU0LTRiNjgtYWJhMy05NDY5Y2Q3NWFkNmHYAgXgAgE&ucfs=1&arphpl=1&group_adults=2&req_adults=2&no_rooms=1&group_children=0&req_children=0&hpos=22&hapos=22&sr_order=popularity&srpvid=9b817b92f4920376&srepoch=1696268070&from_sustainable_property_sr=1&from=searchresults"
          ],
          [
           "Hôtel Le Rochelois",
           7.9,
           46.15418175,
           -1.18243652,
           "L'Hôtel Le Rochelois possède une piscine extérieure ouverte en saison et un court de tennis. La connexion Wi-Fi est gratuite dans l'ensemble de l'établissement. Une piscine d'hydromassage, un sauna et un hammam sont également disponibles moyennant des frais supplémentaires.\n\nLes chambres sont équipées d'une télévision à écran plat. Leur salle de bains privative est pourvue d'une douche à l'italienne ou d'une baignoire et de toilettes.\n\nLe petit-déjeuner continental quotidien est composé de viennoiseries, de fromages, de fruits, d’œufs, de céréales, de confitures, de jambon, de miel et de thé.\n\nL'Hôtel Le Rochelois se trouve à 5 km de la gare ferroviaire de La Rochelle. Un nombre limité de places de parking privées sont disponibles gratuitement sur place. Un parking privé souterrain est également accessible moyennant des frais supplémentaires.",
           "https://www.booking.com/hotel/fr/le-rochelois.fr.html?aid=304142&label=gen173nr-1FCAQoggJCEnNlYXJjaF9sYSByb2NoZWxsZUgNWARoTYgBAZgBDbgBCsgBBdgBAegBAfgBA4gCAagCA7gCpP7rqAbAAgHSAiQ3YzFjMTljZi05MDU0LTRiNjgtYWJhMy05NDY5Y2Q3NWFkNmHYAgXgAgE&ucfs=1&arphpl=1&group_adults=2&req_adults=2&no_rooms=1&group_children=0&req_children=0&hpos=21&hapos=21&sr_order=popularity&srpvid=9b817b92f4920376&srepoch=1696268070&from_sustainable_property_sr=1&from=searchresults"
          ],
          [
           "Hôtel Le Yachtman",
           8.3,
           46.15728365,
           -1.14996761,
           "Situé à La Rochelle, l'Hôtel Le Yachtman possède une piscine chauffée et une terrasse avec vue sur le port. Il propose des hébergements avec salle de bains privative à seulement 500 mètres de la gare.\n\nLes chambres du Yachtman comprennent toutes une télévision à écran plat et certaines possèdent un coin salon. Vous bénéficierez d'une connexion Wi-Fi gratuite sur place.\n\nVous pourrez prendre un verre au bar tout en lisant les journaux fournis par Le Yachtman. Un petit-déjeuner buffet composé de salade de fruits, de miel et de jus d'orange est servi chaque matin dans la salle à manger, qui offre une vue sur le vieux port.\n\nL'Hôtel Le Yachtman est proche de l'aquarium, des tours de La Rochelle et du centre-ville médiéval. Un parking privé payant est disponible à proximité.",
           "https://www.booking.com/hotel/fr/le-yachtman.fr.html?aid=304142&label=gen173nr-1FCAQoggJCEnNlYXJjaF9sYSByb2NoZWxsZUgNWARoTYgBAZgBDbgBCsgBBdgBAegBAfgBA4gCAagCA7gCpP7rqAbAAgHSAiQ3YzFjMTljZi05MDU0LTRiNjgtYWJhMy05NDY5Y2Q3NWFkNmHYAgXgAgE&ucfs=1&arphpl=1&group_adults=2&req_adults=2&no_rooms=1&group_children=0&req_children=0&hpos=20&hapos=20&sr_order=popularity&srpvid=9b817b92f4920376&srepoch=1696268070&from_sustainable_property_sr=1&from=searchresults"
          ],
          [
           "Lagrange Apart'Hotel l’Escale Marine",
           7.4,
           46.15107012,
           -1.15486329,
           "Le Lagrange Apart'Hotel l’Escale Marine vous accueille à La Rochelle, à côté du port des Minimes. Cette résidence possède une piscine couverte chauffée ainsi qu’un centre de bien-être. Elle est située à 5 minutes à pied de l’aquarium et du Vieux-Port.\n\nInsonorisés, tous les appartements et studios comprennent une connexion Wi-Fi gratuite, une kitchenette entièrement équipée munie d’un micro-ondes/four et une salle de bains privative. Tous les appartements et les suites sont accessibles par ascenseur.\n\nDes massages sont dispensés sur demande et moyennant des frais supplémentaires. Il se trouve à 1 km de la gare de La Rochelle Ville et à 8 km de l'aéroport de La Rochelle-île de Ré.",
           "https://www.booking.com/hotel/fr/l-escale-marine.fr.html?aid=304142&label=gen173nr-1FCAQoggJCEnNlYXJjaF9sYSByb2NoZWxsZUgNWARoTYgBAZgBDbgBCsgBBdgBAegBAfgBA4gCAagCA7gCpP7rqAbAAgHSAiQ3YzFjMTljZi05MDU0LTRiNjgtYWJhMy05NDY5Y2Q3NWFkNmHYAgXgAgE&ucfs=1&arphpl=1&group_adults=2&req_adults=2&no_rooms=1&group_children=0&req_children=0&hpos=4&hapos=4&sr_order=popularity&srpvid=9b817b92f4920376&srepoch=1696268070&from=searchresults"
          ],
          [
           "Hôtel Saint Nicolas",
           8.5,
           46.15813457,
           -1.14891277,
           "L’Hôtel Saint Nicolas vous accueille dans le quartier animé de Saint-Nicolas, à La Rochelle, à proximité de boutiques d’antiquités, de bars et de cafés. Cet établissement dispose d’une connexion Wi-Fi gratuite et d’une véranda agrémentée de grands canapés et de plantes tropicales.\n\nLes chambres sont toutes équipées de la climatisation et d’une télévision par satellite à écran plat recevant les chaînes du groupe Canal+. Les salles de bains privatives sont pourvues d'une douche ou d'une baignoire ainsi que d'un sèche-cheveux.\n\nChaque matin, vous pourrez savourer un petit-déjeuner buffet composé de plats chauds et froids dans la véranda. Vous pourrez également prendre un petit-déjeuner continental dans votre chambre. Le bar sur place sert du thé, du café et des boissons de la région.\n\nDes places de stationnement peuvent être réservées dans un parking privé et sécurisé, moyennant des frais supplémentaires et sous réserve de disponibilité. La hauteur maximale autorisée des véhicule est de 1,90 mètres et la largeur des places de stationnement est d'environ 2 mètres.\n\nVous séjournerez à 550 mètres de la tour Saint-Nicolas qui garde l’entrée du Vieux-Port. La gare de La Rochelle se trouve à 700 mètres.",
           "https://www.booking.com/hotel/fr/comforthotelsaintnicolas.fr.html?aid=304142&label=gen173nr-1FCAQoggJCEnNlYXJjaF9sYSByb2NoZWxsZUgNWARoTYgBAZgBDbgBCsgBBdgBAegBAfgBA4gCAagCA7gCpP7rqAbAAgHSAiQ3YzFjMTljZi05MDU0LTRiNjgtYWJhMy05NDY5Y2Q3NWFkNmHYAgXgAgE&ucfs=1&arphpl=1&group_adults=2&req_adults=2&no_rooms=1&group_children=0&req_children=0&hpos=3&hapos=3&sr_order=popularity&srpvid=9b817b92f4920376&srepoch=1696268070&from_sustainable_property_sr=1&from=searchresults"
          ],
          [
           "Appart'City Classic La Rochelle Centre",
           7.3,
           46.15844669,
           -1.14101171,
           "L’Appart'City Classic La Rochelle Centre se situe à 10 minutes à pied de la gare ferroviaire de La Rochelle ainsi qu'à 15 minutes du Vieux-Port et de la vieille ville. Il propose des hébergements contemporains avec un coin salon et une télévision à écran LCD.\n\nLes appartements et studios comprennent une connexion Wi-Fi disponible gratuitement. Certains logements comportent un balcon privé. Leur kitchenette est équipée d'un micro-ondes et d'un réfrigérateur.\n\nLa résidence propose un petit-déjeuner buffet composé de pains variés (notamment sans gluten), de viennoiseries ainsi que de boissons chaudes et froides. Des fruits frais, des fromages et des yaourts sont également servis. Vous pourrez acheter des boissons et des collations auprès de la réception.\n\nL’Appart'City met des parkings extérieur et souterrain à votre disposition. Vous séjournerez à 15 minutes en voiture de l’aéroport de La Rochelle-Île de Ré. Vous pourrez visiter l’île de Ré située à seulement 15 km.",
           "https://www.booking.com/hotel/fr/appart-city-cap-affaires-la-rochelle.fr.html?aid=304142&label=gen173nr-1FCAQoggJCEnNlYXJjaF9sYSByb2NoZWxsZUgNWARoTYgBAZgBDbgBCsgBBdgBAegBAfgBA4gCAagCA7gCpP7rqAbAAgHSAiQ3YzFjMTljZi05MDU0LTRiNjgtYWJhMy05NDY5Y2Q3NWFkNmHYAgXgAgE&ucfs=1&arphpl=1&group_adults=2&req_adults=2&no_rooms=1&group_children=0&req_children=0&hpos=2&hapos=2&sr_order=popularity&srpvid=9b817b92f4920376&srepoch=1696268070&from_sustainable_property_sr=1&from=searchresults"
          ],
          [
           "Hôtel Le Transatlantique - Lycée Hôtelier La Rochelle",
           8.7,
           46.143734,
           -1.160263,
           "Situé à La Rochelle, à 2,5 km du parc des expositions de la ville, l'établissement La Rochelle propose une connexion Wi-Fi gratuite.  Vous séjournerez à environ 5 km de la Grosse Horloge de La Rochelle, à 1,5 km du musée maritime de La Rochelle et à 1,8 km de l'aquarium de La Rochelle. Cet établissement non-fumeurs se trouve à 1,5 km de l'Espace Encan.\n\nLes chambres comprennent un bureau, une télévision à écran plat et une salle de bains privative. Toutes comprennent une armoire et une bouilloire.\n\nUn petit-déjeuner continental et à la carte est servi chaque matin au Lycée Hôtelier La Rochelle. Vous trouverez également 2 restaurants sur place proposant un menu du jour, où vous pourrez dîner sur réservation.\n\nVous séjournerez à proximité du port de plaisance des Minimes, du musée d'Automata et de l'université de La Rochelle. L'aéroport de La Rochelle-Île de Ré, le plus proche, est à 11 km.",
           "https://www.booking.com/hotel/fr/lycee-hotelier-la-rochelle.fr.html?aid=304142&label=gen173nr-1FCAQoggJCEnNlYXJjaF9sYSByb2NoZWxsZUgNWARoTYgBAZgBDbgBCsgBBdgBAegBAfgBA4gCAagCA7gCpP7rqAbAAgHSAiQ3YzFjMTljZi05MDU0LTRiNjgtYWJhMy05NDY5Y2Q3NWFkNmHYAgXgAgE&ucfs=1&arphpl=1&group_adults=2&req_adults=2&no_rooms=1&group_children=0&req_children=0&hpos=1&hapos=1&sr_order=popularity&srpvid=9b817b92f4920376&srepoch=1696268070&from=searchresults"
          ]
         ],
         "hovertemplate": "<b>%{hovertext}</b><br><br>hotel_score=%{customdata[1]}<extra></extra>",
         "hovertext": [
          "Villa l'Icône",
          "hotelF1 Marseille EST",
          "Mas de la Montille",
          "Hotel Le Bon Port",
          "Studio Canta la Mar - Vue exceptionnelle",
          "Appartement Collioure, 2 pièces, 2 personnes - FR-1-309-407",
          "Matisse studio in centre near beach w/ balcony, AC",
          "Ibanova Appartements",
          "Le Clos Saint Elme",
          "Hôtel des Templiers",
          "Les Suites de Collioure",
          "Les Jasmins",
          "Le Petit Colliourenc",
          "Hôtel la Bona Casa",
          "Appartement Collioure le haut",
          "La Chambre De Salome",
          "Residence Pierre & Vacances Les Balcons de Collioure",
          "Coquet 2 pièces au centre de Collioure",
          "Les Roches Brunes",
          "Le Madeloc Hôtel & Spa",
          "Résidence Saint Vincent",
          "Hôtel Princes de Catalogne",
          "Résidence du Soleil",
          "Hôtel Triton",
          "Hotel Méditerranée",
          "Hôtel La Casa Pairal",
          "La Frégate",
          "Le Mas des Citronniers",
          "rez de chaussée studio climatisé dans villa",
          "Maison Face aux Remparts",
          "Les suites du 17",
          "B&B La Terre Brûlée",
          "Hôtel-Restaurant \"Chez Carrière\"",
          "Hotel Des 4 Vents",
          "Belle marina avec ponton et piscine collective",
          "Studio azur",
          "AIGUES-MORTES - AGRÉABLE T.2 - (+ de 40m² )",
          "Maison Arthur",
          "Ô 36 Rempart Sud B&B",
          "Maison aigues-mortaise dans la cité",
          "Appartement charmant à deux pas des Remparts",
          "jolie app centre remparts patio",
          "Noemys Aigues-Mortes - ex Mona Lisa Royal Hôtel",
          "LE FLAMANT ROSE - COSYKAZ",
          "Résidence Odalys Fleur de Sel",
          "Maison des Croisades",
          "Hôtel Le Médiéval",
          "La Maison de Lyna",
          "La Villa Mazarin",
          "Hôtel Saint Louis",
          "Résidence Odalys Le Mas des Flamants",
          "Hotel Canal Aigues Mortes",
          "ibis budget Marseille Vieux Port",
          "Aparthotel Adagio Marseille Timone",
          "#LaFrenchCasa Belsunce",
          "LaFrenchCasa Clandestina",
          "JoliJoliette, terrasse, central, climatisé, WIFI , garage",
          "LaFrenchCasa Noailles",
          "City Résidence Marseille",
          "LE CHAVE",
          "Larachi",
          "PARADISE Earth & Sea",
          "Le building: 5 pax centre ville",
          "B&B HOTEL Marseille Prado Parc des Expositions",
          "Studio agreable au coeur du quartier historique",
          "Montempô Apparthôtel Marseille Centre Euromed",
          "Marseille appartement cocooning avec une chambre",
          "T1 rénové de 25m2 idéalement situé au panier",
          "Appart'City Confort Marseille Centre Prado Vélodrome",
          "Bel apt moderne et cosy pour 6 à Marseille by Weekome",
          "Montempô Marseille Centre Dôme",
          "T2 - Rue de la République - Cosy",
          "Toyoko INN Marseille Saint Charles",
          "Superbe T2 front de Mer",
          "Centre ville - vue panoramique",
          "Appartement Marseille centre Terrasse Vieux Port",
          "Best Western Plus Hôtel la Rade",
          "Home Cassis - Maison Mediterranée - Piscine chauffée",
          "Appartement Cassis Plage",
          "Villa Le Sud",
          "Rêves de vie Appt indépendant Figuerolles",
          "The Originals Boutique, Hôtel Cassitel, Cassis",
          "appartement du pêcheur à Cassis à 10 mètres du port",
          "Le Grand Large 2 par Dodo-a-Cassis",
          "Plein Soleil - 52m2 avec Terrasse Vue Mer Panoramique",
          "Villa Cassis",
          "Home Cassis - Maison Les Calanques - Piscine chauffée",
          "Eden Cassis - Centre Ville 2 chambres - Wifi - Cosy",
          "Cassis - Le Capucine, 4pers, terrasse, parking",
          "Hotel Le Golfe",
          "Cassis Ma Vie Là",
          "Panisse - Parking - Clim - Wifi",
          "MISTRAL Gagnant",
          "So'Conciergerie -Studio situé dans le centre ville",
          "Best Western Hotel & SPA Coeur De Cassis",
          "Studio Calme aux terrasses de Cassis",
          "Appart Bianca T2 - Terrasse - Parking - Calme - 1mn de la mer",
          "HPC Suites",
          "Le repaire de la Vierge bohème vue mer",
          "Chambre d'hôtes Clos du Petit Jésus",
          "Hôtel Le Rupella",
          "Hôtel Les Brises",
          "Résidence New Rochelle",
          "ATHOME RESIDENCE ET SPA",
          "Hôtel La Fabrique",
          "Hôtel François 1er",
          "Maisons du Monde Hôtel & Suites - La Rochelle Vieux Port",
          "Hotel de Paris",
          "Hôtel de l'Océan",
          "Hotel de La Paix",
          "Appartement aux Minimes Magnifique Vue Mer au pied de la Plage 50m2-2ch.",
          "Central Park Hôtel & Spa",
          "Hôtel La Monnaie Art & Spa",
          "Résidence Pierre & Vacances Centre",
          "Hôtel Les Gens de Mer La Rochelle by Popinns**",
          "Vue exceptionnelle sur les Tours ! Charme et tranquillité",
          "Charmant T2 * proche plage * parking gratuit",
          "Maison Caju - La Rochelle",
          "Résidence Odalys Archipel",
          "Hôtel Le Rochelois",
          "Hôtel Le Yachtman",
          "Lagrange Apart'Hotel l’Escale Marine",
          "Hôtel Saint Nicolas",
          "Appart'City Classic La Rochelle Centre",
          "Hôtel Le Transatlantique - Lycée Hôtelier La Rochelle"
         ],
         "lat": [
          43.21788357,
          43.294903,
          43.58386486,
          42.52411449,
          42.5244311,
          42.5240672,
          42.5270323,
          42.5231333,
          42.52328654,
          42.52666546,
          42.52439,
          42.5235481,
          42.52612488,
          42.52547153,
          42.52591317,
          42.5211169,
          42.52510633,
          42.5273872,
          42.52534777,
          42.52876467,
          42.52730095,
          42.52591431,
          42.52311754,
          42.52371617,
          42.52708254,
          42.52616733,
          42.52638625,
          42.52538159,
          43.5711637,
          43.5698277,
          43.566227,
          43.56197612,
          43.56651351,
          43.57702546,
          43.5750022,
          43.57253021,
          43.57256668,
          43.5659428,
          43.565764,
          43.5660137,
          43.56940344,
          43.566755,
          43.57639589,
          43.5715237,
          43.574094,
          43.5689974,
          43.57186625,
          43.5660175,
          43.56498662,
          43.56721967,
          43.57379435,
          43.57298752,
          43.29220856,
          43.2910567,
          43.29889641,
          43.3029349,
          43.3066308,
          43.2964729,
          43.29074564,
          43.294327,
          43.3054753,
          43.2933693,
          43.2974929,
          43.27951389,
          43.29937377,
          43.31580003,
          43.2986599,
          43.29946332,
          43.2798554,
          43.2953045,
          43.31371049,
          43.297804,
          43.304229,
          43.2883712,
          43.2852561,
          43.2974853,
          43.21522997,
          43.21977635,
          43.21212598,
          43.23304906,
          43.2273212,
          43.21370621,
          43.21534046,
          43.2116831,
          43.21635029,
          43.21150506,
          43.21183243,
          43.2140797,
          43.21724817,
          43.21443438,
          43.216905,
          43.2177957,
          43.21537,
          43.213898,
          43.21457326,
          43.2265539,
          43.207747,
          43.21644024,
          43.2148195,
          43.21524569,
          46.15817494,
          46.15345807,
          46.14068996,
          46.145995,
          46.156155,
          46.16091143,
          46.15619304,
          46.16196911,
          46.15701983,
          46.16193939,
          46.13976094,
          46.15891333,
          46.1563008,
          46.15576943,
          46.15412696,
          46.15358642,
          46.16441441,
          46.15797733,
          46.14985077,
          46.15418175,
          46.15728365,
          46.15107012,
          46.15813457,
          46.15844669,
          46.143734
         ],
         "legendgroup": "",
         "lon": [
          5.54760143,
          5.479747,
          4.23920989,
          3.08936566,
          3.09031585,
          3.0879529,
          3.0845335,
          3.0855761,
          3.0813629,
          3.08394089,
          3.082726,
          3.08187379,
          3.07560664,
          3.0826987,
          3.07578909,
          3.07730913,
          3.0904362,
          3.0823386,
          3.09032446,
          3.07865426,
          3.08423268,
          3.0826816,
          3.0854253,
          3.08713473,
          3.08026291,
          3.08235571,
          3.08325659,
          3.08256391,
          4.1976096,
          4.1896788,
          4.191121,
          4.20767969,
          4.19115815,
          4.19753909,
          4.1862674,
          4.18776083,
          4.18918148,
          4.1924,
          4.188757,
          4.1914995,
          4.19268907,
          4.1886383,
          4.19781804,
          4.1788991,
          4.179246,
          4.1882982,
          4.19366169,
          4.1923532,
          4.19175196,
          4.1893436,
          4.18062186,
          4.1948247,
          5.37355497,
          5.40434003,
          5.37866055,
          5.3785872,
          5.3709958,
          5.378766,
          5.41857183,
          5.3997749,
          5.3833832,
          5.376677,
          5.3803301,
          5.38918138,
          5.36790368,
          5.37297461,
          5.3680194,
          5.36923701,
          5.390496,
          5.3763499,
          5.40388192,
          5.3731598,
          5.376624,
          5.3533499,
          5.3913528,
          5.3813751,
          5.53369693,
          5.53745873,
          5.54519355,
          5.55305108,
          5.5330395,
          5.53895809,
          5.5368582,
          5.5451956,
          5.54406134,
          5.52610226,
          5.52470152,
          5.5431287,
          5.53626304,
          5.53529486,
          5.541446,
          5.5358322,
          5.53719,
          5.5391603,
          5.54014698,
          5.5368932,
          5.5221918,
          5.54174572,
          5.5349404,
          5.54466784,
          -1.15107,
          -1.17438644,
          -1.16616011,
          -1.152398,
          -1.148583,
          -1.15203694,
          -1.15443483,
          -1.1511746,
          -1.15412772,
          -1.15085542,
          -1.17146016,
          -1.16082335,
          -1.15810812,
          -1.14639223,
          -1.14749925,
          -1.15334766,
          -1.20220818,
          -1.15580506,
          -1.15606009,
          -1.18243652,
          -1.14996761,
          -1.15486329,
          -1.14891277,
          -1.14101171,
          -1.160263
         ],
         "marker": {
          "color": "#636efa"
         },
         "mode": "markers",
         "name": "",
         "showlegend": false,
         "subplot": "mapbox",
         "type": "scattermapbox"
        }
       ],
       "layout": {
        "autosize": false,
        "height": 500,
        "legend": {
         "tracegroupgap": 0
        },
        "mapbox": {
         "center": {
          "lat": 47,
          "lon": 2
         },
         "domain": {
          "x": [
           0,
           1
          ],
          "y": [
           0,
           1
          ]
         },
         "style": "open-street-map",
         "zoom": 4.8
        },
        "margin": {
         "b": 5,
         "l": 5,
         "r": 5,
         "t": 5
        },
        "template": {
         "data": {
          "bar": [
           {
            "error_x": {
             "color": "#2a3f5f"
            },
            "error_y": {
             "color": "#2a3f5f"
            },
            "marker": {
             "line": {
              "color": "#E5ECF6",
              "width": 0.5
             },
             "pattern": {
              "fillmode": "overlay",
              "size": 10,
              "solidity": 0.2
             }
            },
            "type": "bar"
           }
          ],
          "barpolar": [
           {
            "marker": {
             "line": {
              "color": "#E5ECF6",
              "width": 0.5
             },
             "pattern": {
              "fillmode": "overlay",
              "size": 10,
              "solidity": 0.2
             }
            },
            "type": "barpolar"
           }
          ],
          "carpet": [
           {
            "aaxis": {
             "endlinecolor": "#2a3f5f",
             "gridcolor": "white",
             "linecolor": "white",
             "minorgridcolor": "white",
             "startlinecolor": "#2a3f5f"
            },
            "baxis": {
             "endlinecolor": "#2a3f5f",
             "gridcolor": "white",
             "linecolor": "white",
             "minorgridcolor": "white",
             "startlinecolor": "#2a3f5f"
            },
            "type": "carpet"
           }
          ],
          "choropleth": [
           {
            "colorbar": {
             "outlinewidth": 0,
             "ticks": ""
            },
            "type": "choropleth"
           }
          ],
          "contour": [
           {
            "colorbar": {
             "outlinewidth": 0,
             "ticks": ""
            },
            "colorscale": [
             [
              0,
              "#0d0887"
             ],
             [
              0.1111111111111111,
              "#46039f"
             ],
             [
              0.2222222222222222,
              "#7201a8"
             ],
             [
              0.3333333333333333,
              "#9c179e"
             ],
             [
              0.4444444444444444,
              "#bd3786"
             ],
             [
              0.5555555555555556,
              "#d8576b"
             ],
             [
              0.6666666666666666,
              "#ed7953"
             ],
             [
              0.7777777777777778,
              "#fb9f3a"
             ],
             [
              0.8888888888888888,
              "#fdca26"
             ],
             [
              1,
              "#f0f921"
             ]
            ],
            "type": "contour"
           }
          ],
          "contourcarpet": [
           {
            "colorbar": {
             "outlinewidth": 0,
             "ticks": ""
            },
            "type": "contourcarpet"
           }
          ],
          "heatmap": [
           {
            "colorbar": {
             "outlinewidth": 0,
             "ticks": ""
            },
            "colorscale": [
             [
              0,
              "#0d0887"
             ],
             [
              0.1111111111111111,
              "#46039f"
             ],
             [
              0.2222222222222222,
              "#7201a8"
             ],
             [
              0.3333333333333333,
              "#9c179e"
             ],
             [
              0.4444444444444444,
              "#bd3786"
             ],
             [
              0.5555555555555556,
              "#d8576b"
             ],
             [
              0.6666666666666666,
              "#ed7953"
             ],
             [
              0.7777777777777778,
              "#fb9f3a"
             ],
             [
              0.8888888888888888,
              "#fdca26"
             ],
             [
              1,
              "#f0f921"
             ]
            ],
            "type": "heatmap"
           }
          ],
          "heatmapgl": [
           {
            "colorbar": {
             "outlinewidth": 0,
             "ticks": ""
            },
            "colorscale": [
             [
              0,
              "#0d0887"
             ],
             [
              0.1111111111111111,
              "#46039f"
             ],
             [
              0.2222222222222222,
              "#7201a8"
             ],
             [
              0.3333333333333333,
              "#9c179e"
             ],
             [
              0.4444444444444444,
              "#bd3786"
             ],
             [
              0.5555555555555556,
              "#d8576b"
             ],
             [
              0.6666666666666666,
              "#ed7953"
             ],
             [
              0.7777777777777778,
              "#fb9f3a"
             ],
             [
              0.8888888888888888,
              "#fdca26"
             ],
             [
              1,
              "#f0f921"
             ]
            ],
            "type": "heatmapgl"
           }
          ],
          "histogram": [
           {
            "marker": {
             "pattern": {
              "fillmode": "overlay",
              "size": 10,
              "solidity": 0.2
             }
            },
            "type": "histogram"
           }
          ],
          "histogram2d": [
           {
            "colorbar": {
             "outlinewidth": 0,
             "ticks": ""
            },
            "colorscale": [
             [
              0,
              "#0d0887"
             ],
             [
              0.1111111111111111,
              "#46039f"
             ],
             [
              0.2222222222222222,
              "#7201a8"
             ],
             [
              0.3333333333333333,
              "#9c179e"
             ],
             [
              0.4444444444444444,
              "#bd3786"
             ],
             [
              0.5555555555555556,
              "#d8576b"
             ],
             [
              0.6666666666666666,
              "#ed7953"
             ],
             [
              0.7777777777777778,
              "#fb9f3a"
             ],
             [
              0.8888888888888888,
              "#fdca26"
             ],
             [
              1,
              "#f0f921"
             ]
            ],
            "type": "histogram2d"
           }
          ],
          "histogram2dcontour": [
           {
            "colorbar": {
             "outlinewidth": 0,
             "ticks": ""
            },
            "colorscale": [
             [
              0,
              "#0d0887"
             ],
             [
              0.1111111111111111,
              "#46039f"
             ],
             [
              0.2222222222222222,
              "#7201a8"
             ],
             [
              0.3333333333333333,
              "#9c179e"
             ],
             [
              0.4444444444444444,
              "#bd3786"
             ],
             [
              0.5555555555555556,
              "#d8576b"
             ],
             [
              0.6666666666666666,
              "#ed7953"
             ],
             [
              0.7777777777777778,
              "#fb9f3a"
             ],
             [
              0.8888888888888888,
              "#fdca26"
             ],
             [
              1,
              "#f0f921"
             ]
            ],
            "type": "histogram2dcontour"
           }
          ],
          "mesh3d": [
           {
            "colorbar": {
             "outlinewidth": 0,
             "ticks": ""
            },
            "type": "mesh3d"
           }
          ],
          "parcoords": [
           {
            "line": {
             "colorbar": {
              "outlinewidth": 0,
              "ticks": ""
             }
            },
            "type": "parcoords"
           }
          ],
          "pie": [
           {
            "automargin": true,
            "type": "pie"
           }
          ],
          "scatter": [
           {
            "fillpattern": {
             "fillmode": "overlay",
             "size": 10,
             "solidity": 0.2
            },
            "type": "scatter"
           }
          ],
          "scatter3d": [
           {
            "line": {
             "colorbar": {
              "outlinewidth": 0,
              "ticks": ""
             }
            },
            "marker": {
             "colorbar": {
              "outlinewidth": 0,
              "ticks": ""
             }
            },
            "type": "scatter3d"
           }
          ],
          "scattercarpet": [
           {
            "marker": {
             "colorbar": {
              "outlinewidth": 0,
              "ticks": ""
             }
            },
            "type": "scattercarpet"
           }
          ],
          "scattergeo": [
           {
            "marker": {
             "colorbar": {
              "outlinewidth": 0,
              "ticks": ""
             }
            },
            "type": "scattergeo"
           }
          ],
          "scattergl": [
           {
            "marker": {
             "colorbar": {
              "outlinewidth": 0,
              "ticks": ""
             }
            },
            "type": "scattergl"
           }
          ],
          "scattermapbox": [
           {
            "marker": {
             "colorbar": {
              "outlinewidth": 0,
              "ticks": ""
             }
            },
            "type": "scattermapbox"
           }
          ],
          "scatterpolar": [
           {
            "marker": {
             "colorbar": {
              "outlinewidth": 0,
              "ticks": ""
             }
            },
            "type": "scatterpolar"
           }
          ],
          "scatterpolargl": [
           {
            "marker": {
             "colorbar": {
              "outlinewidth": 0,
              "ticks": ""
             }
            },
            "type": "scatterpolargl"
           }
          ],
          "scatterternary": [
           {
            "marker": {
             "colorbar": {
              "outlinewidth": 0,
              "ticks": ""
             }
            },
            "type": "scatterternary"
           }
          ],
          "surface": [
           {
            "colorbar": {
             "outlinewidth": 0,
             "ticks": ""
            },
            "colorscale": [
             [
              0,
              "#0d0887"
             ],
             [
              0.1111111111111111,
              "#46039f"
             ],
             [
              0.2222222222222222,
              "#7201a8"
             ],
             [
              0.3333333333333333,
              "#9c179e"
             ],
             [
              0.4444444444444444,
              "#bd3786"
             ],
             [
              0.5555555555555556,
              "#d8576b"
             ],
             [
              0.6666666666666666,
              "#ed7953"
             ],
             [
              0.7777777777777778,
              "#fb9f3a"
             ],
             [
              0.8888888888888888,
              "#fdca26"
             ],
             [
              1,
              "#f0f921"
             ]
            ],
            "type": "surface"
           }
          ],
          "table": [
           {
            "cells": {
             "fill": {
              "color": "#EBF0F8"
             },
             "line": {
              "color": "white"
             }
            },
            "header": {
             "fill": {
              "color": "#C8D4E3"
             },
             "line": {
              "color": "white"
             }
            },
            "type": "table"
           }
          ]
         },
         "layout": {
          "annotationdefaults": {
           "arrowcolor": "#2a3f5f",
           "arrowhead": 0,
           "arrowwidth": 1
          },
          "autotypenumbers": "strict",
          "coloraxis": {
           "colorbar": {
            "outlinewidth": 0,
            "ticks": ""
           }
          },
          "colorscale": {
           "diverging": [
            [
             0,
             "#8e0152"
            ],
            [
             0.1,
             "#c51b7d"
            ],
            [
             0.2,
             "#de77ae"
            ],
            [
             0.3,
             "#f1b6da"
            ],
            [
             0.4,
             "#fde0ef"
            ],
            [
             0.5,
             "#f7f7f7"
            ],
            [
             0.6,
             "#e6f5d0"
            ],
            [
             0.7,
             "#b8e186"
            ],
            [
             0.8,
             "#7fbc41"
            ],
            [
             0.9,
             "#4d9221"
            ],
            [
             1,
             "#276419"
            ]
           ],
           "sequential": [
            [
             0,
             "#0d0887"
            ],
            [
             0.1111111111111111,
             "#46039f"
            ],
            [
             0.2222222222222222,
             "#7201a8"
            ],
            [
             0.3333333333333333,
             "#9c179e"
            ],
            [
             0.4444444444444444,
             "#bd3786"
            ],
            [
             0.5555555555555556,
             "#d8576b"
            ],
            [
             0.6666666666666666,
             "#ed7953"
            ],
            [
             0.7777777777777778,
             "#fb9f3a"
            ],
            [
             0.8888888888888888,
             "#fdca26"
            ],
            [
             1,
             "#f0f921"
            ]
           ],
           "sequentialminus": [
            [
             0,
             "#0d0887"
            ],
            [
             0.1111111111111111,
             "#46039f"
            ],
            [
             0.2222222222222222,
             "#7201a8"
            ],
            [
             0.3333333333333333,
             "#9c179e"
            ],
            [
             0.4444444444444444,
             "#bd3786"
            ],
            [
             0.5555555555555556,
             "#d8576b"
            ],
            [
             0.6666666666666666,
             "#ed7953"
            ],
            [
             0.7777777777777778,
             "#fb9f3a"
            ],
            [
             0.8888888888888888,
             "#fdca26"
            ],
            [
             1,
             "#f0f921"
            ]
           ]
          },
          "colorway": [
           "#636efa",
           "#EF553B",
           "#00cc96",
           "#ab63fa",
           "#FFA15A",
           "#19d3f3",
           "#FF6692",
           "#B6E880",
           "#FF97FF",
           "#FECB52"
          ],
          "font": {
           "color": "#2a3f5f"
          },
          "geo": {
           "bgcolor": "white",
           "lakecolor": "white",
           "landcolor": "#E5ECF6",
           "showlakes": true,
           "showland": true,
           "subunitcolor": "white"
          },
          "hoverlabel": {
           "align": "left"
          },
          "hovermode": "closest",
          "mapbox": {
           "style": "light"
          },
          "paper_bgcolor": "white",
          "plot_bgcolor": "#E5ECF6",
          "polar": {
           "angularaxis": {
            "gridcolor": "white",
            "linecolor": "white",
            "ticks": ""
           },
           "bgcolor": "#E5ECF6",
           "radialaxis": {
            "gridcolor": "white",
            "linecolor": "white",
            "ticks": ""
           }
          },
          "scene": {
           "xaxis": {
            "backgroundcolor": "#E5ECF6",
            "gridcolor": "white",
            "gridwidth": 2,
            "linecolor": "white",
            "showbackground": true,
            "ticks": "",
            "zerolinecolor": "white"
           },
           "yaxis": {
            "backgroundcolor": "#E5ECF6",
            "gridcolor": "white",
            "gridwidth": 2,
            "linecolor": "white",
            "showbackground": true,
            "ticks": "",
            "zerolinecolor": "white"
           },
           "zaxis": {
            "backgroundcolor": "#E5ECF6",
            "gridcolor": "white",
            "gridwidth": 2,
            "linecolor": "white",
            "showbackground": true,
            "ticks": "",
            "zerolinecolor": "white"
           }
          },
          "shapedefaults": {
           "line": {
            "color": "#2a3f5f"
           }
          },
          "ternary": {
           "aaxis": {
            "gridcolor": "white",
            "linecolor": "white",
            "ticks": ""
           },
           "baxis": {
            "gridcolor": "white",
            "linecolor": "white",
            "ticks": ""
           },
           "bgcolor": "#E5ECF6",
           "caxis": {
            "gridcolor": "white",
            "linecolor": "white",
            "ticks": ""
           }
          },
          "title": {
           "x": 0.05
          },
          "xaxis": {
           "automargin": true,
           "gridcolor": "white",
           "linecolor": "white",
           "ticks": "",
           "title": {
            "standoff": 15
           },
           "zerolinecolor": "white",
           "zerolinewidth": 2
          },
          "yaxis": {
           "automargin": true,
           "gridcolor": "white",
           "linecolor": "white",
           "ticks": "",
           "title": {
            "standoff": 15
           },
           "zerolinecolor": "white",
           "zerolinewidth": 2
          }
         }
        },
        "width": 800
       }
      }
     },
     "metadata": {},
     "output_type": "display_data"
    }
   ],
   "source": [
    "top_five = list(best_weather_df['destination'][:5])\n",
    "mask = hotels['destination'].isin(top_five)\n",
    "top_five_hotels = hotels[mask]\n",
    "\n",
    "fig = px.scatter_mapbox(top_five_hotels, lat=\"latitude\", lon=\"longitude\",mapbox_style=\"open-street-map\",hover_name=\"hotel_name\",\\\n",
    "                        hover_data={'hotel_name': False,\t'hotel_score': True,\t'latitude': False,\t'longitude': False,\t'description': False,\t'url': False})\n",
    "\n",
    "fig.update_layout(mapbox_style='open-street-map',\n",
    "                  mapbox_zoom = 4.8,\n",
    "                  mapbox_center_lat= 47,\n",
    "                  mapbox_center_lon= 2,\n",
    "                  margin={\"r\": 5, \"t\": 5, \"l\": 5, \"b\": 5},\n",
    "                  autosize=False,\n",
    "                  width=800,\n",
    "                  height=500)"
   ]
  },
  {
   "cell_type": "code",
   "execution_count": null,
   "metadata": {},
   "outputs": [],
   "source": []
  }
 ],
 "metadata": {
  "kernelspec": {
   "display_name": "Python 3",
   "language": "python",
   "name": "python3"
  },
  "language_info": {
   "codemirror_mode": {
    "name": "ipython",
    "version": 3
   },
   "file_extension": ".py",
   "mimetype": "text/x-python",
   "name": "python",
   "nbconvert_exporter": "python",
   "pygments_lexer": "ipython3",
   "version": "3.10.12"
  },
  "orig_nbformat": 4
 },
 "nbformat": 4,
 "nbformat_minor": 2
}
